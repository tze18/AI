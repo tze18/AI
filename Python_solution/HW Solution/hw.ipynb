{
 "cells": [
  {
   "cell_type": "code",
   "execution_count": 7,
   "metadata": {},
   "outputs": [
    {
     "name": "stdout",
     "output_type": "stream",
     "text": [
      "8\n",
      "8\n",
      "8\n"
     ]
    }
   ],
   "source": [
    "import numpy as np\n",
    "import pandas as pd\n",
    "import matplotlib.pyplot as plt\n",
    "series1 = pd.Series([11,22,33])\n",
    "a=np.array([1,2,3,4])\n",
    "print(a.itemsize)\n",
    " \n",
    "b=np.array([1.1,2.,3.,4.])\n",
    "print(b.itemsize)\n",
    " \n",
    "c=np.array([1.1,2,3,4],dtype=float)\n",
    "print(c.itemsize)"
   ]
  },
  {
   "cell_type": "code",
   "execution_count": 8,
   "metadata": {},
   "outputs": [
    {
     "name": "stdout",
     "output_type": "stream",
     "text": [
      "int64\n",
      "8\n",
      "float64\n",
      "8\n",
      "float64\n",
      "16\n",
      "<U21\n",
      "84\n"
     ]
    }
   ],
   "source": [
    "import numpy as np\n",
    "a=np.array([a,a,a])\n",
    "print(a.dtype)\n",
    "print(a.itemsize)\n",
    " \n",
    "b=np.array([1.,2.,3.,4.])\n",
    "print(b.dtype)\n",
    "print(b.itemsize)\n",
    " \n",
    "c=np.array([1,4],dtype=float)\n",
    "print(c.dtype)\n",
    "print(c.nbytes)\n",
    "\n",
    "d=np.array([1,2,'2'])\n",
    "print(d.dtype)\n",
    "print(d.itemsize)"
   ]
  },
  {
   "cell_type": "code",
   "execution_count": 9,
   "metadata": {},
   "outputs": [
    {
     "name": "stdout",
     "output_type": "stream",
     "text": [
      "id\n",
      "0    11\n",
      "1    22\n",
      "2    33\n",
      "Name: Chi, dtype: int64\n"
     ]
    }
   ],
   "source": [
    "series1.index.name='id'\n",
    "series1.name='Chi'\n",
    "print(series1)"
   ]
  },
  {
   "cell_type": "code",
   "execution_count": 10,
   "metadata": {},
   "outputs": [
    {
     "name": "stdout",
     "output_type": "stream",
     "text": [
      "a     80\n",
      "b     90\n",
      "c    100\n",
      "Name: Chi Scores, dtype: int64\n"
     ]
    }
   ],
   "source": [
    "series1 = pd.Series([80,90, 100], index=['a','b','c'], name='Chi Scores')\n",
    "print(series1)"
   ]
  },
  {
   "cell_type": "code",
   "execution_count": 11,
   "metadata": {},
   "outputs": [
    {
     "name": "stdout",
     "output_type": "stream",
     "text": [
      "a    160\n",
      "b    180\n",
      "c    200\n",
      "Name: Chi Scores, dtype: int64\n",
      "a    False\n",
      "b     True\n",
      "c     True\n",
      "Name: Chi Scores, dtype: bool\n",
      "b     90\n",
      "c    100\n",
      "Name: Chi Scores, dtype: int64\n"
     ]
    }
   ],
   "source": [
    "print(series1*2)\n",
    "print(series1 >= 90)\n",
    "print(series1[series1>=90])(回傳True ,才會丟值出來)"
   ]
  },
  {
   "cell_type": "code",
   "execution_count": 12,
   "metadata": {},
   "outputs": [
    {
     "name": "stdout",
     "output_type": "stream",
     "text": [
      "a    160.0\n",
      "b    160.0\n",
      "c    200.0\n",
      "d      NaN\n",
      "dtype: float64\n"
     ]
    }
   ],
   "source": [
    "series2 = pd.Series([80,70, 100,99], index=['a','b','c','d'], name='Eng Scores')\n",
    "print(series1 + series2)"
   ]
  },
  {
   "cell_type": "code",
   "execution_count": null,
   "metadata": {},
   "outputs": [],
   "source": []
  }
 ],
 "metadata": {
  "kernelspec": {
   "display_name": "Python 3",
   "language": "python",
   "name": "python3"
  },
  "language_info": {
   "codemirror_mode": {
    "name": "ipython",
    "version": 3
   },
   "file_extension": ".py",
   "mimetype": "text/x-python",
   "name": "python",
   "nbconvert_exporter": "python",
   "pygments_lexer": "ipython3",
   "version": "3.7.2"
  }
 },
 "nbformat": 4,
 "nbformat_minor": 2
}
