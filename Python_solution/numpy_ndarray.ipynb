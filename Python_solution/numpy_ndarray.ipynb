{
 "cells": [
  {
   "cell_type": "code",
   "execution_count": 390,
   "metadata": {},
   "outputs": [],
   "source": [
    "import numpy as np\n",
    "import pandas as pd"
   ]
  },
  {
   "cell_type": "code",
   "execution_count": 333,
   "metadata": {},
   "outputs": [
    {
     "name": "stdout",
     "output_type": "stream",
     "text": [
      "[ 1  2  3  4  5  6  7  8  9 10] <class 'numpy.ndarray'> 2\n"
     ]
    }
   ],
   "source": [
    "import numpy as np\n",
    "import bisect\n",
    "import matplotlib.pyplot as plt\n",
    "# region Create ndarray\n",
    "arr = np.array([1,2,3,4,5,6,7,8,9,10])\n",
    "print(arr, type(arr), arr[1])   # Note: np array ouput 元素之間沒有逗號  [ 1  2  3  4  5  6  7  8  9 10]"
   ]
  },
  {
   "cell_type": "code",
   "execution_count": 207,
   "metadata": {},
   "outputs": [
    {
     "name": "stdout",
     "output_type": "stream",
     "text": [
      "int64 1 (10,) <class 'tuple'>\n"
     ]
    }
   ],
   "source": [
    "# 常用屬性 shape 很重要 -Tuple\n",
    "print (arr.dtype, arr.ndim, arr.shape, type(arr.shape))\n",
    "# print(arr.size, arr.itemsize, arr.nbytes)"
   ]
  },
  {
   "cell_type": "code",
   "execution_count": 208,
   "metadata": {},
   "outputs": [
    {
     "name": "stdout",
     "output_type": "stream",
     "text": [
      "(4, 5, 64)\n"
     ]
    }
   ],
   "source": [
    "tup=4,5,6\n",
    "tup=tuple([4,5,64])\n",
    "print(tup)"
   ]
  },
  {
   "cell_type": "code",
   "execution_count": 209,
   "metadata": {},
   "outputs": [
    {
     "data": {
      "text/plain": [
       "'l'"
      ]
     },
     "execution_count": 209,
     "metadata": {},
     "output_type": "execute_result"
    }
   ],
   "source": [
    "tup=tuple('apple')\n",
    "tup[3]\n"
   ]
  },
  {
   "cell_type": "code",
   "execution_count": 210,
   "metadata": {},
   "outputs": [
    {
     "name": "stdout",
     "output_type": "stream",
     "text": [
      "('foo', [12, 23], [33, 3, 31, 10], True)\n"
     ]
    }
   ],
   "source": [
    "tup = tuple(['foo',[12,23],[33,3,31],True])\n",
    "tup[2].append(10)\n",
    "print(tup)"
   ]
  },
  {
   "cell_type": "code",
   "execution_count": 211,
   "metadata": {},
   "outputs": [
    {
     "data": {
      "text/plain": [
       "(4,\n",
       " None,\n",
       " 'fff',\n",
       " 4,\n",
       " None,\n",
       " 'fff',\n",
       " 4,\n",
       " None,\n",
       " 'fff',\n",
       " 4,\n",
       " None,\n",
       " 'fff',\n",
       " 4,\n",
       " None,\n",
       " 'fff',\n",
       " 4,\n",
       " None,\n",
       " 'fff',\n",
       " 4,\n",
       " None,\n",
       " 'fff',\n",
       " 4,\n",
       " None,\n",
       " 'fff',\n",
       " 6,\n",
       " 5,\n",
       " 'bar')"
      ]
     },
     "execution_count": 211,
     "metadata": {},
     "output_type": "execute_result"
    }
   ],
   "source": [
    "(4,None,'fff')*8+(6,5)+('bar',)"
   ]
  },
  {
   "cell_type": "code",
   "execution_count": 212,
   "metadata": {
    "scrolled": true
   },
   "outputs": [
    {
     "data": {
      "text/plain": [
       "0"
      ]
     },
     "execution_count": 212,
     "metadata": {},
     "output_type": "execute_result"
    }
   ],
   "source": [
    "tup=(4,7,6),8,0\n",
    "(a,b,c),d,f=tup\n",
    "f "
   ]
  },
  {
   "cell_type": "code",
   "execution_count": 213,
   "metadata": {},
   "outputs": [
    {
     "data": {
      "text/plain": [
       "4"
      ]
     },
     "execution_count": 213,
     "metadata": {},
     "output_type": "execute_result"
    }
   ],
   "source": [
    "tmp=a\n",
    "a=b\n",
    "b=tmp\n",
    "b"
   ]
  },
  {
   "cell_type": "code",
   "execution_count": 214,
   "metadata": {},
   "outputs": [
    {
     "name": "stdout",
     "output_type": "stream",
     "text": [
      "[3, 4, 5, 6]\n"
     ]
    }
   ],
   "source": [
    "values=1,2,3,4,5,6\n",
    "a,b, *rest =values\n",
    "a,b\n",
    "rest\n",
    "a,b,*_=values\n",
    "print(_)"
   ]
  },
  {
   "cell_type": "code",
   "execution_count": 215,
   "metadata": {},
   "outputs": [
    {
     "data": {
      "text/plain": [
       "3"
      ]
     },
     "execution_count": 215,
     "metadata": {},
     "output_type": "execute_result"
    }
   ],
   "source": [
    "a=(1,1,1,1,2,2,2,4,4,4,4,4,)\n",
    "a.count(2)"
   ]
  },
  {
   "cell_type": "code",
   "execution_count": 216,
   "metadata": {},
   "outputs": [
    {
     "data": {
      "text/plain": [
       "['aaa', 'vvv', 'eee', 'yyy', 'uuu']"
      ]
     },
     "execution_count": 216,
     "metadata": {},
     "output_type": "execute_result"
    }
   ],
   "source": [
    "a_list=[2,3,4,5,6]\n",
    "tup=('aaa','vvv','eee','yyy','uuu')\n",
    "b_list=list(tup)\n",
    "# b_list=['foo','voo','ree']\n",
    "b_list\n",
    "\n"
   ]
  },
  {
   "cell_type": "code",
   "execution_count": 217,
   "metadata": {},
   "outputs": [
    {
     "data": {
      "text/plain": [
       "[0, 1, 2, 3, 4, 5, 6, 7, 8, 9]"
      ]
     },
     "execution_count": 217,
     "metadata": {},
     "output_type": "execute_result"
    }
   ],
   "source": [
    "gen=range(10)\n",
    "list(gen)"
   ]
  },
  {
   "cell_type": "code",
   "execution_count": 218,
   "metadata": {},
   "outputs": [
    {
     "data": {
      "text/plain": [
       "['aaa', 'vvv', 'eee', 'yyy', 'uuu', 'pppp']"
      ]
     },
     "execution_count": 218,
     "metadata": {},
     "output_type": "execute_result"
    }
   ],
   "source": [
    "b_list.append('pppp')\n",
    "b_list"
   ]
  },
  {
   "cell_type": "code",
   "execution_count": 219,
   "metadata": {},
   "outputs": [
    {
     "data": {
      "text/plain": [
       "['aaa', 'red', 'vvv', 'eee', 'yyy', 'uuu', 'pppp']"
      ]
     },
     "execution_count": 219,
     "metadata": {},
     "output_type": "execute_result"
    }
   ],
   "source": [
    "b_list.insert(1,'red')\n",
    "b_list"
   ]
  },
  {
   "cell_type": "code",
   "execution_count": 220,
   "metadata": {},
   "outputs": [
    {
     "data": {
      "text/plain": [
       "['aaa', 'vvv', 'eee', 'yyy', 'uuu', 'pppp']"
      ]
     },
     "execution_count": 220,
     "metadata": {},
     "output_type": "execute_result"
    }
   ],
   "source": [
    "b_list.pop(1)\n",
    "b_list"
   ]
  },
  {
   "cell_type": "code",
   "execution_count": 221,
   "metadata": {},
   "outputs": [
    {
     "data": {
      "text/plain": [
       "False"
      ]
     },
     "execution_count": 221,
     "metadata": {},
     "output_type": "execute_result"
    }
   ],
   "source": [
    "\"vvv\" not in b_list"
   ]
  },
  {
   "cell_type": "code",
   "execution_count": 222,
   "metadata": {},
   "outputs": [
    {
     "data": {
      "text/plain": [
       "[4, 5, 'fff', 4, 2, (3, 'z')]"
      ]
     },
     "execution_count": 222,
     "metadata": {},
     "output_type": "execute_result"
    }
   ],
   "source": [
    "[4,5,'fff']+[4,2,(3,\"z\")]"
   ]
  },
  {
   "cell_type": "code",
   "execution_count": 223,
   "metadata": {},
   "outputs": [
    {
     "name": "stdout",
     "output_type": "stream",
     "text": [
      "[33, 66, 77, 3, 3, 3, 5] <class 'list'>\n"
     ]
    }
   ],
   "source": [
    "x=[33,66,77]\n",
    "x.extend([3,3,3,5])\n",
    "print(x,type(x))"
   ]
  },
  {
   "cell_type": "code",
   "execution_count": 224,
   "metadata": {},
   "outputs": [
    {
     "name": "stdout",
     "output_type": "stream",
     "text": [
      "['aaa', 'vvv', 'eee', 'yyy', 'pppp']\n"
     ]
    }
   ],
   "source": [
    "b_list.pop(4)\n",
    "print(b_list)"
   ]
  },
  {
   "cell_type": "code",
   "execution_count": 225,
   "metadata": {},
   "outputs": [
    {
     "name": "stdout",
     "output_type": "stream",
     "text": [
      "['vvv', 'eee', 'yyy', 'pppp']\n"
     ]
    }
   ],
   "source": [
    "b_list.remove('aaa')\n",
    "print(b_list)"
   ]
  },
  {
   "cell_type": "code",
   "execution_count": 226,
   "metadata": {},
   "outputs": [],
   "source": [
    "\n",
    "# everything=[12342]\n",
    "# for e in b_list:\n",
    "#     everything.extend(e)\n",
    "# print(everything)"
   ]
  },
  {
   "cell_type": "code",
   "execution_count": 227,
   "metadata": {},
   "outputs": [
    {
     "data": {
      "text/plain": [
       "[1, 2, 3, 4, 5, 7]"
      ]
     },
     "execution_count": 227,
     "metadata": {},
     "output_type": "execute_result"
    }
   ],
   "source": [
    "a=[7,1,2,3,4,5]\n",
    "a.sort()\n",
    "a\n"
   ]
  },
  {
   "cell_type": "code",
   "execution_count": 228,
   "metadata": {},
   "outputs": [
    {
     "data": {
      "text/plain": [
       "['a', 'aa', 'ccc', 'eeee', 'vv', 'z']"
      ]
     },
     "execution_count": 228,
     "metadata": {},
     "output_type": "execute_result"
    }
   ],
   "source": [
    "b=['z','aa','vv','ccc','a','eeee']\n",
    "b.sort()\n",
    "b"
   ]
  },
  {
   "cell_type": "code",
   "execution_count": 229,
   "metadata": {},
   "outputs": [
    {
     "data": {
      "text/plain": [
       "['', 'a', 'aa', 'vv', 'ccc', 'eeee']"
      ]
     },
     "execution_count": 229,
     "metadata": {},
     "output_type": "execute_result"
    }
   ],
   "source": [
    "b=['a','aa','vv','ccc','','eeee']\n",
    "b.sort(key=len)\n",
    "b"
   ]
  },
  {
   "cell_type": "code",
   "execution_count": 230,
   "metadata": {},
   "outputs": [
    {
     "data": {
      "text/plain": [
       "[1, 2, 2, 2, 3, 9, 10]"
      ]
     },
     "execution_count": 230,
     "metadata": {},
     "output_type": "execute_result"
    }
   ],
   "source": [
    "c =[1,2,2,2,3,9]\n",
    "# bisect.bisect(c,8)\n",
    "bisect.insort(c,10)\n",
    "c"
   ]
  },
  {
   "cell_type": "code",
   "execution_count": 231,
   "metadata": {},
   "outputs": [
    {
     "data": {
      "text/plain": [
       "[1, 5, 8]"
      ]
     },
     "execution_count": 231,
     "metadata": {},
     "output_type": "execute_result"
    }
   ],
   "source": [
    "sqe=[1,2,3,4,5,6,7]\n",
    "sqe[1:]=[5,8]\n",
    "sqe"
   ]
  },
  {
   "cell_type": "code",
   "execution_count": 232,
   "metadata": {},
   "outputs": [
    {
     "data": {
      "text/plain": [
       "[7, 5, 3, 1]"
      ]
     },
     "execution_count": 232,
     "metadata": {},
     "output_type": "execute_result"
    }
   ],
   "source": [
    "sqe=[1,2,3,4,5,6,7]\n",
    "sqe[::-2]"
   ]
  },
  {
   "cell_type": "code",
   "execution_count": 233,
   "metadata": {},
   "outputs": [
    {
     "name": "stdout",
     "output_type": "stream",
     "text": [
      "hll\n"
     ]
    }
   ],
   "source": [
    "print('helilo'[:: 2])"
   ]
  },
  {
   "cell_type": "code",
   "execution_count": 234,
   "metadata": {},
   "outputs": [
    {
     "data": {
      "text/plain": [
       "{'boeo': 0, 'aeoo': 1, '/3': 2, 'coeo': 3}"
      ]
     },
     "execution_count": 234,
     "metadata": {},
     "output_type": "execute_result"
    }
   ],
   "source": [
    "\n",
    "s_list=[\"boeo\",\"aeoo\",'/3',\"coeo\"]\n",
    "mapping={}\n",
    "for i ,v in enumerate(s_list):\n",
    "        mapping[v]= i\n",
    "mapping"
   ]
  },
  {
   "cell_type": "code",
   "execution_count": 235,
   "metadata": {},
   "outputs": [
    {
     "data": {
      "text/plain": [
       "['/3', 'aeoo', 'boeo', 'coeo']"
      ]
     },
     "execution_count": 235,
     "metadata": {},
     "output_type": "execute_result"
    }
   ],
   "source": [
    "sorted([\"boeo\",\"aeoo\",'/3',\"coeo\"])\n"
   ]
  },
  {
   "cell_type": "code",
   "execution_count": 236,
   "metadata": {},
   "outputs": [
    {
     "data": {
      "text/plain": [
       "[' ', '!', 'a', 'e', 'h', 'm', 'n', 'y']"
      ]
     },
     "execution_count": 236,
     "metadata": {},
     "output_type": "execute_result"
    }
   ],
   "source": [
    "sorted(('hey man!'[::-1]))"
   ]
  },
  {
   "cell_type": "code",
   "execution_count": 237,
   "metadata": {},
   "outputs": [
    {
     "data": {
      "text/plain": [
       "[('aaa', '222', False)]"
      ]
     },
     "execution_count": 237,
     "metadata": {},
     "output_type": "execute_result"
    }
   ],
   "source": [
    "z1=['aaa','qqq','ccc']\n",
    "z2=['222','2222']\n",
    "z3=[False]\n",
    "z4=zip(z1,z2,z3)\n",
    "list(z4)\n"
   ]
  },
  {
   "cell_type": "code",
   "execution_count": 238,
   "metadata": {},
   "outputs": [
    {
     "data": {
      "text/plain": [
       "[9, 7, 5, 3, 1]"
      ]
     },
     "execution_count": 238,
     "metadata": {},
     "output_type": "execute_result"
    }
   ],
   "source": [
    "list(range(10)[::-2])\n"
   ]
  },
  {
   "cell_type": "code",
   "execution_count": 239,
   "metadata": {},
   "outputs": [
    {
     "data": {
      "text/plain": [
       "{'a': 'red', 'b': 'yellow', 'c': 'brown'}"
      ]
     },
     "execution_count": 239,
     "metadata": {},
     "output_type": "execute_result"
    }
   ],
   "source": [
    "list1={'a':'red','b':'yellow','c':'brown'}\n",
    "list1\n"
   ]
  },
  {
   "cell_type": "code",
   "execution_count": null,
   "metadata": {},
   "outputs": [],
   "source": []
  },
  {
   "cell_type": "code",
   "execution_count": 240,
   "metadata": {},
   "outputs": [
    {
     "name": "stdout",
     "output_type": "stream",
     "text": [
      "[ 0  1  2  3  4  5  6  7  8  9 10 11 12 13 14 15 16 17 18 19 20 21 22 23\n",
      " 24 25 26 27 28 29 30 31 32 33 34 35 36 37 38 39 40 41 42 43 44 45 46 47\n",
      " 48 49 50 51 52 53 54 55 56 57 58 59 60 61 62 63 64 65 66 67 68 69 70 71\n",
      " 72 73 74 75 76 77 78 79 80 81 82 83 84 85 86 87 88 89 90 91 92 93 94 95\n",
      " 96 97 98 99]\n"
     ]
    }
   ],
   "source": [
    "arr = np.arange(100)\n",
    "print(arr)"
   ]
  },
  {
   "cell_type": "code",
   "execution_count": 241,
   "metadata": {},
   "outputs": [
    {
     "name": "stdout",
     "output_type": "stream",
     "text": [
      "[ 1  3  5  7  9 11 13 15 17 19 21 23 25 27 29 31 33 35 37 39 41 43 45 47\n",
      " 49 51 53 55 57 59 61 63 65 67 69 71 73 75 77 79 81 83 85 87 89 91 93 95\n",
      " 97 99]\n",
      "int64 1 (50,) <class 'tuple'>\n",
      "50 8 400\n"
     ]
    }
   ],
   "source": [
    "\n",
    "arr = np.arange(1, 101, 2)\n",
    "print(arr)\n",
    "print (arr.dtype, arr.ndim, arr.shape, type(arr.shape))\n",
    "print(arr.size, arr.itemsize, arr.nbytes)"
   ]
  },
  {
   "cell_type": "code",
   "execution_count": 242,
   "metadata": {},
   "outputs": [
    {
     "name": "stdout",
     "output_type": "stream",
     "text": [
      "[ 5  6  7  8  9 10 11 12 13 14 15 16 17 18 19 20 21 22 23 24 25 26 27 28\n",
      " 29 30 31 32 33 34 35 36 37 38 39 40 41 42 43 44 45 46 47 48 49]\n",
      "45 8 360  bytes\n"
     ]
    }
   ],
   "source": [
    "arr =  np.arange(5, 50)\n",
    "print (arr)\n",
    "print(arr.size, arr.itemsize,arr.nbytes,  ' bytes')"
   ]
  },
  {
   "cell_type": "code",
   "execution_count": 243,
   "metadata": {},
   "outputs": [
    {
     "name": "stdout",
     "output_type": "stream",
     "text": [
      "[0. 0. 0. 0. 0. 0. 0. 0. 0. 0.]\n"
     ]
    }
   ],
   "source": [
    "arr=np.zeros((10,)) # arr=np.zeros(10)\n",
    "print (arr)"
   ]
  },
  {
   "cell_type": "code",
   "execution_count": 244,
   "metadata": {},
   "outputs": [
    {
     "name": "stdout",
     "output_type": "stream",
     "text": [
      "[0. 0. 0. 0. 0.]\n"
     ]
    }
   ],
   "source": [
    "arr=np.zeros((5,))\n",
    "print (arr)"
   ]
  },
  {
   "cell_type": "code",
   "execution_count": 245,
   "metadata": {},
   "outputs": [
    {
     "name": "stdout",
     "output_type": "stream",
     "text": [
      "[1. 1. 1. 1. 1. 1. 1. 1. 1. 1.]\n",
      "[[1. 1. 1. 1.]\n",
      " [1. 1. 1. 1.]\n",
      " [1. 1. 1. 1.]\n",
      " [1. 1. 1. 1.]\n",
      " [1. 1. 1. 1.]\n",
      " [1. 1. 1. 1.]\n",
      " [1. 1. 1. 1.]\n",
      " [1. 1. 1. 1.]\n",
      " [1. 1. 1. 1.]\n",
      " [1. 1. 1. 1.]]\n"
     ]
    }
   ],
   "source": [
    "print(np.ones((10,)))\n",
    "print(np.ones((10,4)))"
   ]
  },
  {
   "cell_type": "code",
   "execution_count": 246,
   "metadata": {},
   "outputs": [
    {
     "name": "stdout",
     "output_type": "stream",
     "text": [
      "[99 99 99 99 99 99]\n"
     ]
    }
   ],
   "source": [
    "print(np.full((6,), 99))"
   ]
  },
  {
   "cell_type": "code",
   "execution_count": 247,
   "metadata": {},
   "outputs": [
    {
     "name": "stdout",
     "output_type": "stream",
     "text": [
      "[[77 77 77]\n",
      " [77 77 77]\n",
      " [77 77 77]]\n"
     ]
    }
   ],
   "source": [
    "print(np.full((3,3), 77))"
   ]
  },
  {
   "cell_type": "code",
   "execution_count": 248,
   "metadata": {},
   "outputs": [
    {
     "name": "stdout",
     "output_type": "stream",
     "text": [
      "[11. 11. 11. 11. 11.]\n"
     ]
    }
   ],
   "source": [
    "print(np.full_like(arr, 11))"
   ]
  },
  {
   "cell_type": "code",
   "execution_count": 249,
   "metadata": {},
   "outputs": [
    {
     "name": "stdout",
     "output_type": "stream",
     "text": [
      "bool 1 (3,) <class 'tuple'>\n",
      "3 1 3\n"
     ]
    }
   ],
   "source": [
    "arr = np.array([True, False, True])\n",
    "print (arr.dtype, arr.ndim, arr.shape, type(arr.shape))\n",
    "print(arr.size, arr.itemsize, arr.nbytes)"
   ]
  },
  {
   "cell_type": "code",
   "execution_count": 250,
   "metadata": {},
   "outputs": [
    {
     "name": "stdout",
     "output_type": "stream",
     "text": [
      "<U3 1 (3,) <class 'tuple'>\n",
      "3 12 36\n"
     ]
    }
   ],
   "source": [
    "arr = np.array(['aaa','bbb','ccc'])\n",
    "print (arr.dtype, arr.ndim, arr.shape, type(arr.shape))\n",
    "print(arr.size, arr.itemsize, arr.nbytes)"
   ]
  },
  {
   "cell_type": "code",
   "execution_count": 251,
   "metadata": {},
   "outputs": [
    {
     "name": "stdout",
     "output_type": "stream",
     "text": [
      "[  1 222 444   0   1] int64\n"
     ]
    }
   ],
   "source": [
    "arr = np.array([1,222,444, False, True]) # 都是 int32\n",
    "print(arr, arr.dtype)"
   ]
  },
  {
   "cell_type": "code",
   "execution_count": 252,
   "metadata": {},
   "outputs": [
    {
     "name": "stdout",
     "output_type": "stream",
     "text": [
      "[5 7 9]\n",
      "[-3 -3 -3]\n",
      "[ 4 10 18]\n",
      "[0.25 0.4  0.5 ]\n"
     ]
    }
   ],
   "source": [
    "arr1 = np.array([1,2,3])\n",
    "arr2 = np.array([4,5,6])\n",
    "\n",
    "# ndarray 數學運算\n",
    "print (arr1 + arr2)\n",
    "print (arr1 - arr2)\n",
    "print (arr1 * arr2)\n",
    "print (arr1 / arr2)"
   ]
  },
  {
   "cell_type": "code",
   "execution_count": 253,
   "metadata": {},
   "outputs": [],
   "source": [
    "# print(arr1 * 30.9)\n",
    "# print (arr1 * [30.9,30.9,30.9] ) # broadcast 廣播"
   ]
  },
  {
   "cell_type": "code",
   "execution_count": 254,
   "metadata": {},
   "outputs": [
    {
     "data": {
      "text/plain": [
       "array([1, 2, 3])"
      ]
     },
     "execution_count": 254,
     "metadata": {},
     "output_type": "execute_result"
    }
   ],
   "source": [
    "arr1"
   ]
  },
  {
   "cell_type": "code",
   "execution_count": 255,
   "metadata": {},
   "outputs": [],
   "source": [
    "arr=np.array([1,2,3])"
   ]
  },
  {
   "cell_type": "code",
   "execution_count": 256,
   "metadata": {},
   "outputs": [
    {
     "name": "stdout",
     "output_type": "stream",
     "text": [
      "[404 408 412]\n"
     ]
    }
   ],
   "source": [
    "arr1 +=100\n",
    "arr1 = arr1*2\n",
    "arr1 *=2\n",
    "# arr1 +=100\n",
    "print(arr1)"
   ]
  },
  {
   "cell_type": "code",
   "execution_count": 257,
   "metadata": {},
   "outputs": [
    {
     "name": "stdout",
     "output_type": "stream",
     "text": [
      "True\n",
      "True\n",
      "True\n"
     ]
    }
   ],
   "source": [
    "a= 100\n",
    "b = 55\n",
    "print (a > b)\n",
    "print (a > b and b<=99)\n",
    "print (a > b or b ==88)"
   ]
  },
  {
   "cell_type": "code",
   "execution_count": 259,
   "metadata": {},
   "outputs": [
    {
     "name": "stdout",
     "output_type": "stream",
     "text": [
      "[False  True False]\n"
     ]
    }
   ],
   "source": [
    "arr1 = np.array([1,6,3])\n",
    "arr2 = np.array([4,5,6])\n",
    "print (arr1 > arr2)"
   ]
  },
  {
   "cell_type": "code",
   "execution_count": 260,
   "metadata": {},
   "outputs": [
    {
     "name": "stdout",
     "output_type": "stream",
     "text": [
      "[False  True False] <class 'numpy.ndarray'>\n",
      "bool (3,)\n"
     ]
    }
   ],
   "source": [
    "mask = arr1 > arr2\n",
    "print (mask, type(mask))       # [False False False] <class 'numpy.ndarray'>\n",
    "print(mask.dtype, mask.shape)"
   ]
  },
  {
   "cell_type": "code",
   "execution_count": 264,
   "metadata": {},
   "outputs": [
    {
     "name": "stdout",
     "output_type": "stream",
     "text": [
      "[False False False False False False False  True  True  True] <class 'numpy.ndarray'>\n"
     ]
    }
   ],
   "source": [
    "arr = np.array([1,2,3,4,5,6,7,8,9,10])\n",
    "mask = arr>=8\n",
    "print (mask,type(mask))"
   ]
  },
  {
   "cell_type": "code",
   "execution_count": 266,
   "metadata": {},
   "outputs": [
    {
     "name": "stdout",
     "output_type": "stream",
     "text": [
      "[False False  True  True  True  True  True  True  True  True]\n",
      "[ True  True  True  True  True  True  True  True False False]\n"
     ]
    }
   ],
   "source": [
    "cond1 = arr >=3\n",
    "cond2 = arr <=8\n",
    "print(cond1)             # [False False  True  True  True  True  True  True  True  True]\n",
    "print(cond2)"
   ]
  },
  {
   "cell_type": "code",
   "execution_count": 267,
   "metadata": {},
   "outputs": [
    {
     "name": "stdout",
     "output_type": "stream",
     "text": [
      "[False False  True  True  True  True  True  True False False]\n"
     ]
    }
   ],
   "source": [
    "mask = (cond1) & (cond2) # [False False  True  True  True  True  True  True False False]\n",
    "print (mask)"
   ]
  },
  {
   "cell_type": "code",
   "execution_count": 270,
   "metadata": {},
   "outputs": [
    {
     "name": "stdout",
     "output_type": "stream",
     "text": [
      "[False False  True  True  True  True  True  True False False]\n"
     ]
    }
   ],
   "source": [
    "print((arr >=3) & (arr<=8))"
   ]
  },
  {
   "cell_type": "code",
   "execution_count": 271,
   "metadata": {},
   "outputs": [
    {
     "name": "stdout",
     "output_type": "stream",
     "text": [
      "[ True  True False False False False False False  True  True]\n",
      "[ True  True False False False False False False  True  True]\n",
      "[ True  True False False False False False False  True  True]\n"
     ]
    }
   ],
   "source": [
    "print( (arr<=2) | (arr >=9))\n",
    "print( ~((arr >=3) & (arr<=8))) \n",
    "print (~mask)"
   ]
  },
  {
   "cell_type": "code",
   "execution_count": 273,
   "metadata": {},
   "outputs": [
    {
     "name": "stdout",
     "output_type": "stream",
     "text": [
      "[1 0 1 0 1 0 1 0 1 0]\n",
      "[False  True False  True False  True False  True False  True]\n"
     ]
    }
   ],
   "source": [
    "print(arr % 2)\n",
    "print((arr % 2) == 0)"
   ]
  },
  {
   "cell_type": "code",
   "execution_count": 278,
   "metadata": {},
   "outputs": [
    {
     "name": "stdout",
     "output_type": "stream",
     "text": [
      "[ 2  4  6  8 10]\n",
      "[ 2  4  6  8 10]\n",
      "<class 'numpy.ndarray'>\n"
     ]
    },
    {
     "data": {
      "text/plain": [
       "array([False,  True, False,  True, False,  True, False,  True, False,\n",
       "        True])"
      ]
     },
     "execution_count": 278,
     "metadata": {},
     "output_type": "execute_result"
    }
   ],
   "source": [
    "mask = (arr % 2) == 0\n",
    "print(arr[mask])\n",
    "print (arr[arr%2==0])\n",
    "print(type(arr%2==0))\n",
    "arr%2==0"
   ]
  },
  {
   "cell_type": "code",
   "execution_count": 280,
   "metadata": {},
   "outputs": [
    {
     "name": "stdout",
     "output_type": "stream",
     "text": [
      "[1 2 3 4]\n"
     ]
    }
   ],
   "source": [
    "print(arr[[True, True, True, True,False, False, False, False, False, False]])"
   ]
  },
  {
   "cell_type": "code",
   "execution_count": 283,
   "metadata": {},
   "outputs": [
    {
     "name": "stdout",
     "output_type": "stream",
     "text": [
      "[False  True False False False False False False False False]\n",
      "[2]\n",
      "True\n"
     ]
    }
   ],
   "source": [
    "print (arr==2)\n",
    "print(arr[arr==2])\n",
    "print((arr[arr==2]).size>0)"
   ]
  },
  {
   "cell_type": "code",
   "execution_count": 284,
   "metadata": {},
   "outputs": [
    {
     "name": "stdout",
     "output_type": "stream",
     "text": [
      "[ 1  3  4  5  6  7  8  9 10]\n",
      "[ 1  3  4  5  6  7  8  9 10]\n"
     ]
    }
   ],
   "source": [
    "print (arr[arr!=2])\n",
    "print (arr[~(arr==2)])"
   ]
  },
  {
   "cell_type": "code",
   "execution_count": 286,
   "metadata": {},
   "outputs": [
    {
     "name": "stdout",
     "output_type": "stream",
     "text": [
      "[ True False  True  True False  True]\n"
     ]
    }
   ],
   "source": [
    "players = [56,  8, 19, 14, 6, 71]   \n",
    "# print(players > 10)Exception has occurred: TypeError'>' not supported between instances of 'list' and 'int'\n",
    "arr = np.array(players)\n",
    "print(arr>10)\n",
    "# endregion"
   ]
  },
  {
   "cell_type": "code",
   "execution_count": 287,
   "metadata": {},
   "outputs": [
    {
     "name": "stdout",
     "output_type": "stream",
     "text": [
      "4\n",
      "[1 2 3 4]\n",
      "[0 1 2 3 4 5 6 7]\n",
      "[1 2 3 4 5 6 7 8 9]\n",
      "[0 1 2 3 4 5 6 7 8 9]\n"
     ]
    }
   ],
   "source": [
    "arr = np.array([0,1,2,3,4,5,6,7,8,9])\n",
    "print (arr[4])\n",
    "print (arr[1:5]) # 不包括 end\n",
    "print (arr[:8])  # start 沒寫, start =0\n",
    "print(arr[1:])   # end 沒寫, 包括 end\n",
    "print(arr[:]) "
   ]
  },
  {
   "cell_type": "code",
   "execution_count": 288,
   "metadata": {},
   "outputs": [
    {
     "name": "stdout",
     "output_type": "stream",
     "text": [
      "[0 2 4 6 8]\n",
      "[1 3 5 7]\n",
      "[6 7 8 9]\n",
      "[0 1 2 3 4 5 6 7 8]\n"
     ]
    }
   ],
   "source": [
    "print (arr[::2])\n",
    "print(arr[1:8:2])    # [start:end:step]\n",
    "print (arr[-4:])\n",
    "print (arr[:-1])"
   ]
  },
  {
   "cell_type": "code",
   "execution_count": 289,
   "metadata": {},
   "outputs": [
    {
     "name": "stdout",
     "output_type": "stream",
     "text": [
      "[9 8 7 6 5 4 3 2 1 0]\n",
      "[9 7 5 3 1]\n"
     ]
    }
   ],
   "source": [
    "print (arr[::-1])\n",
    "print (arr[::-2])"
   ]
  },
  {
   "cell_type": "code",
   "execution_count": 291,
   "metadata": {},
   "outputs": [
    {
     "name": "stdout",
     "output_type": "stream",
     "text": [
      "[False  True  True False False False False False  True  True  True]\n",
      "[ 33  11   9  99 999]\n",
      "[ 33  11   9  99 999]\n"
     ]
    }
   ],
   "source": [
    "arr=np.array([22,33,11,2,3,54,6,78,9,99, 999])\n",
    "mask=(arr>5) & (arr%2==1)\n",
    "print(mask)\n",
    "print (arr[mask])\n",
    "print (arr[(arr>5) & (arr%2==1)])"
   ]
  },
  {
   "cell_type": "code",
   "execution_count": 292,
   "metadata": {},
   "outputs": [
    {
     "name": "stdout",
     "output_type": "stream",
     "text": [
      "[999]\n",
      "True\n"
     ]
    }
   ],
   "source": [
    "print(arr[arr>99])\n",
    "print(arr[arr>99].size>0)"
   ]
  },
  {
   "cell_type": "code",
   "execution_count": 293,
   "metadata": {},
   "outputs": [
    {
     "name": "stdout",
     "output_type": "stream",
     "text": [
      "True\n",
      "False\n"
     ]
    }
   ],
   "source": [
    "print(np.any(arr>99))\n",
    "print(np.any(arr>9999))"
   ]
  },
  {
   "cell_type": "code",
   "execution_count": 295,
   "metadata": {},
   "outputs": [
    {
     "name": "stdout",
     "output_type": "stream",
     "text": [
      "True\n"
     ]
    }
   ],
   "source": [
    "print(np.all(arr>1))"
   ]
  },
  {
   "cell_type": "code",
   "execution_count": 306,
   "metadata": {},
   "outputs": [],
   "source": [
    "arr = np.array([1,2,3,4,5,6,7,8,9,10])\n",
    "\n",
    "# working on view\n",
    "arr[0] = 100\n",
    "arr[1:5] = 99\n",
    "arr[[1,3]] = 77\n",
    "arr[arr %2==1] = 111"
   ]
  },
  {
   "cell_type": "code",
   "execution_count": 307,
   "metadata": {},
   "outputs": [
    {
     "name": "stdout",
     "output_type": "stream",
     "text": [
      "[100 111 111 111 111   6 111   8 111  10]\n"
     ]
    }
   ],
   "source": [
    "print(arr)"
   ]
  },
  {
   "cell_type": "code",
   "execution_count": 310,
   "metadata": {},
   "outputs": [
    {
     "name": "stdout",
     "output_type": "stream",
     "text": [
      "[999999 999999 999999 999999]\n"
     ]
    }
   ],
   "source": [
    "arr2 =arr[0:4].copy()\n",
    "arr2[0:4] = 999999\n",
    "print (arr2)"
   ]
  },
  {
   "cell_type": "code",
   "execution_count": 313,
   "metadata": {},
   "outputs": [
    {
     "name": "stdout",
     "output_type": "stream",
     "text": [
      "[2000 2000 2000 2000 2000 2000 2000 2000 2000 2000 2000 2000 2000 2000\n",
      " 2000 2000 2000 2000 2000 2000 2000 2000 2000 2000 2000 2000 2000 2000\n",
      " 2000 2000 2000 2000 2000 2000 2000 2000 2000 2000 2000 2000 2000 2000\n",
      " 2000 2000 2000 2000 2000 2000 2000 2000 2000 2000 2000 2000 2000 2000\n",
      " 2000 2000 2000 2000 2000 2000 2000 2000 2000 2000 2000 2000 2000 2000\n",
      " 2000 2000 2000 2000 2000 2000 2000 2000 2000 2000 2000 2000 2000 2000\n",
      " 2000 2000 2000 2000 2000 2000 2000 2000 2000 2000 2000 2000 2000 2000\n",
      " 2000 2000]\n"
     ]
    }
   ],
   "source": [
    "arr = np.arange(100)\n",
    "arr[arr<5] = 1000\n",
    "arr[arr>=5] = 2000\n",
    "print(arr)"
   ]
  },
  {
   "cell_type": "code",
   "execution_count": 317,
   "metadata": {},
   "outputs": [
    {
     "name": "stdout",
     "output_type": "stream",
     "text": [
      "[ 2  2  2  2  2 10 10 10 10 10 10 10 10 10 10 10 10 10 10 10 10 10 10 10\n",
      " 10 10 10 10 10 10 10 10 10 10 10 10 10 10 10 10 10 10 10 10 10 10 10 10\n",
      " 10 10 10 10 10 10 10 10 10 10 10 10 10 10 10 10 10 10 10 10 10 10 10 10\n",
      " 10 10 10 10 10 10 10 10 10 10 10 10 10 10 10 10 10 10 10 10 10 10 10 10\n",
      " 10 10 10 10]\n"
     ]
    }
   ],
   "source": [
    "arr = np.arange(100)\n",
    "print(np.where(arr<5, 2, 10))"
   ]
  },
  {
   "cell_type": "code",
   "execution_count": 321,
   "metadata": {},
   "outputs": [
    {
     "name": "stdout",
     "output_type": "stream",
     "text": [
      "[   0    1    2    3    4 2000 2000 2000 2000 2000 2000 2000 2000 2000\n",
      " 2000 2000 2000 2000 2000 2000 2000 2000 2000 2000 2000 2000 2000 2000\n",
      " 2000 2000 2000 2000 2000 2000 2000 2000 2000 2000 2000 2000 2000 2000\n",
      " 2000 2000 2000 2000 2000 2000 2000 2000 2000 2000 2000 2000 2000 2000\n",
      " 2000 2000 2000 2000 2000 2000 2000 2000 2000 2000 2000 2000 2000 2000\n",
      " 2000 2000 2000 2000 2000 2000 2000 2000 2000 2000 2000 2000 2000 2000\n",
      " 2000 2000 2000 2000 2000 2000 2000 2000 2000 2000 2000 2000 2000 2000\n",
      " 2000 2000]\n"
     ]
    }
   ],
   "source": [
    "arr = np.arange(100)\n",
    "mask = arr<5\n",
    "# arr[mask]=1000\n",
    "arr[~mask]=2000\n",
    "print (arr)"
   ]
  },
  {
   "cell_type": "code",
   "execution_count": 322,
   "metadata": {},
   "outputs": [
    {
     "name": "stdout",
     "output_type": "stream",
     "text": [
      "50.27\n"
     ]
    }
   ],
   "source": [
    "data = np.random.randint(0, 101, 100)\n",
    "arr = np.array(data)\n",
    "print(arr.mean())"
   ]
  },
  {
   "cell_type": "code",
   "execution_count": 323,
   "metadata": {},
   "outputs": [
    {
     "name": "stdout",
     "output_type": "stream",
     "text": [
      "[5 1 1 3 3 1 1 1 1 1 2 2 1 1 2 1 1 4 2 3 3 1 5 3 3 1 4 1 3 3 2 2 3 3 1 3 2\n",
      " 5 1 4 1 3 1 4 1 5 1 1 1 5 1 1 5 1 1 3 2 1 2 2 1 4 5 2 2 1 2 1 1 5 3 4 1 1\n",
      " 1 1 3 1 1 1 2 1 2 1 1 5 1 1 3 1 1 1 1 1 3 1 1 1 1 1]\n"
     ]
    }
   ],
   "source": [
    "arr[arr<60] = 1\n",
    "arr[(arr>=60) & (arr <70)] = 2\n",
    "arr[(arr>=70) & (arr <80)] = 3\n",
    "arr[(arr>=80) & (arr <90)] = 4\n",
    "arr[(arr>=90)] = 5\n",
    "\n",
    "print (arr)"
   ]
  },
  {
   "cell_type": "code",
   "execution_count": 324,
   "metadata": {},
   "outputs": [
    {
     "name": "stdout",
     "output_type": "stream",
     "text": [
      "sum =  55\n",
      "55\n"
     ]
    }
   ],
   "source": [
    "arr = np.array([1,2,3,4,5,6,7,8,9,10])\n",
    "print ('sum = ', arr.sum())\n",
    "print (np.sum(arr))\n"
   ]
  },
  {
   "cell_type": "code",
   "execution_count": 325,
   "metadata": {},
   "outputs": [
    {
     "name": "stdout",
     "output_type": "stream",
     "text": [
      "10\n",
      "1\n",
      "5.5\n"
     ]
    }
   ],
   "source": [
    "print(arr.max())\n",
    "print(arr.min())\n",
    "print(arr.mean())"
   ]
  },
  {
   "cell_type": "code",
   "execution_count": 326,
   "metadata": {},
   "outputs": [
    {
     "name": "stdout",
     "output_type": "stream",
     "text": [
      "5.5\n",
      "3.0\n"
     ]
    }
   ],
   "source": [
    "print(np.median(arr))               # 中位數, 把所有數值由小到大排列後取中間的值\n",
    "print(np.median([1,2,3,4,5]))"
   ]
  },
  {
   "cell_type": "code",
   "execution_count": 329,
   "metadata": {},
   "outputs": [
    {
     "name": "stdout",
     "output_type": "stream",
     "text": [
      "[ 60  60  60  62  62  63  64  64  64  65  66  66  66  67  67  67  67  69\n",
      "  69  70  71  71  71  72  73  74  74  74  74  74  75  75  75  75  75  76\n",
      "  76  77  77  77  78  78  78  79  79  79  79  80  81  81  81  81  81  81\n",
      "  82  82  82  84  84  85  86  86  87  87  87  87  87  87  87  88  88  89\n",
      "  89  90  90  90  90  91  92  93  93  93  93  93  94  95  95  97  97  97\n",
      "  97  97  98  98  99  99  99 100 100 100]\n"
     ]
    }
   ],
   "source": [
    "data = np.random.randint(60, 101, 100)\n",
    "arr = np.array(data)\n",
    "arr.sort()\n",
    "print (arr)"
   ]
  },
  {
   "cell_type": "code",
   "execution_count": 330,
   "metadata": {},
   "outputs": [
    {
     "name": "stdout",
     "output_type": "stream",
     "text": [
      "[ 60  60  60  61  61  61  61  62  62  62  62  63  63  64  64  64  64  64\n",
      "  65  65  65  65  66  66  66  67  67  68  68  68  68  69  70  71  71  71\n",
      "  72  72  72  72  73  73  73  75  76  76  76  76  77  77  78  78  79  79\n",
      "  79  80  80  80  81  81  81  82  82  85  85  86  86  87  87  87  87  87\n",
      "  87  89  89  89  89  90  90  90  90  91  91  91  92  94  95  96  96  97\n",
      "  97  97  98  99  99  99  99 100 100 100]\n"
     ]
    }
   ],
   "source": [
    "data = np.random.randint(60, 101, 100)\n",
    "arr = np.array(data)\n",
    "print(np.sort(arr))"
   ]
  },
  {
   "cell_type": "code",
   "execution_count": 332,
   "metadata": {},
   "outputs": [
    {
     "name": "stdout",
     "output_type": "stream",
     "text": [
      "135.0\n"
     ]
    }
   ],
   "source": [
    "arr = np.array([80,90, 100])\n",
    "print ((arr * [0.5, 0.5, 0.5]).sum())"
   ]
  },
  {
   "cell_type": "code",
   "execution_count": 334,
   "metadata": {},
   "outputs": [],
   "source": [
    "arr = np.array([\n",
    "                [1,2,3],\n",
    "                [4,5,6],\n",
    "                [7,8,9]\n",
    "                ])"
   ]
  },
  {
   "cell_type": "code",
   "execution_count": 340,
   "metadata": {},
   "outputs": [
    {
     "name": "stdout",
     "output_type": "stream",
     "text": [
      "[[1 2 3]\n",
      " [4 5 6]\n",
      " [7 8 9]]\n",
      "2 int64 (3, 3)\n",
      "9 8 72\n",
      "number of rows : 3\n"
     ]
    }
   ],
   "source": [
    "print (arr)\n",
    "print (arr.ndim, arr.dtype, arr.shape)\n",
    "print(arr.size, arr.itemsize, arr.nbytes)\n",
    "print ('number of rows :', arr.shape[1])"
   ]
  },
  {
   "cell_type": "code",
   "execution_count": 343,
   "metadata": {},
   "outputs": [
    {
     "name": "stdout",
     "output_type": "stream",
     "text": [
      "[[0. 0. 0.]\n",
      " [0. 0. 0.]\n",
      " [0. 0. 0.]\n",
      " [0. 0. 0.]\n",
      " [0. 0. 0.]]\n",
      "[[1 1 1]\n",
      " [1 1 1]\n",
      " [1 1 1]]\n",
      "[[11 11 11 11 11 11 11 11 11 11]\n",
      " [11 11 11 11 11 11 11 11 11 11]\n",
      " [11 11 11 11 11 11 11 11 11 11]\n",
      " [11 11 11 11 11 11 11 11 11 11]\n",
      " [11 11 11 11 11 11 11 11 11 11]\n",
      " [11 11 11 11 11 11 11 11 11 11]\n",
      " [11 11 11 11 11 11 11 11 11 11]\n",
      " [11 11 11 11 11 11 11 11 11 11]\n",
      " [11 11 11 11 11 11 11 11 11 11]\n",
      " [11 11 11 11 11 11 11 11 11 11]]\n"
     ]
    }
   ],
   "source": [
    "print (np.zeros((5,3)))\n",
    "print (np.ones_like(arr))\n",
    "print(np.full((10,10), 11))"
   ]
  },
  {
   "cell_type": "code",
   "execution_count": 344,
   "metadata": {},
   "outputs": [
    {
     "name": "stdout",
     "output_type": "stream",
     "text": [
      "[[ 2  4  6]\n",
      " [ 8 10 12]\n",
      " [14 16 18]]\n",
      "[[ 1  4  9]\n",
      " [16 25 36]\n",
      " [49 64 81]]\n",
      "[[False False False]\n",
      " [False  True  True]\n",
      " [ True  True  True]]\n",
      "[5 6 7 8 9]\n"
     ]
    }
   ],
   "source": [
    "print (arr *2)\n",
    "print (arr ** 2)\n",
    "print (arr >= 5)\n",
    "print (arr[arr>=5])"
   ]
  },
  {
   "cell_type": "code",
   "execution_count": 345,
   "metadata": {},
   "outputs": [
    {
     "name": "stdout",
     "output_type": "stream",
     "text": [
      "[[ 2  4  6]\n",
      " [ 8 10 12]\n",
      " [14 16 18]]\n",
      "[[ 1  4  9]\n",
      " [16 25 36]\n",
      " [49 64 81]]\n"
     ]
    }
   ],
   "source": [
    "print (arr + arr)\n",
    "print (arr * arr)"
   ]
  },
  {
   "cell_type": "code",
   "execution_count": 346,
   "metadata": {},
   "outputs": [
    {
     "name": "stdout",
     "output_type": "stream",
     "text": [
      "[[ 2  4  6]\n",
      " [ 8 10 12]\n",
      " [14 16 18]]\n",
      "[[ 2  4  6]\n",
      " [ 8 10 12]\n",
      " [14 16 18]]\n",
      "[[ 0.84147098  0.90929743  0.14112001]\n",
      " [-0.7568025  -0.95892427 -0.2794155 ]\n",
      " [ 0.6569866   0.98935825  0.41211849]]\n"
     ]
    }
   ],
   "source": [
    "print (arr + arr)\n",
    "print (np.add(arr,arr)) # 二元 ufunc \n",
    "print (np.sin(arr))     # 一元 ufunc "
   ]
  },
  {
   "cell_type": "code",
   "execution_count": 351,
   "metadata": {},
   "outputs": [
    {
     "name": "stdout",
     "output_type": "stream",
     "text": [
      "[4 5 6]\n",
      "5\n",
      "[[1 2]\n",
      " [4 5]]\n",
      "[[1 2]\n",
      " [4 5]\n",
      " [7 8]]\n",
      "[[1 2 3]\n",
      " [4 5 6]]\n"
     ]
    }
   ],
   "source": [
    "print (arr[1])\n",
    "print (arr[1,1])\n",
    "\n",
    "print (arr[0:2, 0:2])\n",
    "print (arr[:, 0:2])\n",
    "print (arr[0:2, :])   # for 所有 column"
   ]
  },
  {
   "cell_type": "code",
   "execution_count": 353,
   "metadata": {},
   "outputs": [
    {
     "name": "stdout",
     "output_type": "stream",
     "text": [
      "[[7 8 9]\n",
      " [4 5 6]\n",
      " [1 2 3]]\n",
      "[[9 8 7]\n",
      " [6 5 4]\n",
      " [3 2 1]]\n",
      "[[3 2 1]\n",
      " [6 5 4]\n",
      " [9 8 7]]\n"
     ]
    }
   ],
   "source": [
    "print(arr[::-1, :])\n",
    "print(arr[::-1, ::-1])\n",
    "print(arr[::, ::-1])"
   ]
  },
  {
   "cell_type": "code",
   "execution_count": 354,
   "metadata": {},
   "outputs": [
    {
     "name": "stdout",
     "output_type": "stream",
     "text": [
      "[[4 5 6]\n",
      " [7 8 9]]\n",
      "[6 7 8 9]\n"
     ]
    }
   ],
   "source": [
    "print(arr[[1,2],:])\n",
    "print(arr[arr>5])"
   ]
  },
  {
   "cell_type": "code",
   "execution_count": 355,
   "metadata": {},
   "outputs": [
    {
     "name": "stdout",
     "output_type": "stream",
     "text": [
      "[[   1    2    3]\n",
      " [   4    5 1006]\n",
      " [   7 1008    9]]\n"
     ]
    }
   ],
   "source": [
    "arr[(arr>5) & (arr%2==0)] += 1000\n",
    "print(arr)"
   ]
  },
  {
   "cell_type": "code",
   "execution_count": 357,
   "metadata": {},
   "outputs": [
    {
     "name": "stdout",
     "output_type": "stream",
     "text": [
      "[[ 0  1  2]\n",
      " [ 3  4  5]\n",
      " [ 6  7  8]\n",
      " [ 9 10 11]]\n",
      "[[ 0  3  6  9]\n",
      " [ 1  4  7 10]\n",
      " [ 2  5  8 11]]\n"
     ]
    }
   ],
   "source": [
    "arr1d = np.arange(12)\n",
    "\n",
    "# arr2d= arr1d.reshape((2,6))\n",
    "# print (arr2d)\n",
    "\n",
    "# arr2d= arr1d.reshape((6,2))\n",
    "# print (arr2d)\n",
    "\n",
    "# arr2d= arr1d.reshape((3,4))\n",
    "# print (arr2d)\n",
    "\n",
    "arr2d= arr1d.reshape((4,3))\n",
    "print (arr2d)\n",
    "\n",
    "print (arr2d.T)"
   ]
  },
  {
   "cell_type": "code",
   "execution_count": 359,
   "metadata": {},
   "outputs": [
    {
     "name": "stdout",
     "output_type": "stream",
     "text": [
      "[[0. 0. 0. 0. 0. 0. 0. 0. 0. 0.]\n",
      " [0. 0. 0. 0. 0. 0. 0. 0. 0. 0.]\n",
      " [0. 0. 0. 0. 0. 0. 0. 0. 0. 0.]\n",
      " [0. 0. 0. 0. 0. 0. 0. 0. 0. 0.]\n",
      " [0. 0. 0. 0. 0. 0. 0. 0. 0. 0.]\n",
      " [0. 0. 0. 0. 0. 0. 0. 0. 0. 0.]\n",
      " [0. 0. 0. 0. 0. 0. 0. 0. 0. 0.]\n",
      " [0. 0. 0. 0. 0. 0. 0. 0. 0. 0.]\n",
      " [0. 0. 0. 0. 0. 0. 0. 0. 0. 0.]\n",
      " [0. 0. 0. 0. 0. 0. 0. 0. 0. 0.]]\n",
      "[[0. 0. 0. 0. 0. 0. 0. 0. 0. 0.]\n",
      " [0. 5. 5. 5. 5. 5. 5. 5. 5. 0.]\n",
      " [0. 5. 5. 5. 5. 5. 5. 5. 5. 0.]\n",
      " [0. 5. 5. 5. 5. 5. 5. 5. 5. 0.]\n",
      " [0. 5. 5. 5. 5. 5. 5. 5. 5. 0.]\n",
      " [0. 5. 5. 5. 5. 5. 5. 5. 5. 0.]\n",
      " [0. 5. 5. 5. 5. 5. 5. 5. 5. 0.]\n",
      " [0. 5. 5. 5. 5. 5. 5. 5. 5. 0.]\n",
      " [0. 5. 5. 5. 5. 5. 5. 5. 5. 0.]\n",
      " [0. 0. 0. 0. 0. 0. 0. 0. 0. 0.]]\n"
     ]
    }
   ],
   "source": [
    "arr = np.zeros((10,10))\n",
    "print(arr)\n",
    "arr[1:-1,1:-1]= 5\n",
    "print(arr)"
   ]
  },
  {
   "cell_type": "code",
   "execution_count": 360,
   "metadata": {},
   "outputs": [
    {
     "name": "stdout",
     "output_type": "stream",
     "text": [
      "45\n",
      "[12 15 18]\n",
      "[12 15 18]\n",
      "[12 15 18]\n"
     ]
    }
   ],
   "source": [
    "arr = np.array([\n",
    "                [1,2,3],\n",
    "                [4,5,6],\n",
    "                [7,8,9]\n",
    "                ])\n",
    "\n",
    "print(arr.sum())            # 預設 axis=none, 所有元素的加總\n",
    "\n",
    "print (arr.sum(0))\n",
    "print (arr.sum(axis=0))     # instance method\n",
    "print (np.sum(arr, axis=0)) # package function"
   ]
  },
  {
   "cell_type": "code",
   "execution_count": 365,
   "metadata": {},
   "outputs": [
    {
     "name": "stdout",
     "output_type": "stream",
     "text": [
      "[12 15 18]\n"
     ]
    }
   ],
   "source": [
    "print(np.sum(arr,axis=0))"
   ]
  },
  {
   "cell_type": "code",
   "execution_count": 366,
   "metadata": {},
   "outputs": [
    {
     "name": "stdout",
     "output_type": "stream",
     "text": [
      "[ 6 15 24]\n",
      "[ 6 15 24]\n",
      "[ 6 15 24]\n",
      "[7 8 9]\n",
      "[3 6 9]\n"
     ]
    }
   ],
   "source": [
    "print (arr.sum(1))\n",
    "print (arr.sum(axis=1))\n",
    "print (np.sum(arr, axis=1))\n",
    "\n",
    "print (arr.max(axis=0))\n",
    "print (arr.max(axis=1))"
   ]
  },
  {
   "cell_type": "code",
   "execution_count": 367,
   "metadata": {},
   "outputs": [
    {
     "name": "stdout",
     "output_type": "stream",
     "text": [
      "[1 2 3]\n",
      "[1 4 7]\n",
      "[4. 5. 6.]\n",
      "[2. 5. 8.]\n",
      "[4. 5. 6.]\n",
      "[2. 5. 8.]\n"
     ]
    }
   ],
   "source": [
    "print (arr.min(axis=0))\n",
    "print (arr.min(axis=1))\n",
    "\n",
    "print (arr.mean(axis=0))\n",
    "print (arr.mean(axis=1))\n",
    "\n",
    "print (np.median(arr, axis=0))\n",
    "print (np.median(arr, axis=1))"
   ]
  },
  {
   "cell_type": "code",
   "execution_count": 375,
   "metadata": {},
   "outputs": [
    {
     "name": "stdout",
     "output_type": "stream",
     "text": [
      "None\n",
      "[[1 1]\n",
      " [3 4]]\n",
      "None\n",
      "[[1 3]\n",
      " [1 4]]\n"
     ]
    }
   ],
   "source": [
    "arr = np.array([[3,1],\n",
    "                [1,4]])\n",
    "              \n",
    "print (arr.sort(axis=0)) # sort an array in place\n",
    "print (arr)\n",
    "\n",
    "# ------------------------------\n",
    "arr = np.array([[3,1],\n",
    "                [1,4]])\n",
    "              \n",
    "print (arr.sort(axis=1)) # sort an array in place\n",
    "print (arr)"
   ]
  },
  {
   "cell_type": "code",
   "execution_count": 376,
   "metadata": {},
   "outputs": [
    {
     "data": {
      "image/png": "[encoded data removed]",
      "text/plain": [
       "<Figure size 432x288 with 1 Axes>"
      ]
     },
     "metadata": {
      "needs_background": "light"
     },
     "output_type": "display_data"
    }
   ],
   "source": [
    "years = np.arange(2002, 2013)\n",
    "populations= np.random.randint(50, 100, years.shape)\n",
    "\n",
    "plt.plot(years, populations, color='r')\n",
    "plt.plot(years, populations * 1.5, color='b')\n",
    "\n",
    "plt.xlabel('Years')\n",
    "plt.ylabel('Populations')\n",
    "plt.title('population / year')\n",
    "plt.show()"
   ]
  },
  {
   "cell_type": "code",
   "execution_count": 379,
   "metadata": {},
   "outputs": [
    {
     "data": {
      "image/png": "[encoded data removed]",
      "text/plain": [
       "<Figure size 432x288 with 1 Axes>"
      ]
     },
     "metadata": {
      "needs_background": "light"
     },
     "output_type": "display_data"
    }
   ],
   "source": [
    "plt.bar(years, populations, color='r')\n",
    "plt.show()"
   ]
  },
  {
   "cell_type": "code",
   "execution_count": 380,
   "metadata": {},
   "outputs": [
    {
     "data": {
      "image/png": "[encoded data removed]",
      "text/plain": [
       "<Figure size 432x288 with 1 Axes>"
      ]
     },
     "metadata": {
      "needs_background": "light"
     },
     "output_type": "display_data"
    }
   ],
   "source": [
    "plt.barh(years, populations, color='r')\n",
    "plt.show()"
   ]
  },
  {
   "cell_type": "code",
   "execution_count": 383,
   "metadata": {},
   "outputs": [
    {
     "data": {
      "image/png": "[encoded data removed]",
      "text/plain": [
       "<Figure size 432x288 with 1 Axes>"
      ]
     },
     "metadata": {},
     "output_type": "display_data"
    }
   ],
   "source": [
    "plt.pie(populations, labels=years, autopct='%1.1f%%')\n",
    "plt.show()"
   ]
  },
  {
   "cell_type": "code",
   "execution_count": 388,
   "metadata": {},
   "outputs": [
    {
     "name": "stdout",
     "output_type": "stream",
     "text": [
      "[ 0.06707236 -0.70778638  1.26867997 -0.04563439 -1.39836793  0.98946687\n",
      "  1.54724787  1.14082759 -0.43680289 -0.09524062 -1.0058524   0.05285565\n",
      " -0.03266554 -1.04181861  1.93105998  0.77634535 -0.14361427 -3.19018335\n",
      "  0.87955949 -0.48050567 -1.0533618   0.58350803  1.68148044  0.68515951\n",
      " -0.64320264 -0.05369821  0.58139701  0.10828992 -0.54832029 -0.17085163\n",
      "  1.23612888 -0.4227358   1.28084762  0.46513796 -0.0418376   0.23266024\n",
      " -0.6202457   0.77284868 -1.9747543  -0.17552124  0.67519142 -3.2328517\n",
      " -0.57631499  0.59704871  0.51626111 -0.12527611  0.90721243 -0.97997152\n",
      " -0.2258529  -0.83010545  0.6065231  -0.2304077   0.59798772  0.57861918\n",
      "  0.40585012 -0.49740372  1.48595109  1.70609992  0.25553424 -0.02563689\n",
      "  0.09249475  0.72594161  0.60967217  1.6116574  -0.12185901  0.33491746\n",
      "  0.16765954 -0.30629311 -0.1000405   0.160594    0.88493837  0.92073887\n",
      "  0.85613751  0.24295885  0.06597486  0.18627937  0.27717974  0.63098052\n",
      " -2.08965214  0.94423346  1.13528044 -0.18262821  1.32367602 -0.44767588\n",
      " -1.07212624  1.36205734 -0.52345672 -0.38610738 -0.90380412 -0.88940216\n",
      "  1.01815057 -1.60209452  0.56190955 -0.38059828 -0.31930374  0.44568015\n",
      "  0.01468849  0.92836196 -0.01847932 -0.5636955 ]\n",
      "[ 0.50279919  0.60756507 -0.53949156  0.4657126  -0.04595301 -1.13529076\n",
      "  0.37560718  0.31553875  0.26585132 -1.0830041  -0.65617941  0.38269937\n",
      "  1.12324924 -0.09654402  1.21019333  0.87743922  0.73243314  0.58526415\n",
      " -0.27881302  1.63269482  0.01220755 -0.16886377  0.97049968 -0.50494549\n",
      "  0.54769054 -0.31664599  0.28378876 -1.51773089 -0.66870123 -0.46203099\n",
      " -0.98983352  0.32420391  0.0407896  -1.92141825  0.38509456 -0.16009326\n",
      "  0.9749895  -1.08058519  0.78803644  1.10869401 -0.20277991 -0.00337642\n",
      " -0.1344819   0.81273091  1.02076084 -1.69925897 -0.71783523  1.32309071\n",
      "  0.68312169  0.2776122   0.08849194 -0.39332213 -0.68775662 -0.03458725\n",
      "  0.86754524 -2.19251037  1.82171174  0.49350351 -0.28528097  0.28652325\n",
      " -1.04477113 -1.01374058 -0.00730252 -1.32761195  1.85240567  0.83478307\n",
      "  1.93078778 -0.12182478 -0.10245725  0.10772821 -1.74912351 -0.06192276\n",
      " -1.66788379  0.41857793  1.03563247 -0.95446545  1.22623965  1.11875305\n",
      "  1.50613419 -1.16317165  0.39174845  1.01576185 -0.81794607 -0.05891153\n",
      "  0.64508114  0.22438335 -1.31292457 -0.41729491  1.86333957  0.03202097\n",
      " -1.27592519 -1.62153848 -0.52520404  0.4109857   0.19516128  0.71587404\n",
      " -0.28813919 -1.18582003 -0.50038901  0.34458397]\n"
     ]
    },
    {
     "data": {
      "image/png": "[encoded data removed]",
      "text/plain": [
       "<Figure size 432x288 with 1 Axes>"
      ]
     },
     "metadata": {
      "needs_background": "light"
     },
     "output_type": "display_data"
    }
   ],
   "source": [
    "x = np.random.randn(100)\n",
    "y = np.random.randn(100)\n",
    "print (x)\n",
    "print (y)\n",
    "\n",
    "plt.scatter(x,y)\n",
    "plt.show()"
   ]
  },
  {
   "cell_type": "code",
   "execution_count": 389,
   "metadata": {},
   "outputs": [
    {
     "data": {
      "image/png": "[encoded data removed]",
      "text/plain": [
       "<Figure size 432x288 with 1 Axes>"
      ]
     },
     "metadata": {
      "needs_background": "light"
     },
     "output_type": "display_data"
    },
    {
     "data": {
      "image/png": "[encoded data removed]",
      "text/plain": [
       "<Figure size 432x288 with 1 Axes>"
      ]
     },
     "metadata": {
      "needs_background": "light"
     },
     "output_type": "display_data"
    }
   ],
   "source": [
    "plt.scatter(x[x>0], y[x>0],c='r')\n",
    "plt.scatter(x[x<=0], y[x<=0],c='g')\n",
    "plt.show()\n",
    "\n",
    "# TODO scatter y > 0 紅色 \n",
    "plt.scatter(x[y>0], y[y>0],c='r')\n",
    "plt.scatter(x[y<=0], y[y<=0],c='g')\n",
    "plt.show()"
   ]
  },
  {
   "cell_type": "code",
   "execution_count": 391,
   "metadata": {},
   "outputs": [
    {
     "name": "stdout",
     "output_type": "stream",
     "text": [
      "0    11\n",
      "1    22\n",
      "2    33\n",
      "dtype: int64\n",
      "RangeIndex(start=0, stop=3, step=1)\n",
      "[11 22 33] <class 'numpy.ndarray'>\n",
      "1 (3,)\n"
     ]
    }
   ],
   "source": [
    "series1 = pd.Series([11,22,33])\n",
    "print(series1)\n",
    "print(series1.index)\n",
    "print(series1.values, type(series1.values))\n",
    "print(series1.ndim, series1.shape)"
   ]
  },
  {
   "cell_type": "code",
   "execution_count": 394,
   "metadata": {},
   "outputs": [
    {
     "name": "stdout",
     "output_type": "stream",
     "text": [
      "id\n",
      "0    11\n",
      "1    22\n",
      "2    33\n",
      "Name: Chi, dtype: int64\n"
     ]
    }
   ],
   "source": [
    "series1.index.name='id'\n",
    "series1.name='Chi'\n",
    "print(series1)"
   ]
  },
  {
   "cell_type": "code",
   "execution_count": 395,
   "metadata": {},
   "outputs": [
    {
     "name": "stdout",
     "output_type": "stream",
     "text": [
      "a     80\n",
      "b     90\n",
      "c    100\n",
      "Name: Chi Scores, dtype: int64\n",
      "a    160\n",
      "b    180\n",
      "c    200\n",
      "Name: Chi Scores, dtype: int64\n",
      "a    False\n",
      "b     True\n",
      "c     True\n",
      "Name: Chi Scores, dtype: bool\n",
      "b     90\n",
      "c    100\n",
      "Name: Chi Scores, dtype: int64\n"
     ]
    }
   ],
   "source": [
    "series1 = pd.Series([80,90, 100], index=['a','b','c'], name='Chi Scores')\n",
    "print(series1)\n",
    "# a     80\n",
    "# b     90\n",
    "# c    100\n",
    "# Name: Chi Scores, dtype: int64\n",
    "\n",
    "print(series1*2)\n",
    "print(series1 >= 90)\n",
    "print(series1[series1>=90])"
   ]
  },
  {
   "cell_type": "code",
   "execution_count": 396,
   "metadata": {},
   "outputs": [
    {
     "name": "stdout",
     "output_type": "stream",
     "text": [
      "a    160.0\n",
      "b    160.0\n",
      "c    200.0\n",
      "d      NaN\n",
      "dtype: float64\n",
      "80 80\n",
      "100\n"
     ]
    }
   ],
   "source": [
    "series2 = pd.Series([80,70, 100,99], index=['a','b','c','d'], name='Eng Scores')\n",
    "print(series1 + series2)\n",
    "\n",
    "#endregion\n",
    "\n",
    "# region Series index [ ] 篩選資料\n",
    "series1 = pd.Series([80,90, 100], index=['a','b','c'])\n",
    "print(series1['a'], series1[0]) # 直接索引[]  OK\n",
    "\n",
    "# 直接索引[] confuse\n",
    "series1 =  pd.Series([80,70, 100,99], index=[5,6,0,3])\n",
    "print(series1[0])\n"
   ]
  },
  {
   "cell_type": "code",
   "execution_count": 397,
   "metadata": {},
   "outputs": [
    {
     "name": "stdout",
     "output_type": "stream",
     "text": [
      "a    0\n",
      "b    1\n",
      "c    2\n",
      "d    3\n",
      "e    4\n",
      "f    5\n",
      "g    6\n",
      "h    7\n",
      "i    8\n",
      "j    9\n",
      "dtype: int64\n",
      "3\n",
      "d    3\n",
      "e    4\n",
      "f    5\n",
      "g    6\n",
      "dtype: int64\n",
      "a    0\n",
      "d    3\n",
      "f    5\n",
      "dtype: int64\n",
      "0\n",
      "a    0\n",
      "b    1\n",
      "c    2\n",
      "d    3\n",
      "e    4\n",
      "f    5\n",
      "dtype: int64\n",
      "a    0\n",
      "b    1\n",
      "f    5\n",
      "dtype: int64\n"
     ]
    }
   ],
   "source": [
    "series1 = pd.Series(np.arange(10), index=list('abcdefghij'))\n",
    "print(series1)\n",
    "\n",
    "print(series1.iloc[3])\n",
    "print(series1.iloc[3:7])\n",
    "print(series1.iloc[[0,3,5]])\n",
    "\n",
    "print(series1.loc['a'])\n",
    "print(series1.loc['a':'f'])\n",
    "print(series1.loc[['a','b','f']])"
   ]
  },
  {
   "cell_type": "code",
   "execution_count": 398,
   "metadata": {},
   "outputs": [
    {
     "name": "stdout",
     "output_type": "stream",
     "text": [
      "2     0\n",
      "3     1\n",
      "1     2\n",
      "6     3\n",
      "7     4\n",
      "8     5\n",
      "9     6\n",
      "10    7\n",
      "11    8\n",
      "5     9\n",
      "dtype: int64\n",
      "2    0\n",
      "3    1\n",
      "1    2\n",
      "dtype: int64\n",
      "2    0\n",
      "3    1\n",
      "dtype: int64\n"
     ]
    }
   ],
   "source": [
    "s1 = pd.Series( np.arange(10), index=[2,3,1,6,7,8,9,10,11,5])\n",
    "print(s1)\n",
    "print(s1.iloc[:3]) \n",
    "print(s1.loc[:3])\n"
   ]
  },
  {
   "cell_type": "code",
   "execution_count": 399,
   "metadata": {},
   "outputs": [
    {
     "name": "stdout",
     "output_type": "stream",
     "text": [
      "a    0\n",
      "c    2\n",
      "e    4\n",
      "g    6\n",
      "i    8\n",
      "dtype: int64\n",
      "g    6\n",
      "h    7\n",
      "i    8\n",
      "j    9\n",
      "dtype: int64\n",
      "g    6\n",
      "h    7\n",
      "i    8\n",
      "j    9\n",
      "dtype: int64\n",
      "0\n",
      "3\n"
     ]
    }
   ],
   "source": [
    "print(series1.loc[series1%2==0])\n",
    "print(series1.loc[series1>5])\n",
    "print(series1[series1>5])      # 直接索引 OK, for boolean index\n",
    "print(series1.a)               # 動態屬性\n",
    "print(series1.d)  "
   ]
  },
  {
   "cell_type": "code",
   "execution_count": 401,
   "metadata": {},
   "outputs": [
    {
     "name": "stdout",
     "output_type": "stream",
     "text": [
      "g    6\n",
      "h    7\n",
      "dtype: int64\n",
      "g    6\n",
      "h    7\n",
      "dtype: int64\n"
     ]
    }
   ],
   "source": [
    "def myfunc(s):\n",
    "    # ..............\n",
    "    return (s>5) & (s<8)\n",
    "print(series1.loc[myfunc])                        # 具名方法 function\n",
    "print(series1.loc[lambda s: (s>5) & (s<8) ])"
   ]
  },
  {
   "cell_type": "code",
   "execution_count": null,
   "metadata": {},
   "outputs": [],
   "source": []
  }
 ],
 "metadata": {
  "kernelspec": {
   "display_name": "Python 3",
   "language": "python",
   "name": "python3"
  },
  "language_info": {
   "codemirror_mode": {
    "name": "ipython",
    "version": 3
   },
   "file_extension": ".py",
   "mimetype": "text/x-python",
   "name": "python",
   "nbconvert_exporter": "python",
   "pygments_lexer": "ipython3",
   "version": "3.7.2"
  }
 },
 "nbformat": 4,
 "nbformat_minor": 2
}
