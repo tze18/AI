{
 "cells": [
  {
   "cell_type": "code",
   "execution_count": 2,
   "metadata": {},
   "outputs": [],
   "source": [
    "import pandas as pd\n",
    "\n",
    "# dataFrame \n",
    "# 1. 就如 Table 表格,  多個 series, 共享相同的 index, 每個 series 可以不同 的 Data Type\n",
    "# 2. 列索引與欄索引  [row_indexer , col_indexer]  (列標籤索引與欄標籤索引)\n",
    "# 3. axis 方向很重要 ; 沿著 row 的方向 axis = 0,  沿著column 的方向 axis = 1, \n",
    "\n",
    "# region DataFrame 結構\n",
    "\n"
   ]
  },
  {
   "cell_type": "code",
   "execution_count": 10,
   "metadata": {},
   "outputs": [
    {
     "name": "stdout",
     "output_type": "stream",
     "text": [
      "  name  gender  chi  eng  math\n",
      "0  aaa    male   80   90    20\n",
      "1  bbb    male   63   98    40\n",
      "2  zzz  female   26   97    50\n",
      "3  sss    male   75   67    60\n",
      "4  qqq  female   78   58    70\n",
      "5  www  female   90   90    80\n"
     ]
    }
   ],
   "source": [
    "data ={'name':['aaa','bbb','zzz','sss','qqq','www'],\n",
    "          'gender':['male','male','female','male','female','female'],\n",
    "          'chi':[80,63,26,75,78,90],\n",
    "          'eng':[90,98,97,67,58,90],\n",
    "          'math':[20,40,50,60,70,80]}\n",
    "df=pd.DataFrame(data,columns=['name','gender','chi','eng','math'])\n",
    "print(df)"
   ]
  },
  {
   "cell_type": "code",
   "execution_count": 13,
   "metadata": {},
   "outputs": [
    {
     "name": "stdout",
     "output_type": "stream",
     "text": [
      "2 (6, 5) 30\n"
     ]
    }
   ],
   "source": [
    "print(df.ndim,df.shape,df.size)"
   ]
  },
  {
   "cell_type": "code",
   "execution_count": 18,
   "metadata": {},
   "outputs": [
    {
     "name": "stdout",
     "output_type": "stream",
     "text": [
      "Index(['name', 'gender', 'chi', 'eng', 'math'], dtype='object') RangeIndex(start=0, stop=6, step=1) name      object\n",
      "gender    object\n",
      "chi        int64\n",
      "eng        int64\n",
      "math       int64\n",
      "dtype: object\n"
     ]
    }
   ],
   "source": [
    "print(df.columns,df.index,df.dtypes)"
   ]
  },
  {
   "cell_type": "code",
   "execution_count": 19,
   "metadata": {},
   "outputs": [
    {
     "name": "stdout",
     "output_type": "stream",
     "text": [
      "<class 'numpy.ndarray'> [['aaa' 'male' 80 90 20]\n",
      " ['bbb' 'male' 63 98 40]\n",
      " ['zzz' 'female' 26 97 50]\n",
      " ['sss' 'male' 75 67 60]\n",
      " ['qqq' 'female' 78 58 70]\n",
      " ['www' 'female' 90 90 80]]\n"
     ]
    }
   ],
   "source": [
    "print(type(df.values),df.values)"
   ]
  },
  {
   "cell_type": "code",
   "execution_count": 20,
   "metadata": {},
   "outputs": [
    {
     "name": "stdout",
     "output_type": "stream",
     "text": [
      "             chi        eng       math\n",
      "count   6.000000   6.000000   6.000000\n",
      "mean   68.666667  83.333333  53.333333\n",
      "std    22.642144  16.729216  21.602469\n",
      "min    26.000000  58.000000  20.000000\n",
      "25%    66.000000  72.750000  42.500000\n",
      "50%    76.500000  90.000000  55.000000\n",
      "75%    79.500000  95.250000  67.500000\n",
      "max    90.000000  98.000000  80.000000\n"
     ]
    }
   ],
   "source": [
    "print(df.describe())"
   ]
  },
  {
   "cell_type": "code",
   "execution_count": 27,
   "metadata": {},
   "outputs": [
    {
     "name": "stdout",
     "output_type": "stream",
     "text": [
      "<class 'pandas.core.frame.DataFrame'>\n",
      "RangeIndex: 6 entries, 0 to 5\n",
      "Data columns (total 5 columns):\n",
      "name      6 non-null object\n",
      "gender    6 non-null object\n",
      "chi       6 non-null int64\n",
      "eng       6 non-null int64\n",
      "math      6 non-null int64\n",
      "dtypes: int64(3), object(2)\n",
      "memory usage: 320.0+ bytes\n",
      "None\n"
     ]
    }
   ],
   "source": [
    "print(df.info())"
   ]
  },
  {
   "cell_type": "code",
   "execution_count": 28,
   "metadata": {},
   "outputs": [
    {
     "name": "stdout",
     "output_type": "stream",
     "text": [
      "  name  gender  chi  eng  math\n",
      "0  aaa    male   80   90    20\n",
      "1  bbb    male   63   98    40\n",
      "2  zzz  female   26   97    50\n",
      "3  sss    male   75   67    60\n",
      "4  qqq  female   78   58    70\n",
      "5  www  female   90   90    80\n"
     ]
    }
   ],
   "source": [
    "print(df.head(6))"
   ]
  },
  {
   "cell_type": "code",
   "execution_count": 25,
   "metadata": {},
   "outputs": [
    {
     "name": "stdout",
     "output_type": "stream",
     "text": [
      "  name  gender  chi  eng  math\n",
      "1  bbb    male   63   98    40\n",
      "2  zzz  female   26   97    50\n",
      "3  sss    male   75   67    60\n",
      "4  qqq  female   78   58    70\n",
      "5  www  female   90   90    80\n"
     ]
    }
   ],
   "source": [
    "print(df.tail())"
   ]
  },
  {
   "cell_type": "code",
   "execution_count": 29,
   "metadata": {},
   "outputs": [
    {
     "name": "stdout",
     "output_type": "stream",
     "text": [
      "  name  gender  chi  eng  math\n",
      "0  aaa    male   80   90    20\n",
      "1  bbb    male   63   98    40\n",
      "2  zzz  female   26   97    50\n",
      "3  sss    male   75   67    60\n",
      "4  qqq  female   78   58    70\n"
     ]
    }
   ],
   "source": [
    "print(df.head())"
   ]
  },
  {
   "cell_type": "code",
   "execution_count": 31,
   "metadata": {},
   "outputs": [
    {
     "name": "stdout",
     "output_type": "stream",
     "text": [
      "<table border=\"1\" class=\"dataframe\">\n",
      "  <thead>\n",
      "    <tr style=\"text-align: right;\">\n",
      "      <th></th>\n",
      "      <th>name</th>\n",
      "      <th>gender</th>\n",
      "      <th>chi</th>\n",
      "      <th>eng</th>\n",
      "      <th>math</th>\n",
      "    </tr>\n",
      "  </thead>\n",
      "  <tbody>\n",
      "    <tr>\n",
      "      <th>0</th>\n",
      "      <td>aaa</td>\n",
      "      <td>male</td>\n",
      "      <td>80</td>\n",
      "      <td>90</td>\n",
      "      <td>20</td>\n",
      "    </tr>\n",
      "    <tr>\n",
      "      <th>1</th>\n",
      "      <td>bbb</td>\n",
      "      <td>male</td>\n",
      "      <td>63</td>\n",
      "      <td>98</td>\n",
      "      <td>40</td>\n",
      "    </tr>\n",
      "    <tr>\n",
      "      <th>2</th>\n",
      "      <td>zzz</td>\n",
      "      <td>female</td>\n",
      "      <td>26</td>\n",
      "      <td>97</td>\n",
      "      <td>50</td>\n",
      "    </tr>\n",
      "    <tr>\n",
      "      <th>3</th>\n",
      "      <td>sss</td>\n",
      "      <td>male</td>\n",
      "      <td>75</td>\n",
      "      <td>67</td>\n",
      "      <td>60</td>\n",
      "    </tr>\n",
      "    <tr>\n",
      "      <th>4</th>\n",
      "      <td>qqq</td>\n",
      "      <td>female</td>\n",
      "      <td>78</td>\n",
      "      <td>58</td>\n",
      "      <td>70</td>\n",
      "    </tr>\n",
      "    <tr>\n",
      "      <th>5</th>\n",
      "      <td>www</td>\n",
      "      <td>female</td>\n",
      "      <td>90</td>\n",
      "      <td>90</td>\n",
      "      <td>80</td>\n",
      "    </tr>\n",
      "  </tbody>\n",
      "</table>\n"
     ]
    }
   ],
   "source": [
    "print(df.to_html())"
   ]
  },
  {
   "cell_type": "code",
   "execution_count": 41,
   "metadata": {},
   "outputs": [
    {
     "name": "stdout",
     "output_type": "stream",
     "text": [
      "None\n"
     ]
    }
   ],
   "source": [
    "# df.loc['aaa','math']=100\n",
    "# print(df.to_excel('data/test.xlsx'))"
   ]
  },
  {
   "cell_type": "code",
   "execution_count": 40,
   "metadata": {},
   "outputs": [
    {
     "name": "stdout",
     "output_type": "stream",
     "text": [
      "   Unnamed: 0     Id      Name  Year Gender State  Count\n",
      "0       11349  11350      Emma  2004      F    AK     62\n",
      "1       11350  11351   Madison  2004      F    AK     48\n",
      "2       11351  11352    Hannah  2004      F    AK     46\n",
      "3       11352  11353     Grace  2004      F    AK     44\n",
      "4       11353  11354     Emily  2004      F    AK     41\n",
      "5       11354  11355   Abigail  2004      F    AK     37\n",
      "6       11355  11356    Olivia  2004      F    AK     33\n",
      "7       11356  11357  Isabella  2004      F    AK     30\n",
      "8       11357  11358    Alyssa  2004      F    AK     29\n",
      "9       11358  11359    Sophia  2004      F    AK     28\n"
     ]
    }
   ],
   "source": [
    "todo US babt names 總共有幾筆？ show 前十筆\n",
    "df_baby=pd.DataFrame(pd.read_csv('data/US_Baby_Names_right.csv'))\n",
    "print(df_baby.head())"
   ]
  },
  {
   "cell_type": "code",
   "execution_count": 76,
   "metadata": {},
   "outputs": [
    {
     "name": "stdout",
     "output_type": "stream",
     "text": [
      "         Name  Count\n",
      "73       Mary     11\n",
      "230      Mary     18\n",
      "511      Mary      9\n",
      "713      Mary     11\n",
      "896      Mary     12\n",
      "1217     Mary      6\n",
      "1317     Mary     15\n",
      "1537     Mary     15\n",
      "1765     Mary     15\n",
      "1993     Mary     14\n",
      "2351     Mary      6\n",
      "5001     Mary    204\n",
      "5832     Mary    221\n",
      "6691     Mary    150\n",
      "7585     Mary    191\n",
      "8527     Mary    183\n",
      "9465     Mary    144\n",
      "10381    Mary    147\n",
      "11301    Mary    138\n",
      "12212    Mary    123\n",
      "13083    Mary    126\n",
      "13968    Mary    112\n",
      "23310    Mary     86\n",
      "23930    Mary     68\n",
      "24571    Mary     57\n",
      "25224    Mary     54\n",
      "25909    Mary     39\n",
      "26574    Mary     44\n",
      "27224    Mary     45\n",
      "27929    Mary     33\n",
      "...       ...    ...\n",
      "970968   Mary     35\n",
      "972181   Mary     39\n",
      "973447   Mary     32\n",
      "985594   Mary     64\n",
      "986462   Mary     57\n",
      "987370   Mary     57\n",
      "988324   Mary     53\n",
      "989294   Mary     52\n",
      "990350   Mary     36\n",
      "991341   Mary     41\n",
      "992352   Mary     34\n",
      "993374   Mary     28\n",
      "994309   Mary     36\n",
      "995269   Mary     36\n",
      "1005052  Mary     31\n",
      "1005494  Mary     15\n",
      "1005848  Mary     19\n",
      "1006224  Mary     21\n",
      "1006669  Mary     14\n",
      "1007047  Mary     16\n",
      "1007448  Mary     13\n",
      "1007821  Mary     16\n",
      "1008652  Mary     14\n",
      "1009107  Mary     10\n",
      "1013154  Mary      5\n",
      "1013504  Mary      7\n",
      "1013686  Mary      6\n",
      "1013786  Mary      7\n",
      "1013902  Mary      8\n",
      "1014481  Mary      5\n",
      "\n",
      "[530 rows x 2 columns]\n"
     ]
    }
   ],
   "source": [
    "#todo 有多少小baby叫Mary\n",
    "bn=pd.DataFrame(pd.read_csv('data/US_Baby_Names_right.csv'))\n",
    "\n",
    "print(bn.loc[bn.Name=='Mary',['Name','Count']])"
   ]
  },
  {
   "cell_type": "code",
   "execution_count": 78,
   "metadata": {},
   "outputs": [
    {
     "name": "stdout",
     "output_type": "stream",
     "text": [
      "36944\n"
     ]
    }
   ],
   "source": [
    "print((bn.loc[bn.Name=='Mary','Count']).sum())"
   ]
  },
  {
   "cell_type": "code",
   "execution_count": 42,
   "metadata": {},
   "outputs": [
    {
     "name": "stdout",
     "output_type": "stream",
     "text": [
      "0      80.0\n",
      "1      63.0\n",
      "2      26.0\n",
      "3      75.0\n",
      "4      78.0\n",
      "5      90.0\n",
      "aaa     NaN\n",
      "a       NaN\n",
      "Name: chi, dtype: float64\n"
     ]
    }
   ],
   "source": [
    "print(df['chi'])"
   ]
  },
  {
   "cell_type": "code",
   "execution_count": 43,
   "metadata": {},
   "outputs": [
    {
     "name": "stdout",
     "output_type": "stream",
     "text": [
      "0      80.0\n",
      "1      63.0\n",
      "2      26.0\n",
      "3      75.0\n",
      "4      78.0\n",
      "5      90.0\n",
      "aaa     NaN\n",
      "a       NaN\n",
      "Name: chi, dtype: float64\n"
     ]
    }
   ],
   "source": [
    "print(df.chi)"
   ]
  },
  {
   "cell_type": "code",
   "execution_count": 44,
   "metadata": {},
   "outputs": [
    {
     "name": "stdout",
     "output_type": "stream",
     "text": [
      "    name  gender   chi   eng   math\n",
      "0    aaa    male  80.0  90.0   20.0\n",
      "1    bbb    male  63.0  98.0   40.0\n",
      "2    zzz  female  26.0  97.0   50.0\n",
      "3    sss    male  75.0  67.0   60.0\n",
      "4    qqq  female  78.0  58.0   70.0\n",
      "5    www  female  90.0  90.0   80.0\n",
      "aaa  NaN     NaN   NaN   NaN  100.0\n",
      "a    NaN     NaN   NaN   NaN  100.0\n"
     ]
    }
   ],
   "source": [
    "print(df)"
   ]
  },
  {
   "cell_type": "code",
   "execution_count": 45,
   "metadata": {},
   "outputs": [
    {
     "name": "stdout",
     "output_type": "stream",
     "text": [
      "      chi   math\n",
      "0    80.0   20.0\n",
      "1    63.0   40.0\n",
      "2    26.0   50.0\n",
      "3    75.0   60.0\n",
      "4    78.0   70.0\n",
      "5    90.0   80.0\n",
      "aaa   NaN  100.0\n",
      "a     NaN  100.0\n"
     ]
    }
   ],
   "source": [
    "print(df[['chi','math']])"
   ]
  },
  {
   "cell_type": "code",
   "execution_count": 50,
   "metadata": {},
   "outputs": [
    {
     "name": "stdout",
     "output_type": "stream",
     "text": [
      "0      80.0\n",
      "1      63.0\n",
      "2      26.0\n",
      "3      75.0\n",
      "4      78.0\n",
      "5      90.0\n",
      "aaa     NaN\n",
      "a       NaN\n",
      "Name: chi, dtype: float64 <class 'pandas.core.series.Series'>\n"
     ]
    }
   ],
   "source": [
    "print(df['chi'],type(df.chi))"
   ]
  },
  {
   "cell_type": "code",
   "execution_count": 49,
   "metadata": {},
   "outputs": [
    {
     "name": "stdout",
     "output_type": "stream",
     "text": [
      "0      80.0\n",
      "1      63.0\n",
      "2      26.0\n",
      "3      75.0\n",
      "4      78.0\n",
      "5      90.0\n",
      "aaa     NaN\n",
      "a       NaN\n",
      "Name: chi, dtype: float64 <class 'pandas.core.series.Series'>\n"
     ]
    }
   ],
   "source": [
    "print(df.chi,type(df.chi))"
   ]
  },
  {
   "cell_type": "code",
   "execution_count": 69,
   "metadata": {},
   "outputs": [
    {
     "name": "stdout",
     "output_type": "stream",
     "text": [
      "    name  gender   chi   eng   math        Avg\n",
      "0    aaa    male  80.0  90.0   20.0  63.333333\n",
      "1    bbb    male  63.0  98.0   40.0  67.000000\n",
      "2    zzz  female  26.0  97.0   50.0  57.666667\n",
      "3    sss    male  75.0  67.0   60.0  67.333333\n",
      "4    qqq  female  78.0  58.0   70.0  68.666667\n",
      "5    www  female  90.0  90.0   80.0  86.666667\n",
      "aaa  NaN     NaN   NaN   NaN  100.0        NaN\n",
      "a    NaN     NaN   NaN   NaN  100.0        NaN\n"
     ]
    }
   ],
   "source": [
    "df['Avg']=(df.chi+df.eng+df.math)/3\n",
    "print(df)"
   ]
  },
  {
   "cell_type": "code",
   "execution_count": 72,
   "metadata": {},
   "outputs": [
    {
     "name": "stdout",
     "output_type": "stream",
     "text": [
      "  name  gender   eng\n",
      "4  qqq  female  58.0 <class 'pandas.core.series.Series'>\n"
     ]
    }
   ],
   "source": [
    "print(df.loc[df.eng<60,['name','gender','eng']],type(df.eng))"
   ]
  },
  {
   "cell_type": "code",
   "execution_count": 61,
   "metadata": {},
   "outputs": [
    {
     "name": "stdout",
     "output_type": "stream",
     "text": [
      "0       True\n",
      "1       True\n",
      "2       True\n",
      "3       True\n",
      "4      False\n",
      "5       True\n",
      "aaa    False\n",
      "a      False\n",
      "Name: eng, dtype: bool\n"
     ]
    }
   ],
   "source": [
    "print(df['eng']>60)"
   ]
  },
  {
   "cell_type": "code",
   "execution_count": 82,
   "metadata": {},
   "outputs": [
    {
     "name": "stdout",
     "output_type": "stream",
     "text": [
      "chi     412.0\n",
      "eng     500.0\n",
      "math    520.0\n",
      "dtype: float64\n"
     ]
    }
   ],
   "source": [
    "print(df[[\"chi\",\"eng\",\"math\"]].sum(axis='index'))"
   ]
  },
  {
   "cell_type": "code",
   "execution_count": 83,
   "metadata": {},
   "outputs": [
    {
     "name": "stdout",
     "output_type": "stream",
     "text": [
      "chi     412.0\n",
      "eng     500.0\n",
      "math    520.0\n",
      "dtype: float64\n"
     ]
    }
   ],
   "source": [
    "print(df[[\"chi\",\"eng\",\"math\"]].sum())"
   ]
  },
  {
   "cell_type": "code",
   "execution_count": 84,
   "metadata": {},
   "outputs": [
    {
     "name": "stdout",
     "output_type": "stream",
     "text": [
      "chi     412.0\n",
      "eng     500.0\n",
      "math    520.0\n",
      "dtype: float64\n"
     ]
    }
   ],
   "source": [
    "print(df[[\"chi\",\"eng\",\"math\"]].sum(axis=0))"
   ]
  },
  {
   "cell_type": "code",
   "execution_count": 85,
   "metadata": {},
   "outputs": [
    {
     "name": "stdout",
     "output_type": "stream",
     "text": [
      "0      190.0\n",
      "1      201.0\n",
      "2      173.0\n",
      "3      202.0\n",
      "4      206.0\n",
      "5      260.0\n",
      "aaa    100.0\n",
      "a      100.0\n",
      "dtype: float64\n"
     ]
    }
   ],
   "source": [
    "print(df[[\"chi\",\"eng\",\"math\"]].sum(axis=1))"
   ]
  },
  {
   "cell_type": "code",
   "execution_count": 86,
   "metadata": {},
   "outputs": [
    {
     "name": "stdout",
     "output_type": "stream",
     "text": [
      "0      190.0\n",
      "1      201.0\n",
      "2      173.0\n",
      "3      202.0\n",
      "4      206.0\n",
      "5      260.0\n",
      "aaa    100.0\n",
      "a      100.0\n",
      "dtype: float64\n"
     ]
    }
   ],
   "source": [
    "print(df[[\"chi\",\"eng\",\"math\"]].sum(axis='columns'))"
   ]
  },
  {
   "cell_type": "code",
   "execution_count": 88,
   "metadata": {},
   "outputs": [
    {
     "name": "stdout",
     "output_type": "stream",
     "text": [
      "chi     412.0\n",
      "eng     500.0\n",
      "math    520.0\n",
      "dtype: float64\n"
     ]
    }
   ],
   "source": [
    "print(df[[\"chi\",\"eng\",\"math\"]].sum(axis='rows'))"
   ]
  },
  {
   "cell_type": "code",
   "execution_count": 89,
   "metadata": {},
   "outputs": [
    {
     "name": "stdout",
     "output_type": "stream",
     "text": [
      "       chi    eng   math\n",
      "min   26.0   58.0   20.0\n",
      "max   90.0   98.0  100.0\n",
      "sum  412.0  500.0  520.0\n"
     ]
    }
   ],
   "source": [
    "print(df[[\"chi\",\"eng\",\"math\"]].agg(['min','max','sum']))"
   ]
  },
  {
   "cell_type": "code",
   "execution_count": null,
   "metadata": {},
   "outputs": [],
   "source": []
  }
 ],
 "metadata": {
  "kernelspec": {
   "display_name": "Python 3",
   "language": "python",
   "name": "python3"
  },
  "language_info": {
   "codemirror_mode": {
    "name": "ipython",
    "version": 3
   },
   "file_extension": ".py",
   "mimetype": "text/x-python",
   "name": "python",
   "nbconvert_exporter": "python",
   "pygments_lexer": "ipython3",
   "version": "3.7.2"
  }
 },
 "nbformat": 4,
 "nbformat_minor": 2
}
