{
 "cells": [
  {
   "cell_type": "code",
   "execution_count": 5,
   "metadata": {},
   "outputs": [
    {
     "data": {
      "text/plain": [
       "0    11\n",
       "1    22\n",
       "2    33\n",
       "dtype: int64"
      ]
     },
     "execution_count": 5,
     "metadata": {},
     "output_type": "execute_result"
    }
   ],
   "source": [
    "import numpy as np\n",
    "import pandas as pd \n",
    "import matplotlib.pyplot as plt\n",
    "# region Create Series\n",
    "\n",
    "# Series - 有 label 標籤索引   的 一維  ndarray \n",
    "\n",
    "# 位置索引 (int index)               index 可以是  0,1,2 .. (預設)   \n",
    "# 標籤索引 (label index)             index 可以是 'a', 'b'... (index 可重複)\n",
    "\n",
    "series1 = pd.Series([11,22,33])\n",
    "(series1)"
   ]
  },
  {
   "cell_type": "code",
   "execution_count": 6,
   "metadata": {},
   "outputs": [
    {
     "name": "stdout",
     "output_type": "stream",
     "text": [
      "RangeIndex(start=0, stop=3, step=1)\n"
     ]
    }
   ],
   "source": [
    "print(series1.index)"
   ]
  },
  {
   "cell_type": "code",
   "execution_count": 7,
   "metadata": {},
   "outputs": [
    {
     "name": "stdout",
     "output_type": "stream",
     "text": [
      "[11 22 33] <class 'numpy.ndarray'>\n"
     ]
    }
   ],
   "source": [
    "print(series1.values, type(series1.values))"
   ]
  },
  {
   "cell_type": "code",
   "execution_count": 8,
   "metadata": {},
   "outputs": [
    {
     "name": "stdout",
     "output_type": "stream",
     "text": [
      "1 (3,)\n"
     ]
    }
   ],
   "source": [
    "print(series1.ndim, series1.shape)"
   ]
  },
  {
   "cell_type": "code",
   "execution_count": 9,
   "metadata": {},
   "outputs": [
    {
     "name": "stdout",
     "output_type": "stream",
     "text": [
      "id\n",
      "0    11\n",
      "1    22\n",
      "2    33\n",
      "Name: Chi, dtype: int64\n"
     ]
    }
   ],
   "source": [
    "series1.index.name='id'\n",
    "series1.name='Chi'\n",
    "print(series1)"
   ]
  },
  {
   "cell_type": "code",
   "execution_count": 12,
   "metadata": {},
   "outputs": [
    {
     "name": "stdout",
     "output_type": "stream",
     "text": [
      "a     80\n",
      "b     90\n",
      "c    100\n",
      "Name: Chi Scores, dtype: int64\n"
     ]
    }
   ],
   "source": [
    "series1 = pd.Series([80,90, 100], index=['a','b','c'], name='Chi Scores')\n",
    "print(series1)"
   ]
  },
  {
   "cell_type": "code",
   "execution_count": 13,
   "metadata": {},
   "outputs": [
    {
     "name": "stdout",
     "output_type": "stream",
     "text": [
      "a    160\n",
      "b    180\n",
      "c    200\n",
      "Name: Chi Scores, dtype: int64\n",
      "a    False\n",
      "b     True\n",
      "c     True\n",
      "Name: Chi Scores, dtype: bool\n",
      "b     90\n",
      "c    100\n",
      "Name: Chi Scores, dtype: int64\n"
     ]
    }
   ],
   "source": [
    "print(series1*2)\n",
    "print(series1 >= 90)\n",
    "print(series1[series1>=90]) #布林索引"
   ]
  },
  {
   "cell_type": "code",
   "execution_count": 15,
   "metadata": {},
   "outputs": [
    {
     "name": "stdout",
     "output_type": "stream",
     "text": [
      "a     80\n",
      "b     70\n",
      "c    100\n",
      "d     99\n",
      "Name: Eng Scores, dtype: int64\n"
     ]
    }
   ],
   "source": [
    "series2 = pd.Series([80,70, 100,99], index=['a','b','c','d'], name='Eng Scores')\n",
    "print(series2)"
   ]
  },
  {
   "cell_type": "code",
   "execution_count": 16,
   "metadata": {},
   "outputs": [
    {
     "name": "stdout",
     "output_type": "stream",
     "text": [
      "a    160.0\n",
      "b    160.0\n",
      "c    200.0\n",
      "d      NaN\n",
      "dtype: float64\n"
     ]
    }
   ],
   "source": [
    "series2 = pd.Series([80,70, 100,99], index=['a','b','c','d'], name='Eng Scores')\n",
    "print(series1 + series2)"
   ]
  },
  {
   "cell_type": "code",
   "execution_count": 42,
   "metadata": {},
   "outputs": [
    {
     "name": "stdout",
     "output_type": "stream",
     "text": [
      "90 80\n"
     ]
    }
   ],
   "source": [
    "# region Series index [ ] 篩選資料\n",
    "series1 = pd.Series([80,90, 100], index=['a','b','c'])\n",
    "print(series1['a'], series1[0]) # 直接索引[]  OK"
   ]
  },
  {
   "cell_type": "code",
   "execution_count": 30,
   "metadata": {},
   "outputs": [
    {
     "name": "stdout",
     "output_type": "stream",
     "text": [
      "100\n"
     ]
    }
   ],
   "source": [
    "# 直接索引[] confuse\n",
    "series1 =  pd.Series([80,70, 100,99], index=[5,6,0,3])\n",
    "print(series1[0])\n"
   ]
  },
  {
   "cell_type": "code",
   "execution_count": 81,
   "metadata": {},
   "outputs": [
    {
     "name": "stdout",
     "output_type": "stream",
     "text": [
      "a     1\n",
      "b     2\n",
      "c     3\n",
      "d     4\n",
      "e     5\n",
      "f     6\n",
      "g     7\n",
      "h     8\n",
      "i     9\n",
      "j    10\n",
      "dtype: int64\n"
     ]
    }
   ],
   "source": [
    "# \n",
    "# iloc -int positional indexing 位置索引 (一定是 int 整數用) ; iloc[]  interger by location :\n",
    "# loc - label indexing          標籤索引 (          標籤用)\n",
    "series1 = pd.Series(np.arange(10), index=list('abcdefghij'))\n",
    "print(series1)"
   ]
  },
  {
   "cell_type": "code",
   "execution_count": 64,
   "metadata": {},
   "outputs": [
    {
     "name": "stdout",
     "output_type": "stream",
     "text": [
      "6\n",
      "0\n",
      "3\n",
      "d    3\n",
      "e    4\n",
      "f    5\n",
      "5    6\n",
      "dtype: int64\n",
      "a    0\n",
      "d    3\n",
      "f    5\n",
      "dtype: int64\n",
      "0\n",
      "a    0\n",
      "b    1\n",
      "c    2\n",
      "d    3\n",
      "e    4\n",
      "f    5\n",
      "dtype: int64\n",
      "a    0\n",
      "b    1\n",
      "f    5\n",
      "dtype: int64\n"
     ]
    }
   ],
   "source": [
    "print(series1.loc['5'])\n",
    "print(series1.loc['a'])\n",
    "print(series1.iloc[3])\n",
    "print(series1.iloc[3:7])\n",
    "print(series1.iloc[[0,3,5]])\n",
    "\n",
    "print(series1.loc['a'])\n",
    "print(series1.loc['a':'f'])\n",
    "print(series1.loc[['a','b','f']])"
   ]
  },
  {
   "cell_type": "code",
   "execution_count": 66,
   "metadata": {},
   "outputs": [
    {
     "name": "stdout",
     "output_type": "stream",
     "text": [
      "2     0\n",
      "3     1\n",
      "1     2\n",
      "6     3\n",
      "7     4\n",
      "8     5\n",
      "9     6\n",
      "10    7\n",
      "11    8\n",
      "5     9\n",
      "dtype: int64\n",
      "2    0\n",
      "3    1\n",
      "1    2\n",
      "dtype: int64\n",
      "2    0\n",
      "3    1\n",
      "1    2\n",
      "dtype: int64\n"
     ]
    }
   ],
   "source": [
    "# TODO  測驗回答以下 series 有幾個元素\n",
    "s1 = pd.Series( np.arange(10), index=[2,3,1,6,7,8,9,10,11,5])\n",
    "print(s1)\n",
    "print(s1.iloc[:3]) \n",
    "print(s1.loc[:1])"
   ]
  },
  {
   "cell_type": "code",
   "execution_count": 82,
   "metadata": {},
   "outputs": [
    {
     "name": "stdout",
     "output_type": "stream",
     "text": [
      "b     2\n",
      "d     4\n",
      "f     6\n",
      "h     8\n",
      "j    10\n",
      "dtype: int64\n",
      "f     6\n",
      "g     7\n",
      "h     8\n",
      "i     9\n",
      "j    10\n",
      "dtype: int64\n",
      "f     6\n",
      "g     7\n",
      "h     8\n",
      "i     9\n",
      "j    10\n",
      "dtype: int64\n",
      "1\n",
      "7\n"
     ]
    }
   ],
   "source": [
    "print(series1.loc[series1%2==0])\n",
    "print(series1.loc[series1>5])\n",
    "print(series1[series1>5])      # 直接索引 OK, for boolean index\n",
    "print(series1.a)               # 動態屬性\n",
    "print(series1[6])               # 動態屬性"
   ]
  },
  {
   "cell_type": "code",
   "execution_count": 83,
   "metadata": {},
   "outputs": [
    {
     "name": "stdout",
     "output_type": "stream",
     "text": [
      "f    6\n",
      "g    7\n",
      "dtype: int64\n",
      "f    6\n",
      "g    7\n",
      "dtype: int64\n"
     ]
    }
   ],
   "source": [
    "def myfunc(s):\n",
    "    # ..............\n",
    "    return (s>5) & (s<8)\n",
    "print(series1.loc[myfunc])                        # 具名方法 function\n",
    "print(series1.loc[lambda s: (s>5) & (s<8) ])     # 匿名方法 function"
   ]
  },
  {
   "cell_type": "code",
   "execution_count": 99,
   "metadata": {},
   "outputs": [
    {
     "name": "stdout",
     "output_type": "stream",
     "text": [
      "0     Odd\n",
      "1    Even\n",
      "2     Odd\n",
      "3    Even\n",
      "4     Odd\n",
      "5    Even\n",
      "6     Odd\n",
      "7    Even\n",
      "8     Odd\n",
      "dtype: object\n",
      "0     Odd\n",
      "1    Even\n",
      "2     Odd\n",
      "3    Even\n",
      "4     Odd\n",
      "5    Even\n",
      "6     Odd\n",
      "7    Even\n",
      "8     Odd\n",
      "dtype: object\n"
     ]
    }
   ],
   "source": [
    "# iat /at - for scalar value\n",
    "# print(series1.iat[0])\n",
    "# print(series1.at['a'])\n",
    "\n",
    "# endregion\n",
    "\n",
    "# region Series apply() map()\n",
    "series1=pd.Series([1,2,3,4,5,6,7,8,9])\n",
    "\n",
    "def myfunc(x, args=(), **kwds):\n",
    "    # if x %2==0:\n",
    "    #     return 'Even'\n",
    "    # else :\n",
    "    #     return 'Odd'\n",
    "    return 'Even' if x%2==0 else 'Odd'\n",
    "\n",
    "print(series1.apply(myfunc,args=(9,)))\n",
    "print(series1.apply(lambda x:'Even' if x%2==0 else 'Odd' ))"
   ]
  },
  {
   "cell_type": "code",
   "execution_count": 100,
   "metadata": {},
   "outputs": [
    {
     "name": "stdout",
     "output_type": "stream",
     "text": [
      "0      3\n",
      "1      6\n",
      "2      9\n",
      "3    120\n",
      "4    150\n",
      "5    180\n",
      "6    210\n",
      "7    240\n",
      "8    270\n",
      "9    300\n",
      "dtype: int64\n"
     ]
    }
   ],
   "source": [
    "# TODO  value>3 *30 else *3\n",
    "series1=pd.Series([1,2,3,4,5,6,7,8,9,10])\n",
    "print(series1.apply(lambda x:  x*30 if x>3 else x*3 ))"
   ]
  },
  {
   "cell_type": "code",
   "execution_count": 102,
   "metadata": {},
   "outputs": [
    {
     "name": "stdout",
     "output_type": "stream",
     "text": [
      "0      60\n",
      "1      61\n",
      "2      68\n",
      "3      77\n",
      "4      79\n",
      "5      87\n",
      "6      62\n",
      "7      93\n",
      "8      67\n",
      "9      60\n",
      "10     61\n",
      "11     62\n",
      "12     97\n",
      "13     98\n",
      "14     71\n",
      "15     66\n",
      "16     75\n",
      "17     82\n",
      "18    100\n",
      "19     92\n",
      "20     83\n",
      "21     78\n",
      "22     67\n",
      "23     88\n",
      "24     85\n",
      "25     80\n",
      "26     60\n",
      "27     92\n",
      "28     62\n",
      "29     91\n",
      "     ... \n",
      "70     70\n",
      "71     99\n",
      "72     63\n",
      "73     85\n",
      "74     91\n",
      "75     76\n",
      "76     92\n",
      "77     91\n",
      "78     74\n",
      "79     73\n",
      "80     69\n",
      "81     64\n",
      "82     90\n",
      "83     60\n",
      "84     74\n",
      "85     90\n",
      "86     71\n",
      "87     62\n",
      "88     66\n",
      "89     99\n",
      "90     91\n",
      "91     81\n",
      "92     60\n",
      "93     74\n",
      "94     86\n",
      "95     75\n",
      "96     96\n",
      "97     74\n",
      "98     98\n",
      "99     93\n",
      "Length: 100, dtype: int64\n"
     ]
    }
   ],
   "source": [
    "# TODO apply => ABCDE\n",
    "def myfunc(value):\n",
    "    # logic .................\n",
    "   if (value<60):\n",
    "       grade= 'E'\n",
    "   elif (value<70):\n",
    "      grade='D'\n",
    "   elif (value<80):\n",
    "       grade= 'C'   \n",
    "   elif (value<90):\n",
    "       grade= 'B'\n",
    "   else:\n",
    "      grade='A'   \n",
    "   return '{0} ({1})'.format(value, grade) \n",
    "\n",
    "series1 = pd.Series( np.random.randint(60, 101, 100))\n",
    "print(series1)"
   ]
  },
  {
   "cell_type": "code",
   "execution_count": 103,
   "metadata": {},
   "outputs": [
    {
     "name": "stdout",
     "output_type": "stream",
     "text": [
      "0      60 (D)\n",
      "1      61 (D)\n",
      "2      68 (D)\n",
      "3      77 (C)\n",
      "4      79 (C)\n",
      "5      87 (B)\n",
      "6      62 (D)\n",
      "7      93 (A)\n",
      "8      67 (D)\n",
      "9      60 (D)\n",
      "10     61 (D)\n",
      "11     62 (D)\n",
      "12     97 (A)\n",
      "13     98 (A)\n",
      "14     71 (C)\n",
      "15     66 (D)\n",
      "16     75 (C)\n",
      "17     82 (B)\n",
      "18    100 (A)\n",
      "19     92 (A)\n",
      "20     83 (B)\n",
      "21     78 (C)\n",
      "22     67 (D)\n",
      "23     88 (B)\n",
      "24     85 (B)\n",
      "25     80 (B)\n",
      "26     60 (D)\n",
      "27     92 (A)\n",
      "28     62 (D)\n",
      "29     91 (A)\n",
      "       ...   \n",
      "70     70 (C)\n",
      "71     99 (A)\n",
      "72     63 (D)\n",
      "73     85 (B)\n",
      "74     91 (A)\n",
      "75     76 (C)\n",
      "76     92 (A)\n",
      "77     91 (A)\n",
      "78     74 (C)\n",
      "79     73 (C)\n",
      "80     69 (D)\n",
      "81     64 (D)\n",
      "82     90 (A)\n",
      "83     60 (D)\n",
      "84     74 (C)\n",
      "85     90 (A)\n",
      "86     71 (C)\n",
      "87     62 (D)\n",
      "88     66 (D)\n",
      "89     99 (A)\n",
      "90     91 (A)\n",
      "91     81 (B)\n",
      "92     60 (D)\n",
      "93     74 (C)\n",
      "94     86 (B)\n",
      "95     75 (C)\n",
      "96     96 (A)\n",
      "97     74 (C)\n",
      "98     98 (A)\n",
      "99     93 (A)\n",
      "Length: 100, dtype: object\n"
     ]
    }
   ],
   "source": [
    "print(series1.apply(myfunc))"
   ]
  },
  {
   "cell_type": "code",
   "execution_count": 104,
   "metadata": {},
   "outputs": [
    {
     "name": "stdout",
     "output_type": "stream",
     "text": [
      "80     2\n",
      "90     3\n",
      "100    3\n",
      "dtype: int64\n"
     ]
    }
   ],
   "source": [
    "# region Sereis value_counts()\n",
    "seriesC=pd.Series([90,80,100,80,90,90,100,100])\n",
    "print(seriesC.groupby(seriesC).count())"
   ]
  },
  {
   "cell_type": "code",
   "execution_count": 105,
   "metadata": {},
   "outputs": [
    {
     "name": "stdout",
     "output_type": "stream",
     "text": [
      "100    3\n",
      "90     3\n",
      "80     2\n",
      "dtype: int64\n"
     ]
    }
   ],
   "source": [
    "print(seriesC.value_counts())"
   ]
  },
  {
   "cell_type": "code",
   "execution_count": 106,
   "metadata": {},
   "outputs": [
    {
     "name": "stdout",
     "output_type": "stream",
     "text": [
      "100    3\n",
      "90     3\n",
      "80     2\n",
      "dtype: int64\n"
     ]
    }
   ],
   "source": [
    "print(seriesC.groupby(seriesC).count().sort_values(ascending=False)) #倒序"
   ]
  },
  {
   "cell_type": "code",
   "execution_count": 107,
   "metadata": {},
   "outputs": [
    {
     "name": "stdout",
     "output_type": "stream",
     "text": [
      "80     2\n",
      "90     3\n",
      "100    3\n",
      "dtype: int64\n"
     ]
    }
   ],
   "source": [
    "print(seriesC.groupby(seriesC).count().sort_values(ascending=True)) #正序"
   ]
  },
  {
   "cell_type": "code",
   "execution_count": 108,
   "metadata": {},
   "outputs": [
    {
     "name": "stdout",
     "output_type": "stream",
     "text": [
      "100    0.375\n",
      "90     0.375\n",
      "80     0.250\n",
      "dtype: float64\n"
     ]
    }
   ],
   "source": [
    "print(seriesC.value_counts(normalize=True))#比例"
   ]
  },
  {
   "cell_type": "code",
   "execution_count": 117,
   "metadata": {},
   "outputs": [
    {
     "name": "stdout",
     "output_type": "stream",
     "text": [
      "3\n"
     ]
    }
   ],
   "source": [
    "series3=pd.Series([90,100,90,90,100,80])\n",
    "print(series3.unique().size)"
   ]
  },
  {
   "cell_type": "code",
   "execution_count": 119,
   "metadata": {},
   "outputs": [
    {
     "name": "stdout",
     "output_type": "stream",
     "text": [
      "0     True\n",
      "1     True\n",
      "2     True\n",
      "3     True\n",
      "4     True\n",
      "5    False\n",
      "dtype: bool\n"
     ]
    }
   ],
   "source": [
    "print(series3.isin([90,100]))"
   ]
  },
  {
   "cell_type": "code",
   "execution_count": null,
   "metadata": {},
   "outputs": [],
   "source": []
  },
  {
   "cell_type": "code",
   "execution_count": 120,
   "metadata": {},
   "outputs": [
    {
     "name": "stdout",
     "output_type": "stream",
     "text": [
      "2000-01-01    2655\n",
      "2000-01-02    4291\n",
      "2000-01-03    1675\n",
      "2000-01-04    3089\n",
      "2000-01-05    4912\n",
      "2000-01-06    2330\n",
      "2000-01-07    4704\n",
      "2000-01-08    2447\n",
      "2000-01-09    1292\n",
      "2000-01-10    1465\n",
      "2000-01-11    2798\n",
      "2000-01-12    1477\n",
      "2000-01-13    4235\n",
      "2000-01-14    3028\n",
      "2000-01-15    3556\n",
      "2000-01-16    2263\n",
      "2000-01-17    3281\n",
      "2000-01-18    1208\n",
      "2000-01-19    2481\n",
      "2000-01-20    4483\n",
      "2000-01-21    3286\n",
      "2000-01-22    1674\n",
      "2000-01-23    4058\n",
      "2000-01-24    3133\n",
      "2000-01-25    1069\n",
      "2000-01-26    3405\n",
      "2000-01-27    4700\n",
      "2000-01-28    4922\n",
      "2000-01-29    1648\n",
      "2000-01-30    4298\n",
      "              ... \n",
      "2002-08-28    2632\n",
      "2002-08-29    1112\n",
      "2002-08-30    3404\n",
      "2002-08-31    2992\n",
      "2002-09-01    2014\n",
      "2002-09-02    2213\n",
      "2002-09-03    3103\n",
      "2002-09-04    1398\n",
      "2002-09-05    1176\n",
      "2002-09-06    2022\n",
      "2002-09-07    4574\n",
      "2002-09-08    4403\n",
      "2002-09-09    2544\n",
      "2002-09-10    3243\n",
      "2002-09-11    1312\n",
      "2002-09-12    3788\n",
      "2002-09-13    3370\n",
      "2002-09-14    1747\n",
      "2002-09-15    3302\n",
      "2002-09-16    1628\n",
      "2002-09-17    3445\n",
      "2002-09-18    4583\n",
      "2002-09-19    2936\n",
      "2002-09-20    1937\n",
      "2002-09-21    3052\n",
      "2002-09-22    3609\n",
      "2002-09-23    4192\n",
      "2002-09-24    2077\n",
      "2002-09-25    3792\n",
      "2002-09-26    4115\n",
      "Freq: D, Length: 1000, dtype: int64\n",
      "Int64Index([2000, 2000, 2000, 2000, 2000, 2000, 2000, 2000, 2000, 2000,\n",
      "            ...\n",
      "            2002, 2002, 2002, 2002, 2002, 2002, 2002, 2002, 2002, 2002],\n",
      "           dtype='int64', length=1000)\n",
      "2000    1090474\n",
      "2001    1077728\n",
      "2002     807283\n",
      "dtype: int64\n"
     ]
    }
   ],
   "source": [
    "data = np.random.randint(1000, 5000, 1000)\n",
    "seriesy = pd.Series(data, index=pd.date_range('1/1/2000', periods=1000))\n",
    "\n",
    "print(seriesy)\n",
    "print(seriesy.index.year)\n",
    "\n",
    "print(seriesy.groupby(seriesy.index.year).sum())\n",
    "\n",
    "#年累積總銷售"
   ]
  },
  {
   "cell_type": "code",
   "execution_count": 121,
   "metadata": {},
   "outputs": [
    {
     "name": "stdout",
     "output_type": "stream",
     "text": [
      "2000    1090474\n",
      "2001    2168202\n",
      "2002    2975485\n",
      "dtype: int64\n"
     ]
    }
   ],
   "source": [
    "print(seriesy.groupby(seriesy.index.year).sum().cumsum())"
   ]
  },
  {
   "cell_type": "code",
   "execution_count": 122,
   "metadata": {},
   "outputs": [
    {
     "name": "stdout",
     "output_type": "stream",
     "text": [
      "1     276429\n",
      "2     255463\n",
      "3     283413\n",
      "4     244247\n",
      "5     284341\n",
      "6     263875\n",
      "7     283522\n",
      "8     283003\n",
      "9     244193\n",
      "10    195750\n",
      "11    171983\n",
      "12    189266\n",
      "dtype: int64\n"
     ]
    }
   ],
   "source": [
    "print(seriesy.groupby(seriesy.index.month).sum())"
   ]
  },
  {
   "cell_type": "code",
   "execution_count": 123,
   "metadata": {},
   "outputs": [
    {
     "name": "stdout",
     "output_type": "stream",
     "text": [
      "2000  1      92902\n",
      "      2      93091\n",
      "      3      88260\n",
      "      4      80314\n",
      "      5      96351\n",
      "      6      89744\n",
      "      7      94393\n",
      "      8      97920\n",
      "      9      78668\n",
      "      10    102942\n",
      "      11     84846\n",
      "      12     91043\n",
      "2001  1      91137\n",
      "      2      79096\n",
      "      3      89525\n",
      "      4      83660\n",
      "      5      93964\n",
      "      6      95043\n",
      "      7      83462\n",
      "      8      93723\n",
      "      9      89950\n",
      "      10     92808\n",
      "      11     87137\n",
      "      12     98223\n",
      "2002  1      92390\n",
      "      2      83276\n",
      "      3     105628\n",
      "      4      80273\n",
      "      5      94026\n",
      "      6      79088\n",
      "      7     105667\n",
      "      8      91360\n",
      "      9      75575\n",
      "dtype: int64\n"
     ]
    }
   ],
   "source": [
    "#multi-index 階層式索引\n",
    "print(seriesy.groupby([seriesy.index.year, seriesy.index.month]).sum())"
   ]
  },
  {
   "cell_type": "code",
   "execution_count": 124,
   "metadata": {},
   "outputs": [
    {
     "name": "stdout",
     "output_type": "stream",
     "text": [
      "           1        2         3        4        5        6         7   \\\n",
      "2000  92902.0  93091.0   88260.0  80314.0  96351.0  89744.0   94393.0   \n",
      "2001  91137.0  79096.0   89525.0  83660.0  93964.0  95043.0   83462.0   \n",
      "2002  92390.0  83276.0  105628.0  80273.0  94026.0  79088.0  105667.0   \n",
      "\n",
      "           8        9         10       11       12  \n",
      "2000  97920.0  78668.0  102942.0  84846.0  91043.0  \n",
      "2001  93723.0  89950.0   92808.0  87137.0  98223.0  \n",
      "2002  91360.0  75575.0       NaN      NaN      NaN  \n"
     ]
    }
   ],
   "source": [
    "print(seriesy.groupby([seriesy.index.year, seriesy.index.month]).sum().unstack()) # 把列變成欄（unstack)"
   ]
  },
  {
   "cell_type": "code",
   "execution_count": null,
   "metadata": {},
   "outputs": [],
   "source": [
    "series.unstack"
   ]
  }
 ],
 "metadata": {
  "kernelspec": {
   "display_name": "Python 3",
   "language": "python",
   "name": "python3"
  },
  "language_info": {
   "codemirror_mode": {
    "name": "ipython",
    "version": 3
   },
   "file_extension": ".py",
   "mimetype": "text/x-python",
   "name": "python",
   "nbconvert_exporter": "python",
   "pygments_lexer": "ipython3",
   "version": "3.7.2"
  }
 },
 "nbformat": 4,
 "nbformat_minor": 2
}
