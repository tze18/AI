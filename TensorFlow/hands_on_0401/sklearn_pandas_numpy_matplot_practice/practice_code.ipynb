{
 "cells": [
  {
   "cell_type": "code",
   "execution_count": 4,
   "metadata": {},
   "outputs": [
    {
     "name": "stdout",
     "output_type": "stream",
     "text": [
      "148.92242866438335\n"
     ]
    }
   ],
   "source": [
    "import math\n",
    "\n",
    "result = (math.ceil(3.7) +  math.sqrt(65) + math.sin(3)) ** 2\n",
    "print(result)"
   ]
  },
  {
   "cell_type": "code",
   "execution_count": 10,
   "metadata": {},
   "outputs": [
    {
     "name": "stdout",
     "output_type": "stream",
     "text": [
      "3.14\n"
     ]
    }
   ],
   "source": [
    "def cal_circle(radius):\n",
    "    return radius * radius * 3.14\n",
    "\n",
    "print(cal_circle(1))"
   ]
  },
  {
   "cell_type": "code",
   "execution_count": 12,
   "metadata": {},
   "outputs": [
    {
     "name": "stdout",
     "output_type": "stream",
     "text": [
      "5.0\n"
     ]
    }
   ],
   "source": [
    "import math\n",
    "def cal_distance(x1, y1, x2, y2):\n",
    "    return math.sqrt((x1-x2)**2 + (y1-y2)**2)\n",
    "\n",
    "print(cal_distance(0,3, 4, 0))"
   ]
  },
  {
   "cell_type": "code",
   "execution_count": 3,
   "metadata": {},
   "outputs": [
    {
     "name": "stdout",
     "output_type": "stream",
     "text": [
      "24\n"
     ]
    }
   ],
   "source": [
    "factorial = 4\n",
    "\n",
    "result = 1\n",
    "for i in range(1, factorial+1):\n",
    "    result = result * i\n",
    "print(result)"
   ]
  },
  {
   "cell_type": "code",
   "execution_count": 16,
   "metadata": {},
   "outputs": [
    {
     "name": "stdout",
     "output_type": "stream",
     "text": [
      "\n",
      "*\n",
      "**\n",
      "***\n",
      "****\n",
      "*****\n"
     ]
    }
   ],
   "source": [
    "def print_star(n):\n",
    "    for i in range(n+1):\n",
    "        for j in range(i):\n",
    "            print('*', end='')\n",
    "        print('')\n",
    "print_star(5)"
   ]
  },
  {
   "cell_type": "code",
   "execution_count": 4,
   "metadata": {},
   "outputs": [
    {
     "name": "stdout",
     "output_type": "stream",
     "text": [
      "1*1=1 1*2=2 1*3=3 1*4=4 1*5=5 1*6=6 1*7=7 1*8=8 1*9=9 \n",
      "\n",
      "2*1=2 2*2=4 2*3=6 2*4=8 2*5=10 2*6=12 2*7=14 2*8=16 2*9=18 \n",
      "\n",
      "3*1=3 3*2=6 3*3=9 3*4=12 3*5=15 3*6=18 3*7=21 3*8=24 3*9=27 \n",
      "\n",
      "4*1=4 4*2=8 4*3=12 4*4=16 4*5=20 4*6=24 4*7=28 4*8=32 4*9=36 \n",
      "\n",
      "5*1=5 5*2=10 5*3=15 5*4=20 5*5=25 5*6=30 5*7=35 5*8=40 5*9=45 \n",
      "\n",
      "6*1=6 6*2=12 6*3=18 6*4=24 6*5=30 6*6=36 6*7=42 6*8=48 6*9=54 \n",
      "\n",
      "7*1=7 7*2=14 7*3=21 7*4=28 7*5=35 7*6=42 7*7=49 7*8=56 7*9=63 \n",
      "\n",
      "8*1=8 8*2=16 8*3=24 8*4=32 8*5=40 8*6=48 8*7=56 8*8=64 8*9=72 \n",
      "\n",
      "9*1=9 9*2=18 9*3=27 9*4=36 9*5=45 9*6=54 9*7=63 9*8=72 9*9=81 \n",
      "\n"
     ]
    }
   ],
   "source": [
    "for i in range(1, 10):\n",
    "    for j in range(1, 10):\n",
    "        print('{}*{}={} '.format(i, j, i*j), end='')\n",
    "    print('\\n')"
   ]
  },
  {
   "cell_type": "code",
   "execution_count": 5,
   "metadata": {},
   "outputs": [
    {
     "name": "stdout",
     "output_type": "stream",
     "text": [
      "What's your guess?5\n",
      "Too high!\n",
      "What's your guess?4\n",
      "Too high!\n",
      "What's your guess?3\n",
      "Too high!\n",
      "What's your guess?2\n",
      "You got it!\n",
      "And it only took you 4 tries!\n"
     ]
    }
   ],
   "source": [
    "import random\n",
    "\n",
    "number = random.randint(1,9)\n",
    "guess = 0\n",
    "count = 0\n",
    "\n",
    "\n",
    "while guess != number and guess != \"exit\":\n",
    "    guess = input(\"What's your guess?\")\n",
    "    \n",
    "    if guess == \"exit\":\n",
    "        break\n",
    "    \n",
    "    guess = int(guess)\n",
    "    count += 1\n",
    "    \n",
    "    if guess < number:\n",
    "        print(\"Too low!\")\n",
    "    elif guess > number:\n",
    "        print(\"Too high!\")\n",
    "    else:\n",
    "        print(\"You got it!\")\n",
    "print(\"And it only took you\",count,\"tries!\")"
   ]
  },
  {
   "cell_type": "code",
   "execution_count": 9,
   "metadata": {},
   "outputs": [
    {
     "name": "stdout",
     "output_type": "stream",
     "text": [
      "jgnnq, k co kucce!\n"
     ]
    }
   ],
   "source": [
    "text = 'Hello, I am Isaac!'\n",
    "\n",
    "\n",
    "text = text.lower()\n",
    "\n",
    "result =list()\n",
    "for i in text:\n",
    "    if ord(i) >= 97 and ord(i)<=122:\n",
    "        \n",
    "        if ord(i)+2 > 122:\n",
    "            result.append(chr(ord(i)+2-26)) \n",
    "        else:\n",
    "            result.append(chr(ord(i)+2))\n",
    "    else:\n",
    "        result.append(i)\n",
    "print(''.join(result))\n"
   ]
  },
  {
   "cell_type": "code",
   "execution_count": null,
   "metadata": {
    "collapsed": true
   },
   "outputs": [],
   "source": []
  }
 ],
 "metadata": {
  "kernelspec": {
   "display_name": "Python 3",
   "language": "python",
   "name": "python3"
  },
  "language_info": {
   "codemirror_mode": {
    "name": "ipython",
    "version": 3
   },
   "file_extension": ".py",
   "mimetype": "text/x-python",
   "name": "python",
   "nbconvert_exporter": "python",
   "pygments_lexer": "ipython3",
   "version": "3.6.3"
  }
 },
 "nbformat": 4,
 "nbformat_minor": 2
}
