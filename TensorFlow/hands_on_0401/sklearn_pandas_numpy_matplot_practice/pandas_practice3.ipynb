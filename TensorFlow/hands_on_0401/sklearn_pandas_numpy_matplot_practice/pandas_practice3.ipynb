{
 "cells": [
  {
   "cell_type": "markdown",
   "metadata": {},
   "source": [
    "# Step 1: Read movie review CSV file"
   ]
  },
  {
   "cell_type": "code",
   "execution_count": 43,
   "metadata": {},
   "outputs": [
    {
     "data": {
      "text/html": [
       "<div>\n",
       "<style>\n",
       "    .dataframe thead tr:only-child th {\n",
       "        text-align: right;\n",
       "    }\n",
       "\n",
       "    .dataframe thead th {\n",
       "        text-align: left;\n",
       "    }\n",
       "\n",
       "    .dataframe tbody tr th {\n",
       "        vertical-align: top;\n",
       "    }\n",
       "</style>\n",
       "<table border=\"1\" class=\"dataframe\">\n",
       "  <thead>\n",
       "    <tr style=\"text-align: right;\">\n",
       "      <th></th>\n",
       "      <th>Rating</th>\n",
       "      <th>Movie</th>\n",
       "      <th>Review</th>\n",
       "      <th>Critic</th>\n",
       "    </tr>\n",
       "  </thead>\n",
       "  <tbody>\n",
       "    <tr>\n",
       "      <th>0</th>\n",
       "      <td>NaN</td>\n",
       "      <td>Black Water</td>\n",
       "      <td>\"My, what tall ceilings this submarine has! \" ...</td>\n",
       "      <td>Katie Walsh  Los Angeles Times</td>\n",
       "    </tr>\n",
       "    <tr>\n",
       "      <th>1</th>\n",
       "      <td>NaN</td>\n",
       "      <td>Recovery Boys</td>\n",
       "      <td>\"Sheldon paints a stark picture of the harsh r...</td>\n",
       "      <td>Katie Walsh  Los Angeles Times</td>\n",
       "    </tr>\n",
       "    <tr>\n",
       "      <th>2</th>\n",
       "      <td>4/4</td>\n",
       "      <td>Signore &amp; Signori (The Birds, the Bees and the...</td>\n",
       "      <td>\"Germi's films are filled with sheer love of m...</td>\n",
       "      <td>Roger Ebert  Chicago Sun-Times</td>\n",
       "    </tr>\n",
       "    <tr>\n",
       "      <th>3</th>\n",
       "      <td>1.5/4</td>\n",
       "      <td>The St. Valentine's Day Massacre</td>\n",
       "      <td>\"At the end of this nonsense, to be sure, ther...</td>\n",
       "      <td>Roger Ebert  Chicago Sun-Times</td>\n",
       "    </tr>\n",
       "    <tr>\n",
       "      <th>4</th>\n",
       "      <td>2.5/4</td>\n",
       "      <td>Chuka</td>\n",
       "      <td>\"Rod Taylor's Chuka is an intelligently acted ...</td>\n",
       "      <td>Roger Ebert  Chicago Sun-Times</td>\n",
       "    </tr>\n",
       "  </tbody>\n",
       "</table>\n",
       "</div>"
      ],
      "text/plain": [
       "  Rating                                              Movie  \\\n",
       "0    NaN                                        Black Water   \n",
       "1    NaN                                      Recovery Boys   \n",
       "2    4/4  Signore & Signori (The Birds, the Bees and the...   \n",
       "3  1.5/4                   The St. Valentine's Day Massacre   \n",
       "4  2.5/4                                              Chuka   \n",
       "\n",
       "                                              Review  \\\n",
       "0  \"My, what tall ceilings this submarine has! \" ...   \n",
       "1  \"Sheldon paints a stark picture of the harsh r...   \n",
       "2  \"Germi's films are filled with sheer love of m...   \n",
       "3  \"At the end of this nonsense, to be sure, ther...   \n",
       "4  \"Rod Taylor's Chuka is an intelligently acted ...   \n",
       "\n",
       "                           Critic  \n",
       "0  Katie Walsh  Los Angeles Times  \n",
       "1  Katie Walsh  Los Angeles Times  \n",
       "2  Roger Ebert  Chicago Sun-Times  \n",
       "3  Roger Ebert  Chicago Sun-Times  \n",
       "4  Roger Ebert  Chicago Sun-Times  "
      ]
     },
     "execution_count": 43,
     "metadata": {},
     "output_type": "execute_result"
    }
   ],
   "source": [
    "# read movie_review.csv"
   ]
  },
  {
   "cell_type": "markdown",
   "metadata": {},
   "source": [
    "# Step 2: Calculate average word number of review written by \"Katie Walsh Los Angeles Times\""
   ]
  },
  {
   "cell_type": "code",
   "execution_count": 50,
   "metadata": {},
   "outputs": [
    {
     "name": "stdout",
     "output_type": "stream",
     "text": [
      "  Rating          Movie                                             Review  \\\n",
      "0    NaN    Black Water  \"My, what tall ceilings this submarine has! \" ...   \n",
      "1    NaN  Recovery Boys  \"Sheldon paints a stark picture of the harsh r...   \n",
      "\n",
      "                           Critic  num_word  \n",
      "0  Katie Walsh  Los Angeles Times        16  \n",
      "1  Katie Walsh  Los Angeles Times        26  \n",
      "===========\n",
      "average word number of review:\n",
      "21.0\n"
     ]
    },
    {
     "name": "stderr",
     "output_type": "stream",
     "text": [
      "/home/isaac/anaconda3/lib/python3.6/site-packages/ipykernel_launcher.py:2: SettingWithCopyWarning: \n",
      "A value is trying to be set on a copy of a slice from a DataFrame.\n",
      "Try using .loc[row_indexer,col_indexer] = value instead\n",
      "\n",
      "See the caveats in the documentation: http://pandas.pydata.org/pandas-docs/stable/indexing.html#indexing-view-versus-copy\n",
      "  \n"
     ]
    }
   ],
   "source": []
  },
  {
   "cell_type": "markdown",
   "metadata": {},
   "source": [
    "# Step 3: Remove all row that contain NAN"
   ]
  },
  {
   "cell_type": "code",
   "execution_count": 51,
   "metadata": {},
   "outputs": [
    {
     "data": {
      "text/html": [
       "<div>\n",
       "<style>\n",
       "    .dataframe thead tr:only-child th {\n",
       "        text-align: right;\n",
       "    }\n",
       "\n",
       "    .dataframe thead th {\n",
       "        text-align: left;\n",
       "    }\n",
       "\n",
       "    .dataframe tbody tr th {\n",
       "        vertical-align: top;\n",
       "    }\n",
       "</style>\n",
       "<table border=\"1\" class=\"dataframe\">\n",
       "  <thead>\n",
       "    <tr style=\"text-align: right;\">\n",
       "      <th></th>\n",
       "      <th>Rating</th>\n",
       "      <th>Movie</th>\n",
       "      <th>Review</th>\n",
       "      <th>Critic</th>\n",
       "    </tr>\n",
       "  </thead>\n",
       "  <tbody>\n",
       "    <tr>\n",
       "      <th>2</th>\n",
       "      <td>4/4</td>\n",
       "      <td>Signore &amp; Signori (The Birds, the Bees and the...</td>\n",
       "      <td>\"Germi's films are filled with sheer love of m...</td>\n",
       "      <td>Roger Ebert  Chicago Sun-Times</td>\n",
       "    </tr>\n",
       "    <tr>\n",
       "      <th>3</th>\n",
       "      <td>1.5/4</td>\n",
       "      <td>The St. Valentine's Day Massacre</td>\n",
       "      <td>\"At the end of this nonsense, to be sure, ther...</td>\n",
       "      <td>Roger Ebert  Chicago Sun-Times</td>\n",
       "    </tr>\n",
       "    <tr>\n",
       "      <th>4</th>\n",
       "      <td>2.5/4</td>\n",
       "      <td>Chuka</td>\n",
       "      <td>\"Rod Taylor's Chuka is an intelligently acted ...</td>\n",
       "      <td>Roger Ebert  Chicago Sun-Times</td>\n",
       "    </tr>\n",
       "    <tr>\n",
       "      <th>5</th>\n",
       "      <td>3/4</td>\n",
       "      <td>The Penthouse</td>\n",
       "      <td>\"The Penthouse, quite simply, is a pretty good...</td>\n",
       "      <td>Roger Ebert  Chicago Sun-Times</td>\n",
       "    </tr>\n",
       "    <tr>\n",
       "      <th>6</th>\n",
       "      <td>4/4</td>\n",
       "      <td>Camelot</td>\n",
       "      <td>\"Exactly what we were promised: ornate, visual...</td>\n",
       "      <td>Roger Ebert  Chicago Sun-Times</td>\n",
       "    </tr>\n",
       "  </tbody>\n",
       "</table>\n",
       "</div>"
      ],
      "text/plain": [
       "  Rating                                              Movie  \\\n",
       "2    4/4  Signore & Signori (The Birds, the Bees and the...   \n",
       "3  1.5/4                   The St. Valentine's Day Massacre   \n",
       "4  2.5/4                                              Chuka   \n",
       "5    3/4                                      The Penthouse   \n",
       "6    4/4                                            Camelot   \n",
       "\n",
       "                                              Review  \\\n",
       "2  \"Germi's films are filled with sheer love of m...   \n",
       "3  \"At the end of this nonsense, to be sure, ther...   \n",
       "4  \"Rod Taylor's Chuka is an intelligently acted ...   \n",
       "5  \"The Penthouse, quite simply, is a pretty good...   \n",
       "6  \"Exactly what we were promised: ornate, visual...   \n",
       "\n",
       "                           Critic  \n",
       "2  Roger Ebert  Chicago Sun-Times  \n",
       "3  Roger Ebert  Chicago Sun-Times  \n",
       "4  Roger Ebert  Chicago Sun-Times  \n",
       "5  Roger Ebert  Chicago Sun-Times  \n",
       "6  Roger Ebert  Chicago Sun-Times  "
      ]
     },
     "execution_count": 51,
     "metadata": {},
     "output_type": "execute_result"
    }
   ],
   "source": []
  },
  {
   "cell_type": "code",
   "execution_count": null,
   "metadata": {
    "collapsed": true
   },
   "outputs": [],
   "source": []
  }
 ],
 "metadata": {
  "kernelspec": {
   "display_name": "Python 3",
   "language": "python",
   "name": "python3"
  },
  "language_info": {
   "codemirror_mode": {
    "name": "ipython",
    "version": 3
   },
   "file_extension": ".py",
   "mimetype": "text/x-python",
   "name": "python",
   "nbconvert_exporter": "python",
   "pygments_lexer": "ipython3",
   "version": "3.6.3"
  }
 },
 "nbformat": 4,
 "nbformat_minor": 2
}
