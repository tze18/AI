{
 "cells": [
  {
   "cell_type": "markdown",
   "metadata": {},
   "source": [
    "# Step 1: Crawl movie review webpage "
   ]
  },
  {
   "cell_type": "code",
   "execution_count": 1,
   "metadata": {
    "collapsed": true
   },
   "outputs": [],
   "source": [
    "import pandas as pd"
   ]
  },
  {
   "cell_type": "code",
   "execution_count": 2,
   "metadata": {},
   "outputs": [
    {
     "data": {
      "text/html": [
       "<div>\n",
       "<style>\n",
       "    .dataframe thead tr:only-child th {\n",
       "        text-align: right;\n",
       "    }\n",
       "\n",
       "    .dataframe thead th {\n",
       "        text-align: left;\n",
       "    }\n",
       "\n",
       "    .dataframe tbody tr th {\n",
       "        vertical-align: top;\n",
       "    }\n",
       "</style>\n",
       "<table border=\"1\" class=\"dataframe\">\n",
       "  <thead>\n",
       "    <tr style=\"text-align: right;\">\n",
       "      <th></th>\n",
       "      <th>Rating</th>\n",
       "      <th>Movie</th>\n",
       "      <th>Review</th>\n",
       "      <th>Critic</th>\n",
       "    </tr>\n",
       "  </thead>\n",
       "  <tbody>\n",
       "    <tr>\n",
       "      <th>0</th>\n",
       "      <td>NaN</td>\n",
       "      <td>Duck Butter</td>\n",
       "      <td>\"It is not a light movie (as the trailers migh...</td>\n",
       "      <td>Jade Budowski  Decider</td>\n",
       "    </tr>\n",
       "    <tr>\n",
       "      <th>1</th>\n",
       "      <td>NaN</td>\n",
       "      <td>Hannah Gadsby: Nanette</td>\n",
       "      <td>\"This is different. Not a little different, bu...</td>\n",
       "      <td>Linda Holmes  NPR</td>\n",
       "    </tr>\n",
       "    <tr>\n",
       "      <th>2</th>\n",
       "      <td>NaN</td>\n",
       "      <td>Under the Tree (Undir trénu)</td>\n",
       "      <td>\"Iceland's 90th Oscars entry, Under the Tree (...</td>\n",
       "      <td>Danielle Solzman  Solzy at the Movies</td>\n",
       "    </tr>\n",
       "    <tr>\n",
       "      <th>3</th>\n",
       "      <td>NaN</td>\n",
       "      <td>Andre the Giant</td>\n",
       "      <td>\"Even if you're not a wrestling fan, you can a...</td>\n",
       "      <td>Christopher Campbell  Thrillist</td>\n",
       "    </tr>\n",
       "    <tr>\n",
       "      <th>4</th>\n",
       "      <td>NaN</td>\n",
       "      <td>Game Night</td>\n",
       "      <td>\"Hollywood needs to be employing Rachel McAdam...</td>\n",
       "      <td>Christopher Campbell  Film School Rejects</td>\n",
       "    </tr>\n",
       "  </tbody>\n",
       "</table>\n",
       "</div>"
      ],
      "text/plain": [
       "  Rating                         Movie  \\\n",
       "0    NaN                   Duck Butter   \n",
       "1    NaN        Hannah Gadsby: Nanette   \n",
       "2    NaN  Under the Tree (Undir trénu)   \n",
       "3    NaN               Andre the Giant   \n",
       "4    NaN                    Game Night   \n",
       "\n",
       "                                              Review  \\\n",
       "0  \"It is not a light movie (as the trailers migh...   \n",
       "1  \"This is different. Not a little different, bu...   \n",
       "2  \"Iceland's 90th Oscars entry, Under the Tree (...   \n",
       "3  \"Even if you're not a wrestling fan, you can a...   \n",
       "4  \"Hollywood needs to be employing Rachel McAdam...   \n",
       "\n",
       "                                      Critic  \n",
       "0                     Jade Budowski  Decider  \n",
       "1                          Linda Holmes  NPR  \n",
       "2      Danielle Solzman  Solzy at the Movies  \n",
       "3            Christopher Campbell  Thrillist  \n",
       "4  Christopher Campbell  Film School Rejects  "
      ]
     },
     "execution_count": 2,
     "metadata": {},
     "output_type": "execute_result"
    }
   ],
   "source": [
    "df_list = pd.read_html('https://www.rottentomatoes.com/critics/latest_reviews/')\n",
    "#df_list = pd.read_html('./dataset/movie_index.html')\n",
    "df = df_list[2]\n",
    "df.head()"
   ]
  },
  {
   "cell_type": "markdown",
   "metadata": {},
   "source": [
    "# Step 2: Save table into CSV file call \"movie_review.csv\""
   ]
  },
  {
   "cell_type": "code",
   "execution_count": 3,
   "metadata": {
    "collapsed": true
   },
   "outputs": [],
   "source": [
    "df.to_csv('movie_review.csv', index=False)"
   ]
  },
  {
   "cell_type": "markdown",
   "metadata": {
    "collapsed": true
   },
   "source": [
    "# Step 3: Create a DB called \"movie_review\" and a table called \"movie_table\". Save pandas dataframe into sqlite DB"
   ]
  },
  {
   "cell_type": "code",
   "execution_count": 4,
   "metadata": {
    "collapsed": true
   },
   "outputs": [],
   "source": [
    "import sqlite3 as sql\n",
    "conn = sql.connect(\"movie_review.db\")\n",
    "df.to_sql(\"movie_table\", conn, if_exists=\"replace\", index=False)"
   ]
  },
  {
   "cell_type": "markdown",
   "metadata": {},
   "source": [
    "# Step 4: Query all data from \"movie_table\" "
   ]
  },
  {
   "cell_type": "code",
   "execution_count": 5,
   "metadata": {},
   "outputs": [
    {
     "name": "stdout",
     "output_type": "stream",
     "text": [
      "  Rating                         Movie  \\\n",
      "0   None                   Duck Butter   \n",
      "1   None        Hannah Gadsby: Nanette   \n",
      "2   None  Under the Tree (Undir trénu)   \n",
      "3   None               Andre the Giant   \n",
      "4   None                    Game Night   \n",
      "\n",
      "                                              Review  \\\n",
      "0  \"It is not a light movie (as the trailers migh...   \n",
      "1  \"This is different. Not a little different, bu...   \n",
      "2  \"Iceland's 90th Oscars entry, Under the Tree (...   \n",
      "3  \"Even if you're not a wrestling fan, you can a...   \n",
      "4  \"Hollywood needs to be employing Rachel McAdam...   \n",
      "\n",
      "                                      Critic  \n",
      "0                     Jade Budowski  Decider  \n",
      "1                          Linda Holmes  NPR  \n",
      "2      Danielle Solzman  Solzy at the Movies  \n",
      "3            Christopher Campbell  Thrillist  \n",
      "4  Christopher Campbell  Film School Rejects  \n"
     ]
    }
   ],
   "source": [
    "df_query = pd.read_sql_query(\"select * from movie_table;\", conn)\n",
    "print(df_query.head())"
   ]
  }
 ],
 "metadata": {
  "kernelspec": {
   "display_name": "Python 3",
   "language": "python",
   "name": "python3"
  },
  "language_info": {
   "codemirror_mode": {
    "name": "ipython",
    "version": 3
   },
   "file_extension": ".py",
   "mimetype": "text/x-python",
   "name": "python",
   "nbconvert_exporter": "python",
   "pygments_lexer": "ipython3",
   "version": "3.6.3"
  }
 },
 "nbformat": 4,
 "nbformat_minor": 2
}
