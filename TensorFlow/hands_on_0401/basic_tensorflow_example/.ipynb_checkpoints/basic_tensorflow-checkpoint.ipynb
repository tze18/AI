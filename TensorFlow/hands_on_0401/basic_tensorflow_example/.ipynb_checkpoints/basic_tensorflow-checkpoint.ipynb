{
 "cells": [
  {
   "cell_type": "markdown",
   "metadata": {},
   "source": [
    "# TensorFlow Basic"
   ]
  },
  {
   "cell_type": "markdown",
   "metadata": {},
   "source": [
    "This is a basic toturial for a newbie who is first time to use TensorFlow. We will introduce some basic operation and concept which is usually used when building nerual network."
   ]
  },
  {
   "cell_type": "markdown",
   "metadata": {},
   "source": [
    "Before we start, make sure you have installed TensorFlow properly. If you haven't installed it, please reference the following. We highly recommend to install GPU version TensorFlow, which would accelerate your waiting time.  \n",
    "\n",
    "[Install TensorFlow](https://www.tensorflow.org/install/)\n",
    "\n",
    "\n",
    "If you successfully install TensorFlow, please validate it by running following code: \n",
    "\n"
   ]
  },
  {
   "cell_type": "code",
   "execution_count": 1,
   "metadata": {},
   "outputs": [
    {
     "name": "stdout",
     "output_type": "stream",
     "text": [
      "b'Hello, TensorFlow!'\n"
     ]
    }
   ],
   "source": [
    "# Python\n",
    "import tensorflow as tf\n",
    "hello = tf.constant('Hello, TensorFlow!')\n",
    "sess = tf.Session()\n",
    "print(sess.run(hello))\n"
   ]
  },
  {
   "cell_type": "markdown",
   "metadata": {},
   "source": [
    "If you install GPU version, it would see like the following before execution result. It mean that your GPU is successfully loaded by TensorFlow. gpu:0 means your first GPU in your environment. If you have more than one GPU, you will see gpu:1, gpu:2, and so on. \n",
    "\n",
    "![Alt text](./images/basic_tensorflow/gpu_execute.png)\n",
    "\n",
    "Also, if you want to check the status of GPU now. You can use command ```nvidia-smi```. It would look like the following.\n",
    "\n",
    "![Alt text](./images/basic_tensorflow/gpu_status.png)\n",
    "\n",
    "\n",
    "OK! That's start our TensorFlow journey.\n"
   ]
  },
  {
   "cell_type": "markdown",
   "metadata": {},
   "source": [
    "## Basic Operation \n",
    "Let's introduce some common basic operations. These operation would execute element-wise numerical computation."
   ]
  },
  {
   "cell_type": "code",
   "execution_count": 11,
   "metadata": {},
   "outputs": [
    {
     "name": "stdout",
     "output_type": "stream",
     "text": [
      "directly print x: Tensor(\"x:0\", shape=(2, 2), dtype=int32)\n",
      "\n",
      "directly print y: Tensor(\"y:0\", shape=(2, 2), dtype=int32)\n",
      "\n",
      "x: [[1 2]\n",
      " [3 4]]\n",
      "\n",
      "y: [[5 6]\n",
      " [7 8]]\n",
      "\n",
      "x+y: [[ 6  8]\n",
      " [10 12]]\n",
      "\n",
      "x-y: [[-4 -4]\n",
      " [-4 -4]]\n",
      "\n",
      "x*y: [[ 5 12]\n",
      " [21 32]]\n",
      "\n",
      "x/y: [[ 0.2         0.33333333]\n",
      " [ 0.42857143  0.5       ]]\n",
      "\n",
      "x mod y: [[1 2]\n",
      " [3 4]]\n",
      "\n",
      "-x: [[-1 -2]\n",
      " [-3 -4]]\n",
      "\n"
     ]
    }
   ],
   "source": [
    "x = tf.constant([[1, 2],[3, 4]], name='x')\n",
    "y = tf.constant([[5, 6],[7, 8]], name='y')\n",
    "\n",
    "tf_sum = x + y\n",
    "tf_sub = x - y\n",
    "tf_mul = x * y\n",
    "tf_div = x / y\n",
    "tf_mod = x % y\n",
    "tf_neg = -x\n",
    "\n",
    "with tf.Session() as sess:\n",
    "\n",
    "    print(\"directly print x: {}\\n\".format(x))\n",
    "    print(\"directly print y: {}\\n\".format(y))\n",
    "\n",
    "    print(\"x: {}\\n\".format(sess.run(x)))\n",
    "    print(\"y: {}\\n\".format(sess.run(y)))\n",
    "    print(\"x+y: {}\\n\".format(sess.run(tf_sum)))\n",
    "    print(\"x-y: {}\\n\".format(sess.run(tf_sub)))\n",
    "    print(\"x*y: {}\\n\".format(sess.run(tf_mul)))\n",
    "    print(\"x/y: {}\\n\".format(sess.run(tf_div)))\n",
    "    print(\"x mod y: {}\\n\".format(sess.run(tf_mod)))\n",
    "    print(\"-x: {}\\n\".format(sess.run(tf_neg)))\n"
   ]
  },
  {
   "cell_type": "markdown",
   "metadata": {},
   "source": [
    "line 1, 2: define two shape 2 tensor.  \n",
    "line 4~9: define computation graph. In this step, it only build the computation relationship. So, none of any actual computation start. This is different from many other C like language.  \n",
    "line 11: define a session. Session is a important concept that tell tensorflow we are going to execute the actual numerical computation.  \n",
    "line 13~23: print some basic operation result. Please note that we use `sess.run(target_name)` to execute computation.  \n"
   ]
  },
  {
   "cell_type": "markdown",
   "metadata": {},
   "source": [
    "In this code, we first build computation graph and call session to run each part of task. This is very important concept in tensorflow. Remind that each computation graph contain nodes which represent operations and the edge which represent the relation data flow. \n",
    "\n",
    "If you still can not understand what is computation graph is, please see the following code\n"
   ]
  },
  {
   "cell_type": "code",
   "execution_count": 4,
   "metadata": {},
   "outputs": [
    {
     "name": "stdout",
     "output_type": "stream",
     "text": [
      "23\n"
     ]
    }
   ],
   "source": [
    "import tensorflow as tf\n",
    "a = tf.constant(5, name=\"input_a\")\n",
    "b = tf.constant(3, name=\"input_b\")\n",
    "c = tf.multiply(a, b, name=\"mul_c\")\n",
    "d = tf.add(a, b, name=\"add_d\")\n",
    "e = tf.add(c, d, name=\"add_e\")\n",
    "\n",
    "with tf.Session() as sess:\n",
    "    print(sess.run(e)) # output => 23"
   ]
  },
  {
   "cell_type": "markdown",
   "metadata": {},
   "source": [
    "line 2-6 build the computation graph. Nothing numerical computation arise. (See below picture)  \n",
    "line 8-9 call session and execute the result\n",
    "\n",
    "![Alt text](./images/basic_tensorflow/computation_graph.png)\n"
   ]
  },
  {
   "cell_type": "markdown",
   "metadata": {},
   "source": [
    "Actually, we would like to use tf.add, tf.substract, tf.multipy, tf.div instead of +-*/. By using tf.XXX operation, we can give each operation a name, which will help us to access information and illustrate it on tensorboard. Following is modified version  of previous code"
   ]
  },
  {
   "cell_type": "code",
   "execution_count": 12,
   "metadata": {},
   "outputs": [
    {
     "name": "stdout",
     "output_type": "stream",
     "text": [
      "directly print x: Tensor(\"x:0\", shape=(2, 2), dtype=int32)\n",
      "\n",
      "directly print y: Tensor(\"y:0\", shape=(2, 2), dtype=int32)\n",
      "\n",
      "x: [[1 2]\n",
      " [3 4]]\n",
      "\n",
      "y: [[5 6]\n",
      " [7 8]]\n",
      "\n",
      "x+y: [[ 6  8]\n",
      " [10 12]]\n",
      "\n",
      "x-y: [[-4 -4]\n",
      " [-4 -4]]\n",
      "\n",
      "x*y: [[ 5 12]\n",
      " [21 32]]\n",
      "\n",
      "x/y: [[0 0]\n",
      " [0 0]]\n",
      "\n",
      "x mod y: [[1 2]\n",
      " [3 4]]\n",
      "\n",
      "-x: [[-1 -2]\n",
      " [-3 -4]]\n",
      "\n"
     ]
    }
   ],
   "source": [
    "tf_sum = tf.add(x, y)\n",
    "tf_sub = tf.subtract(x, y)\n",
    "tf_mul = tf.multiply(x, y)\n",
    "tf_div = tf.div(x,y)\n",
    "tf_mod = tf.mod(x,y)\n",
    "tf_neg = tf.negative(x)\n",
    "\n",
    "with tf.Session() as sess:\n",
    "\n",
    "    print(\"directly print x: {}\\n\".format(x))\n",
    "    print(\"directly print y: {}\\n\".format(y))\n",
    "\n",
    "    print(\"x: {}\\n\".format(sess.run(x)))\n",
    "    print(\"y: {}\\n\".format(sess.run(y)))\n",
    "    print(\"x+y: {}\\n\".format(sess.run(tf_sum)))\n",
    "    print(\"x-y: {}\\n\".format(sess.run(tf_sub)))\n",
    "    print(\"x*y: {}\\n\".format(sess.run(tf_mul)))\n",
    "    print(\"x/y: {}\\n\".format(sess.run(tf_div)))\n",
    "    print(\"x mod y: {}\\n\".format(sess.run(tf_mod)))\n",
    "    print(\"-x: {}\\n\".format(sess.run(tf_neg)))\n",
    "\n"
   ]
  },
  {
   "cell_type": "markdown",
   "metadata": {},
   "source": [
    "Besides some scalar operation, we introduce some of matrix operation"
   ]
  },
  {
   "cell_type": "code",
   "execution_count": 5,
   "metadata": {},
   "outputs": [
    {
     "name": "stdout",
     "output_type": "stream",
     "text": [
      "product: [[ 19.  22.]\n",
      " [ 43.  50.]]\n",
      "\n",
      "inv: [[-2.00000024  1.00000012]\n",
      " [ 1.50000012 -0.50000006]]\n",
      "\n",
      "trans: [[ 1.  3.]\n",
      " [ 2.  4.]]\n",
      "\n"
     ]
    }
   ],
   "source": [
    "import tensorflow as tf\n",
    "matrix1 = tf.constant([[1, 2],[3, 4]], name='matrix1', dtype=tf.float32)\n",
    "matrix2 = tf.constant([[5, 6],[7, 8]], name='matrix2', dtype=tf.float32)\n",
    "\n",
    "product = tf.matmul(matrix1, matrix2)\n",
    "inv = tf.matrix_inverse(matrix1)\n",
    "trans = tf.matrix_transpose(matrix1)\n",
    "\n",
    "\n",
    "with tf.Session() as sess:\n",
    " \n",
    "    print(\"product: {}\\n\".format(sess.run(product)))\n",
    "    print(\"inv: {}\\n\".format(sess.run(inv)))\n",
    "    print(\"trans: {}\\n\".format(sess.run(trans)))\n"
   ]
  },
  {
   "cell_type": "markdown",
   "metadata": {},
   "source": [
    "## Tensor Type\n",
    "\n",
    "There are many data type in tensorflow. Following list some common type. If you want to change the type of tensor, ```tf.cast()``` can help. Please reference the following code.\n",
    "\n",
    "| Python type | Description |  \n",
    "| :------: | :------: |  \n",
    "| tf.float32 | 32 bits floating point |\n",
    "| tf.float64 | 64 bits floating point |\n",
    "| tf.int8 | 8 bits signed integer |\n",
    "| tf.int16 | 16 bits signed integer |\n",
    "| tf.int32 | 32 bits signed integer |\n",
    "| tf.int64 | 64 bits signed integer |\n",
    "| tf.uint8 | 8 bits unsigned integer |\n",
    "| tf.uint16 | 16 bits unsigned integer |\n",
    "| tf.string | Variable length byte arrays. Each element of a Tensor is a byte array |\n",
    "| tf.bool | Boolean |\n",
    "\n",
    "\n"
   ]
  },
  {
   "cell_type": "code",
   "execution_count": 13,
   "metadata": {},
   "outputs": [
    {
     "name": "stdout",
     "output_type": "stream",
     "text": [
      "Tensor(\"Const_3:0\", shape=(2, 2), dtype=float32)\n",
      "[[ 1.10000002  2.20000005]\n",
      " [ 3.29999995  4.4000001 ]]\n",
      "Tensor(\"Cast:0\", shape=(2, 2), dtype=int32)\n",
      "[[1 2]\n",
      " [3 4]]\n"
     ]
    }
   ],
   "source": [
    "x_float32 = tf.constant([[1.1, 2.2],[3.3, 4.4]], dtype=tf.float32) # define float32 tensor\n",
    "x_int = tf.cast(x_float32, tf.int32) #change type to int32\n",
    "\n",
    "with tf.Session() as sess:\n",
    "    print(x_float32)\n",
    "    print(sess.run(x_float32))\n",
    "\n",
    "    print(x_int)\n",
    "    print(sess.run(x_int))\n"
   ]
  },
  {
   "cell_type": "markdown",
   "metadata": {
    "collapsed": true
   },
   "source": [
    "## Constant, Variable, and Placeholder \n",
    "\n",
    "Constant, variable, and placeholder can be set like the following. The difference among them is that \n",
    "1. constant can't be changed once define\n",
    "2. variable would change while learning. It need to be initialized by constant tensorflow.\n",
    "3. placeholder is used when you want to feed a data in the future. \n",
    "\n",
    "Before we go into code, let's first introduce some of generate function we usually use.\n",
    "\n",
    "### Random Generate Function \n",
    "| function name | distribution | main parameters |  \n",
    "| :------: | :------: | :------: |  \n",
    "| tf.random_normal | normal distribution | mean, std, data type|\n",
    "| tf.truncated_normal | normal distribution within two std | mean, std, data type|\n",
    "| tf.random_uniform | uniform distribution | min value, max value, data type|\n",
    "| tf.random_gamma | gamma distribution | alpha, beta, data type|\n",
    "\n",
    "\n",
    "\n",
    "### Constant Generate Function\n",
    "| function name | function | example \n",
    "| :------: | :------: | :------: |  \n",
    "| tf.zeros | produce all zeros | tf.zeros([2,1], int32)|\n",
    "| tf.ones | produce all ones | tf.ones([2,3], int32)|\n",
    "| tf.fill | produce specific number | tf.fill([2,1], 9)|\n",
    "| tf.constant | prodcuce a given constant | tf.constant([2.0,1.0])|\n"
   ]
  },
  {
   "cell_type": "code",
   "execution_count": 23,
   "metadata": {
    "scrolled": true
   },
   "outputs": [
    {
     "name": "stdout",
     "output_type": "stream",
     "text": [
      "this is constant:\n",
      "[[ 1.10000002  2.20000005]\n",
      " [ 3.29999995  4.4000001 ]]\n",
      "[[ 0.  0.  0.]\n",
      " [ 0.  0.  0.]]\n",
      "[[-1.15324318 -0.18246362 -1.11843812]]\n",
      "this is variable:\n",
      "[[ 1.10000002  2.20000005]\n",
      " [ 3.29999995  4.4000001 ]]\n",
      "[[ 0.  0.  0.]\n",
      " [ 0.  0.  0.]]\n",
      "[[-0.29559004 -0.27690673 -1.32482207]]\n",
      "y is:\n",
      "[[ 3.95757794]\n",
      " [ 1.15376544]\n",
      " [ 3.16749239]]\n"
     ]
    }
   ],
   "source": [
    "x_constant1 = tf.constant([[1.1, 2.2],[3.3, 4.4]], dtype=tf.float32) # define float32 tensor\n",
    "x_constant2 = tf.zeros([2,3])\n",
    "x_constant3 = tf.random_normal([1,3], stddev=1)\n",
    "\n",
    "x_variable1 = tf.Variable(tf.constant([[1.1, 2.2],[3.3, 4.4]], dtype=tf.float32))\n",
    "x_variable2 = tf.Variable(tf.zeros([2,3]))\n",
    "x_variable3 = tf.Variable(tf.random_normal([1,3], stddev=1))\n",
    "\n",
    "\n",
    "w1= tf.Variable(tf.random_normal([2, 3], stddev=1, seed=1))\n",
    "w2= tf.Variable(tf.random_normal([3, 1], stddev=1, seed=1))\n",
    "x_placeholder1 = tf.placeholder(tf.float32, shape=(3, 2), name=\"input\")\n",
    "a = tf.matmul(x_placeholder1, w1)\n",
    "y = tf.matmul(a, w2)\n",
    "\n",
    "\n",
    "with tf.Session() as sess:\n",
    "    sess.run(tf.global_variables_initializer())\n",
    "    print('this is constant:')\n",
    "    print(sess.run(x_constant1))\n",
    "    print(sess.run(x_constant2))\n",
    "    print(sess.run(x_constant3))\n",
    "    print('this is variable:')\n",
    "    print(sess.run(x_variable1))\n",
    "    print(sess.run(x_variable2))\n",
    "    print(sess.run(x_variable3))\n",
    "    \n",
    "    print('y is:')\n",
    "    print(sess.run(y, feed_dict={x_placeholder1: [[0.7,0.9],[0.1,0.4],[0.5,0.8]]}))\n",
    " "
   ]
  },
  {
   "cell_type": "markdown",
   "metadata": {},
   "source": [
    "## Save and Restore Model\n",
    "TensorFlow saver can save/restore model or variable for future usage. Saver would produce theses three files:\n",
    "1. model.ckpt.meta: preserve computation graph\n",
    "2. model.ckpt: preserve variable in the graph\n",
    "3. checkpoint: preserve the latest model\n"
   ]
  },
  {
   "cell_type": "code",
   "execution_count": 3,
   "metadata": {},
   "outputs": [
    {
     "name": "stdout",
     "output_type": "stream",
     "text": [
      "[ 3.]\n"
     ]
    }
   ],
   "source": [
    "import tensorflow as tf\n",
    "v1 = tf.Variable(tf.constant(1.0, shape=[1]), name='v1')\n",
    "v2 = tf.Variable(tf.constant(2.0, shape=[1]), name='v2')\n",
    "result = tf.add(v1, v2, name=\"result\")\n",
    "saver = tf.train.Saver()\n",
    "\n",
    "with tf.Session() as sess:\n",
    "    sess.run(tf.global_variables_initializer())\n",
    "    saver.save(sess, \"Saved_model/model.ckpt\")\n",
    "    print(sess.run(result))\n",
    "    "
   ]
  },
  {
   "cell_type": "markdown",
   "metadata": {},
   "source": [
    "If you want to restore variable only, you should build the computation graph again and load previous variable."
   ]
  },
  {
   "cell_type": "code",
   "execution_count": 2,
   "metadata": {},
   "outputs": [
    {
     "name": "stderr",
     "output_type": "stream",
     "text": [
      "/home/isaac/anaconda3/envs/py3-gpu/lib/python3.6/importlib/_bootstrap.py:219: RuntimeWarning: compiletime version 3.5 of module 'tensorflow.python.framework.fast_tensor_util' does not match runtime version 3.6\n",
      "  return f(*args, **kwds)\n"
     ]
    },
    {
     "name": "stdout",
     "output_type": "stream",
     "text": [
      "INFO:tensorflow:Restoring parameters from Saved_model/model.ckpt\n",
      "[ 3.]\n"
     ]
    }
   ],
   "source": [
    "import tensorflow as tf\n",
    "tf.reset_default_graph()\n",
    "v1 = tf.Variable(tf.constant(1.0, shape=[1]), name='v1')\n",
    "v2 = tf.Variable(tf.constant(2.0, shape=[1]), name='v2')\n",
    "result = v1 + v2\n",
    "saver = tf.train.Saver()\n",
    "\n",
    "with tf.Session() as sess:\n",
    "    saver.restore(sess, \"Saved_model/model.ckpt\")\n",
    "    print(sess.run(result))"
   ]
  },
  {
   "cell_type": "markdown",
   "metadata": {},
   "source": [
    "Or, you can restore previous computation graph and variables by the following code"
   ]
  },
  {
   "cell_type": "code",
   "execution_count": 1,
   "metadata": {},
   "outputs": [
    {
     "name": "stderr",
     "output_type": "stream",
     "text": [
      "/home/isaac/anaconda3/envs/py3-gpu/lib/python3.6/importlib/_bootstrap.py:219: RuntimeWarning: compiletime version 3.5 of module 'tensorflow.python.framework.fast_tensor_util' does not match runtime version 3.6\n",
      "  return f(*args, **kwds)\n"
     ]
    },
    {
     "name": "stdout",
     "output_type": "stream",
     "text": [
      "INFO:tensorflow:Restoring parameters from Saved_model/model.ckpt\n",
      "[ 3.]\n"
     ]
    }
   ],
   "source": [
    "import tensorflow as tf\n",
    "saver = tf.train.import_meta_graph(\"Saved_model/model.ckpt.meta\")\n",
    "with tf.Session() as sess:\n",
    "    saver.restore(sess, \"Saved_model/model.ckpt\")\n",
    "    print(sess.run(\"result:0\"))"
   ]
  },
  {
   "cell_type": "markdown",
   "metadata": {},
   "source": [
    "## Some Common Function "
   ]
  },
  {
   "cell_type": "code",
   "execution_count": 4,
   "metadata": {
    "scrolled": true
   },
   "outputs": [
    {
     "name": "stdout",
     "output_type": "stream",
     "text": [
      "16.4\n",
      "2.73333\n",
      "[1 1 0]\n",
      "[0 0 1]\n"
     ]
    }
   ],
   "source": [
    "import tensorflow as tf\n",
    "\n",
    "test =tf.constant([[1.1, 2.2, 3.3],[4.5, 3.2, 2.1]], dtype=tf.float32)\n",
    "\n",
    "reduce_sum = tf.reduce_sum(test)\n",
    "reduce_mean = tf.reduce_mean(test)\n",
    "arg_max = tf.argmax(test)\n",
    "arg_min = tf.argmin(test)\n",
    "\n",
    "\n",
    "with tf.Session() as sess:\n",
    "    print(sess.run(reduce_sum))\n",
    "    print(sess.run(reduce_mean))\n",
    "\n",
    "    print(sess.run(arg_max))\n",
    "    print(sess.run(arg_min))\n",
    "\n"
   ]
  },
  {
   "cell_type": "code",
   "execution_count": 2,
   "metadata": {},
   "outputs": [
    {
     "name": "stdout",
     "output_type": "stream",
     "text": [
      "add:0\n",
      "Tensor(\"e:0\", shape=(2, 2), dtype=float32)\n",
      "Tensor(\"c:0\", shape=(2, 2), dtype=float32_ref)\n",
      "[[ 1.51897573  0.60832721]\n",
      " [-0.69689262 -0.62204778]]\n",
      "=================\n",
      "\n",
      "c:0 with value \n",
      "[[ 1.51897573  0.60832721]\n",
      " [-0.69689262 -0.62204778]]\n",
      "d:0 with value \n",
      "[[-0.22898714 -0.54401159]\n",
      " [ 0.01973653  0.15632695]]\n",
      "=================\n",
      "\n",
      "c:0 with value \n",
      "[[ 1.51897573  0.60832721]\n",
      " [-0.69689262 -0.62204778]]\n",
      "d:0 with value \n",
      "[[-0.22898714 -0.54401159]\n",
      " [ 0.01973653  0.15632695]]\n"
     ]
    }
   ],
   "source": [
    "import tensorflow as tf\n",
    "tf.reset_default_graph()\n",
    "\n",
    "a = tf.constant([[1.0, 2.0], [3.0, 4.0]], name='a')\n",
    "b = tf.constant([[1.0, 1.0], [0.0, 1.0]], name='b')\n",
    "c = tf.Variable(tf.random_normal([2,2], stddev=1), name='c')\n",
    "d = tf.Variable(tf.random_normal([2,2], stddev=1), name='d')\n",
    "e = tf.matmul(c, d, name='e')\n",
    "f = tf.matmul(e,c) + d\n",
    "\n",
    "with tf.Session() as sess:\n",
    "    sess.run(tf.global_variables_initializer())\n",
    "    test =  sess.run(f)\n",
    "    print(f.name)\n",
    "    test = tf.get_default_graph().get_tensor_by_name(\"e:0\")\n",
    "    print(test) #Tensor(\"example:0\", shape=(2, 2), dtype=float32)\n",
    "\n",
    "    c_tensor = tf.get_default_graph().get_tensor_by_name(\"c:0\")\n",
    "    print(c_tensor)\n",
    "    c_tensor_value = sess.run(c)\n",
    "    print(c_tensor_value)\n",
    "    \n",
    "    print('=================\\n')\n",
    "    for v in tf.global_variables():\n",
    "        print('{} with value \\n{}'.format(v.name, sess.run(v)))\n",
    "    print('=================\\n')\n",
    "    for v in tf.trainable_variables():\n",
    "        print('{} with value \\n{}'.format(v.name, sess.run(v)))\n",
    "    "
   ]
  },
  {
   "cell_type": "markdown",
   "metadata": {},
   "source": [
    "## Unstack\n",
    "\n",
    "### unstack at axis = 0\n",
    "![Alt text](./images/basic_tensorflow/unstack_axis0.png)\n",
    "### unstack at axis = 1\n",
    "![Alt text](./images/basic_tensorflow/unstack_axis1.png)\n",
    "### unstack at axis = 2\n",
    "![Alt text](./images/basic_tensorflow/unstack_axis2.png)\n"
   ]
  },
  {
   "cell_type": "code",
   "execution_count": 6,
   "metadata": {},
   "outputs": [
    {
     "name": "stdout",
     "output_type": "stream",
     "text": [
      "before unstack......\n",
      "[[ 0.69999999  0.89999998]\n",
      " [ 0.1         0.40000001]\n",
      " [ 0.5         0.80000001]]\n",
      "after unstack......\n",
      "[ 0.69999999  0.89999998]\n",
      "[ 0.1         0.40000001]\n",
      "[ 0.5         0.80000001]\n"
     ]
    }
   ],
   "source": [
    "import tensorflow as tf\n",
    "x = tf.constant([[0.7,0.9],[0.1,0.4],[0.5,0.8]], name='x')\n",
    "axis0_x = tf.unstack(x, axis=0)\n",
    "\n",
    "with tf.Session() as sess:\n",
    "    sess.run(tf.global_variables_initializer())\n",
    "    x_, axis0_ = sess.run([x, axis0_x])\n",
    "    print('before unstack......')\n",
    "    print(x_)\n",
    "    print('after unstack......')\n",
    "    print(axis0_[0])\n",
    "    print(axis0_[1])\n",
    "    print(axis0_[2])"
   ]
  },
  {
   "cell_type": "markdown",
   "metadata": {},
   "source": [
    "## Stack\n",
    "\n",
    "### origin data\n",
    "![Alt text](./images/basic_tensorflow/stack_origin.png)\n",
    "### stack at axis = 0\n",
    "![Alt text](./images/basic_tensorflow/stack_axis0.png)\n",
    "### stack at axis = 1\n",
    "![Alt text](./images/basic_tensorflow/stack_axis1.png)"
   ]
  },
  {
   "cell_type": "code",
   "execution_count": 12,
   "metadata": {},
   "outputs": [
    {
     "name": "stdout",
     "output_type": "stream",
     "text": [
      "[[[ 1.  2.]\n",
      "  [ 3.  4.]\n",
      "  [ 5.  6.]]\n",
      "\n",
      " [[ 1.  1.]\n",
      "  [ 0.  1.]\n",
      "  [ 1.  1.]]]\n",
      "(2, 3, 2)\n",
      "[[[ 1.  2.]\n",
      "  [ 1.  1.]]\n",
      "\n",
      " [[ 3.  4.]\n",
      "  [ 0.  1.]]\n",
      "\n",
      " [[ 5.  6.]\n",
      "  [ 1.  1.]]]\n",
      "(3, 2, 2)\n"
     ]
    }
   ],
   "source": [
    "import tensorflow as tf\n",
    "\n",
    "x = tf.constant([[1.0, 2.0], [3.0, 4.0], [5.0, 6.0]], name='x')\n",
    "y = tf.constant([[1.0, 1.0], [0.0, 1.0], [1.0, 1.0]], name='y')\n",
    "\n",
    "stacked_axis0_result = tf.stack([x,y], axis=0)\n",
    "stacked_axis1_result = tf.stack([x,y], axis=1)\n",
    "\n",
    "with tf.Session() as sess:\n",
    "    sess.run(tf.global_variables_initializer())\n",
    "    stacked_axis0_result_, stacked_axis1_result_ = sess.run([stacked_axis0_result, stacked_axis1_result])\n",
    "    print(stacked_axis0_result_)\n",
    "    print(stacked_axis0_result_.shape)\n",
    "    \n",
    "    print(stacked_axis1_result_)\n",
    "    print(stacked_axis1_result_.shape)\n",
    "           "
   ]
  },
  {
   "cell_type": "markdown",
   "metadata": {
    "collapsed": true
   },
   "source": [
    "## Some Common function (Activation Function) \n",
    "more reference on https://www.tensorflow.org/versions/r0.12/api_docs/python/nn/activation_functions_\n",
    "\n",
    "![Alt text](./images/basic_tensorflow/activation.png)"
   ]
  },
  {
   "cell_type": "code",
   "execution_count": 4,
   "metadata": {},
   "outputs": [
    {
     "name": "stdout",
     "output_type": "stream",
     "text": [
      "output of relu is\n",
      " [ 0.  2.] \n",
      "\n",
      "output of sigmoid is\n",
      " [ 0.26894143  0.88079703] \n",
      "\n",
      "output of tanh is\n",
      " [-0.76159418  0.96402758] \n",
      "\n"
     ]
    }
   ],
   "source": [
    "import tensorflow as tf\n",
    "\n",
    "a = tf.constant([-1.0, 2.0], name='a')\n",
    "relu_out = tf.nn.relu(a)\n",
    "sigmoid_out = tf.sigmoid(a)\n",
    "tanh_out = tf.tanh(a)\n",
    "\n",
    "with tf.Session() as sess:\n",
    "    sess.run(tf.global_variables_initializer())\n",
    "    relu_out_, sigmoid_out_, tanh_out_ =  sess.run([relu_out, sigmoid_out, tanh_out])\n",
    "\n",
    "    print('output of relu is\\n {} \\n'.format(relu_out_))\n",
    "    print('output of sigmoid is\\n {} \\n'.format(sigmoid_out_))\n",
    "    print('output of tanh is\\n {} \\n'.format(tanh_out_))\n",
    "    "
   ]
  },
  {
   "cell_type": "markdown",
   "metadata": {},
   "source": [
    "## Some Cost Function"
   ]
  },
  {
   "cell_type": "code",
   "execution_count": 11,
   "metadata": {},
   "outputs": [
    {
     "name": "stdout",
     "output_type": "stream",
     "text": [
      "softmax with cross entropy is\n",
      " 2.8715391159057617 \n",
      "\n",
      "mean square is\n",
      " 2.4166667461395264 \n",
      "\n"
     ]
    }
   ],
   "source": [
    "import tensorflow as tf\n",
    "\n",
    "predict = tf.constant([-0.5, 1, 2], name='predict')\n",
    "labels = tf.constant([1.0, 0.0, 0.0], name='labels')\n",
    "\n",
    "cost1 = tf.nn.softmax_cross_entropy_with_logits(logits=predict , labels=labels)\n",
    "cost2 = tf.losses.mean_squared_error(predictions=predict, labels=labels) \n",
    "\n",
    "with tf.Session() as sess:\n",
    "    sess.run(tf.global_variables_initializer())\n",
    "    cost1_ =  sess.run(cost1)\n",
    "    cost2_ =  sess.run(cost2)\n",
    "\n",
    "    print('softmax with cross entropy is\\n {} \\n'.format(cost1_))\n",
    "    print('mean square is\\n {} \\n'.format(cost2_))\n"
   ]
  },
  {
   "cell_type": "markdown",
   "metadata": {},
   "source": [
    "## Some Optimizer"
   ]
  },
  {
   "cell_type": "code",
   "execution_count": 20,
   "metadata": {},
   "outputs": [
    {
     "name": "stdout",
     "output_type": "stream",
     "text": [
      "when x = -0.2289120852947235, y have min value\n"
     ]
    }
   ],
   "source": [
    "import tensorflow as tf\n",
    "\n",
    "learning_rate = 0.01\n",
    "a = tf.constant(2.0)\n",
    "b = tf.constant(1.0)\n",
    "c = tf.constant(3.0)\n",
    "x = tf.Variable(tf.constant(1.0), name='x')\n",
    "y = a*x*x + b*x + c\n",
    "\n",
    "optimizer = tf.train.GradientDescentOptimizer(learning_rate).minimize(y)\n",
    "#optimizer = tf.train.AdamOptimizer(learning_rate).minimize(y)\n",
    "#optimizer = tf.train.RMSPropOptimizer(learning_rate).minimize(y)\n",
    "\n",
    "with tf.Session() as sess:\n",
    "    sess.run(tf.global_variables_initializer())\n",
    "    for _ in range(100):\n",
    "        optimizer_ = sess.run(optimizer)\n",
    "    x_ = sess.run(x)    \n",
    "    print('when x = {}, y have min value'.format(x_))    \n"
   ]
  },
  {
   "cell_type": "markdown",
   "metadata": {},
   "source": [
    "\n",
    "\n"
   ]
  },
  {
   "cell_type": "markdown",
   "metadata": {
    "collapsed": true
   },
   "source": [
    " "
   ]
  },
  {
   "cell_type": "code",
   "execution_count": null,
   "metadata": {
    "collapsed": true
   },
   "outputs": [],
   "source": []
  }
 ],
 "metadata": {
  "kernelspec": {
   "display_name": "Python 3",
   "language": "python",
   "name": "python3"
  },
  "language_info": {
   "codemirror_mode": {
    "name": "ipython",
    "version": 3
   },
   "file_extension": ".py",
   "mimetype": "text/x-python",
   "name": "python",
   "nbconvert_exporter": "python",
   "pygments_lexer": "ipython3",
   "version": "3.6.8"
  }
 },
 "nbformat": 4,
 "nbformat_minor": 2
}
