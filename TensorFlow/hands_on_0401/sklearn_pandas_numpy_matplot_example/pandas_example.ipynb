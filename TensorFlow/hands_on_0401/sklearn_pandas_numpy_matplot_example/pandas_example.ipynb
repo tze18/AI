{
 "cells": [
  {
   "cell_type": "markdown",
   "metadata": {},
   "source": [
    "# Pandas Series/Dataframe/Panel"
   ]
  },
  {
   "cell_type": "code",
   "execution_count": 8,
   "metadata": {},
   "outputs": [
    {
     "name": "stdout",
     "output_type": "stream",
     "text": [
      "0    0.1\n",
      "1    0.2\n",
      "2    0.3\n",
      "3    0.4\n",
      "dtype: float64\n",
      "a    0.1\n",
      "b    0.2\n",
      "c    0.3\n",
      "d    0.4\n",
      "dtype: float64\n",
      "          0         1         2         3\n",
      "0 -0.807616  0.901027  0.095159  1.005966\n",
      "1 -0.232653  0.308556  0.600042 -1.807207\n",
      "2 -0.370224 -0.699534  1.222552  0.142990\n",
      "3  1.010913  0.663653  0.165975  0.366467\n",
      "4 -2.308656 -1.389994  1.986275  1.342418\n",
      "5  0.150081  1.065846  1.023608 -1.571769\n",
      "          a         b         c         d\n",
      "x -1.606720  0.270427  0.377963 -1.444301\n",
      "y  1.855346  1.823397 -1.140276 -1.924299\n",
      "z -0.193795  1.884402 -0.490442 -1.140895\n",
      "p  0.156089  0.680609  0.166573  0.933301\n",
      "q  1.553389 -0.829451  1.535319  0.409793\n",
      "r  0.659245 -0.742579 -2.071875  1.829944\n",
      "<class 'pandas.core.panel.Panel'>\n",
      "Dimensions: 2 (items) x 3 (major_axis) x 4 (minor_axis)\n",
      "Items axis: 0 to 1\n",
      "Major_axis axis: 0 to 2\n",
      "Minor_axis axis: 0 to 3\n"
     ]
    }
   ],
   "source": [
    "import pandas as pd\n",
    "import numpy as np\n",
    "s = pd.Series([0.1, 0.2, 0.3, 0.4])\n",
    "print(s)\n",
    "s = pd.Series([0.1, 0.2, 0.3, 0.4], index=['a', 'b', 'c', 'd'])\n",
    "print(s)\n",
    "\n",
    "df = pd.DataFrame(np.random.randn(6,4))\n",
    "print(df)\n",
    "\n",
    "df = pd.DataFrame(np.random.randn(6,4), columns=['a', 'b', 'c', 'd'], index=['x', 'y', 'z', 'p', 'q', 'r'])\n",
    "print(df)\n",
    "\n",
    "p = pd.Panel(np.random.randn(2,3,4))\n",
    "print(p)\n",
    "\n",
    "# more panel usage please reference https://www.tutorialspoint.com/python_pandas/python_pandas_panel.htm"
   ]
  },
  {
   "cell_type": "markdown",
   "metadata": {},
   "source": [
    "# Create Dataframe from List/Dict"
   ]
  },
  {
   "cell_type": "code",
   "execution_count": 1,
   "metadata": {},
   "outputs": [
    {
     "name": "stdout",
     "output_type": "stream",
     "text": [
      "create dataframe from list\n",
      "    name  math score  english score\n",
      "0  isaac          60             50\n",
      "1  julie          90             70\n",
      "2   alex          30             40\n",
      "create dataframe from dict\n",
      "    name  math score  english score\n",
      "0  isaac          60             50\n",
      "1  julie          90             70\n",
      "2   alex          30             40\n"
     ]
    }
   ],
   "source": [
    "import pandas as pd\n",
    "\n",
    "my_list = [('isaac', 60, 50),('julie', 90, 70),('alex', 30, 40)]\n",
    "header = ['name','math score','english score']\n",
    "df_from_list = pd.DataFrame.from_records(my_list, columns=header)\n",
    "\n",
    "print('create dataframe from list')\n",
    "print(df_from_list)\n",
    "\n",
    "\n",
    "\n",
    "my_dict = \\\n",
    "[{'name':'isaac', 'math score':60,'english score':50},\n",
    "{'name':'julie', 'math score':90,'english score':70},\n",
    "{'name':'alex', 'math score':30,'english score':40}\n",
    "]\n",
    "\n",
    "df_from_dict = pd.DataFrame(my_dict, columns=['name', 'math score', 'english score'])\n",
    "\n",
    "print('create dataframe from dict')\n",
    "print(df_from_dict)"
   ]
  },
  {
   "cell_type": "markdown",
   "metadata": {},
   "source": [
    "# Read/Write CSV File"
   ]
  },
  {
   "cell_type": "code",
   "execution_count": 4,
   "metadata": {},
   "outputs": [
    {
     "name": "stdout",
     "output_type": "stream",
     "text": [
      "   Season  Daynum  Wteam  Wscore  Lteam  Lscore Wloc  Numot\n",
      "0    1985      20   1228      81   1328      64    N      0\n",
      "1    1985      25   1106      77   1354      70    H      0\n",
      "2    1985      25   1112      63   1223      56    H      0\n",
      "3    1985      25   1165      70   1432      54    H      0\n",
      "4    1985      25   1192      86   1447      74    H      0\n"
     ]
    }
   ],
   "source": [
    "df = pd.read_csv('RegularSeasonCompactResults.csv')\n",
    "#df = pd.read_csv('RegularSeasonCompactResults.csv', header=None)\n",
    "\n",
    "# print first five row\n",
    "print(df.head())\n",
    "\n",
    "# save dataframe to a csv file\n",
    "df.to_csv('dfnew.csv', index=False)\n",
    "#df.to_csv('dfnew.csv', index=False, header=False)\n",
    "#sep=','"
   ]
  },
  {
   "cell_type": "markdown",
   "metadata": {},
   "source": [
    "# Basic Manipulate"
   ]
  },
  {
   "cell_type": "code",
   "execution_count": 9,
   "metadata": {
    "collapsed": true
   },
   "outputs": [],
   "source": [
    "df = pd.read_csv('RegularSeasonCompactResults.csv')"
   ]
  },
  {
   "cell_type": "code",
   "execution_count": 10,
   "metadata": {},
   "outputs": [
    {
     "name": "stdout",
     "output_type": "stream",
     "text": [
      "(145289, 8)\n"
     ]
    }
   ],
   "source": [
    "print(df.shape)"
   ]
  },
  {
   "cell_type": "code",
   "execution_count": 11,
   "metadata": {},
   "outputs": [
    {
     "name": "stdout",
     "output_type": "stream",
     "text": [
      "   Season  Daynum  Wteam  Wscore  Lteam  Lscore Wloc  Numot\n",
      "0    1985      20   1228      81   1328      64    N      0\n",
      "1    1985      25   1106      77   1354      70    H      0\n",
      "2    1985      25   1112      63   1223      56    H      0\n",
      "3    1985      25   1165      70   1432      54    H      0\n",
      "4    1985      25   1192      86   1447      74    H      0\n",
      "5    1985      25   1218      79   1337      78    H      0\n",
      "6    1985      25   1228      64   1226      44    N      0\n",
      "7    1985      25   1242      58   1268      56    N      0\n",
      "8    1985      25   1260      98   1133      80    H      0\n",
      "9    1985      25   1305      97   1424      89    H      0\n"
     ]
    }
   ],
   "source": [
    "print(df.head(10))"
   ]
  },
  {
   "cell_type": "code",
   "execution_count": 12,
   "metadata": {},
   "outputs": [
    {
     "name": "stdout",
     "output_type": "stream",
     "text": [
      "        Season  Daynum  Wteam  Wscore  Lteam  Lscore Wloc  Numot\n",
      "145284    2016     132   1114      70   1419      50    N      0\n",
      "145285    2016     132   1163      72   1272      58    N      0\n",
      "145286    2016     132   1246      82   1401      77    N      1\n",
      "145287    2016     132   1277      66   1345      62    N      0\n",
      "145288    2016     132   1386      87   1433      74    N      0\n"
     ]
    }
   ],
   "source": [
    "print(df.tail())"
   ]
  },
  {
   "cell_type": "code",
   "execution_count": 13,
   "metadata": {},
   "outputs": [
    {
     "name": "stdout",
     "output_type": "stream",
     "text": [
      "              Season         Daynum          Wteam         Wscore  \\\n",
      "count  145289.000000  145289.000000  145289.000000  145289.000000   \n",
      "mean     2001.574834      75.223816    1286.720646      76.600321   \n",
      "std         9.233342      33.287418     104.570275      12.173033   \n",
      "min      1985.000000       0.000000    1101.000000      34.000000   \n",
      "25%      1994.000000      47.000000    1198.000000      68.000000   \n",
      "50%      2002.000000      78.000000    1284.000000      76.000000   \n",
      "75%      2010.000000     103.000000    1379.000000      84.000000   \n",
      "max      2016.000000     132.000000    1464.000000     186.000000   \n",
      "\n",
      "               Lteam         Lscore          Numot  \n",
      "count  145289.000000  145289.000000  145289.000000  \n",
      "mean     1282.864064      64.497009       0.044387  \n",
      "std       104.829234      11.380625       0.247819  \n",
      "min      1101.000000      20.000000       0.000000  \n",
      "25%      1191.000000      57.000000       0.000000  \n",
      "50%      1280.000000      64.000000       0.000000  \n",
      "75%      1375.000000      72.000000       0.000000  \n",
      "max      1464.000000     150.000000       6.000000  \n"
     ]
    }
   ],
   "source": [
    "print(df.describe())"
   ]
  },
  {
   "cell_type": "code",
   "execution_count": 14,
   "metadata": {},
   "outputs": [
    {
     "name": "stdout",
     "output_type": "stream",
     "text": [
      "Season    2016\n",
      "Daynum     132\n",
      "Wteam     1464\n",
      "Wscore     186\n",
      "Lteam     1464\n",
      "Lscore     150\n",
      "Wloc         N\n",
      "Numot        6\n",
      "dtype: object\n"
     ]
    }
   ],
   "source": [
    "print(df.max())"
   ]
  },
  {
   "cell_type": "code",
   "execution_count": 15,
   "metadata": {},
   "outputs": [
    {
     "name": "stdout",
     "output_type": "stream",
     "text": [
      "print Wscore max and Lscore mean\n",
      "186\n",
      "64.49700940883343\n"
     ]
    }
   ],
   "source": [
    "print('print Wscore max and Lscore mean')\n",
    "print(df['Wscore'].max())\n",
    "print(df['Lscore'].mean())"
   ]
  },
  {
   "cell_type": "code",
   "execution_count": 16,
   "metadata": {},
   "outputs": [
    {
     "name": "stdout",
     "output_type": "stream",
     "text": [
      "print first three row of dataframe\n",
      "   Season  Daynum  Wteam  Wscore  Lteam  Lscore Wloc  Numot\n",
      "0    1985      20   1228      81   1328      64    N      0\n",
      "1    1985      25   1106      77   1354      70    H      0\n",
      "2    1985      25   1112      63   1223      56    H      0\n"
     ]
    }
   ],
   "source": [
    "# use iloc(integer-location based indexing for selection by position) to access row\n",
    "\n",
    "print('print first three row of dataframe')\n",
    "print(df.iloc[:3])"
   ]
  },
  {
   "cell_type": "code",
   "execution_count": 18,
   "metadata": {},
   "outputs": [
    {
     "name": "stdout",
     "output_type": "stream",
     "text": [
      "   Wscore  Lscore\n",
      "0      81      64\n",
      "1      77      70\n",
      "2      63      56\n",
      "3      70      54\n",
      "4      86      74\n"
     ]
    }
   ],
   "source": [
    "print(df[['Wscore', 'Lscore']].head())"
   ]
  },
  {
   "cell_type": "code",
   "execution_count": 21,
   "metadata": {},
   "outputs": [
    {
     "name": "stdout",
     "output_type": "stream",
     "text": [
      "print Wscore that is greater than 150\n",
      "       Season  Daynum  Wteam  Wscore  Lteam  Lscore Wloc  Numot\n",
      "5269     1986      75   1258     151   1109     107    H      0\n",
      "12046    1988      40   1328     152   1147      84    H      0\n",
      "12355    1988      52   1328     151   1173      99    N      0\n",
      "16040    1989      40   1328     152   1331     122    H      0\n",
      "16853    1989      68   1258     162   1109     144    A      0\n",
      "17867    1989      92   1258     181   1109     150    H      0\n",
      "19653    1990      30   1328     173   1109     101    H      0\n",
      "19971    1990      38   1258     152   1109     137    A      0\n",
      "20022    1990      40   1116     166   1109     101    H      0\n",
      "22145    1990      97   1258     157   1362     115    H      0\n",
      "23582    1991      26   1318     152   1258     123    N      0\n",
      "24341    1991      47   1328     172   1258     112    H      0\n",
      "24970    1991      68   1258     186   1109     140    H      0\n",
      "25656    1991      84   1106     151   1212      97    H      0\n",
      "28687    1992      54   1261     159   1319      86    H      0\n",
      "35023    1993     112   1380     155   1341      91    A      0\n",
      "40060    1995      32   1375     156   1341     114    H      0\n",
      "52600    1998      33   1395     153   1410      87    H      0\n"
     ]
    }
   ],
   "source": [
    "print('print Wscore that is greater than 150')\n",
    "print(df[df['Wscore'] > 150])"
   ]
  },
  {
   "cell_type": "code",
   "execution_count": 22,
   "metadata": {},
   "outputs": [
    {
     "name": "stdout",
     "output_type": "stream",
     "text": [
      "print Wscore that is greater than 150 and Lscore is less than 100\n"
     ]
    },
    {
     "data": {
      "text/html": [
       "<div>\n",
       "<style>\n",
       "    .dataframe thead tr:only-child th {\n",
       "        text-align: right;\n",
       "    }\n",
       "\n",
       "    .dataframe thead th {\n",
       "        text-align: left;\n",
       "    }\n",
       "\n",
       "    .dataframe tbody tr th {\n",
       "        vertical-align: top;\n",
       "    }\n",
       "</style>\n",
       "<table border=\"1\" class=\"dataframe\">\n",
       "  <thead>\n",
       "    <tr style=\"text-align: right;\">\n",
       "      <th></th>\n",
       "      <th>Season</th>\n",
       "      <th>Daynum</th>\n",
       "      <th>Wteam</th>\n",
       "      <th>Wscore</th>\n",
       "      <th>Lteam</th>\n",
       "      <th>Lscore</th>\n",
       "      <th>Wloc</th>\n",
       "      <th>Numot</th>\n",
       "    </tr>\n",
       "  </thead>\n",
       "  <tbody>\n",
       "    <tr>\n",
       "      <th>12046</th>\n",
       "      <td>1988</td>\n",
       "      <td>40</td>\n",
       "      <td>1328</td>\n",
       "      <td>152</td>\n",
       "      <td>1147</td>\n",
       "      <td>84</td>\n",
       "      <td>H</td>\n",
       "      <td>0</td>\n",
       "    </tr>\n",
       "    <tr>\n",
       "      <th>12355</th>\n",
       "      <td>1988</td>\n",
       "      <td>52</td>\n",
       "      <td>1328</td>\n",
       "      <td>151</td>\n",
       "      <td>1173</td>\n",
       "      <td>99</td>\n",
       "      <td>N</td>\n",
       "      <td>0</td>\n",
       "    </tr>\n",
       "    <tr>\n",
       "      <th>25656</th>\n",
       "      <td>1991</td>\n",
       "      <td>84</td>\n",
       "      <td>1106</td>\n",
       "      <td>151</td>\n",
       "      <td>1212</td>\n",
       "      <td>97</td>\n",
       "      <td>H</td>\n",
       "      <td>0</td>\n",
       "    </tr>\n",
       "    <tr>\n",
       "      <th>28687</th>\n",
       "      <td>1992</td>\n",
       "      <td>54</td>\n",
       "      <td>1261</td>\n",
       "      <td>159</td>\n",
       "      <td>1319</td>\n",
       "      <td>86</td>\n",
       "      <td>H</td>\n",
       "      <td>0</td>\n",
       "    </tr>\n",
       "    <tr>\n",
       "      <th>35023</th>\n",
       "      <td>1993</td>\n",
       "      <td>112</td>\n",
       "      <td>1380</td>\n",
       "      <td>155</td>\n",
       "      <td>1341</td>\n",
       "      <td>91</td>\n",
       "      <td>A</td>\n",
       "      <td>0</td>\n",
       "    </tr>\n",
       "    <tr>\n",
       "      <th>52600</th>\n",
       "      <td>1998</td>\n",
       "      <td>33</td>\n",
       "      <td>1395</td>\n",
       "      <td>153</td>\n",
       "      <td>1410</td>\n",
       "      <td>87</td>\n",
       "      <td>H</td>\n",
       "      <td>0</td>\n",
       "    </tr>\n",
       "  </tbody>\n",
       "</table>\n",
       "</div>"
      ],
      "text/plain": [
       "       Season  Daynum  Wteam  Wscore  Lteam  Lscore Wloc  Numot\n",
       "12046    1988      40   1328     152   1147      84    H      0\n",
       "12355    1988      52   1328     151   1173      99    N      0\n",
       "25656    1991      84   1106     151   1212      97    H      0\n",
       "28687    1992      54   1261     159   1319      86    H      0\n",
       "35023    1993     112   1380     155   1341      91    A      0\n",
       "52600    1998      33   1395     153   1410      87    H      0"
      ]
     },
     "execution_count": 22,
     "metadata": {},
     "output_type": "execute_result"
    }
   ],
   "source": [
    "print('print Wscore that is greater than 150 and Lscore is less than 100')\n",
    "df[(df['Wscore'] > 150) & (df['Lscore'] < 100)]"
   ]
  },
  {
   "cell_type": "markdown",
   "metadata": {},
   "source": [
    "# Add/Drop Pandas Row/Column"
   ]
  },
  {
   "cell_type": "code",
   "execution_count": 32,
   "metadata": {},
   "outputs": [
    {
     "name": "stdout",
     "output_type": "stream",
     "text": [
      "    name  math score  english score\n",
      "0  isaac          60             50\n",
      "1  julie          90             70\n",
      "2   alex          30             40\n",
      "add a new row\n",
      "    name  math score  english score\n",
      "0  isaac          60             50\n",
      "1  julie          90             70\n",
      "2   alex          30             40\n",
      "3    leo          70             50\n",
      "drop a row\n",
      "    name  math score  english score\n",
      "0  isaac          60             50\n",
      "1  julie          90             70\n",
      "2    leo          70             50\n",
      "add a new column\n",
      "    name  math score  english score  chinese score\n",
      "0  isaac          60             50             50\n",
      "1  julie          90             70             70\n",
      "2    leo          70             50             60\n",
      "drop a column\n",
      "    name  english score  chinese score\n",
      "0  isaac             50             50\n",
      "1  julie             70             70\n",
      "2    leo             50             60\n"
     ]
    }
   ],
   "source": [
    "import pandas as pd\n",
    "\n",
    "my_list = [('isaac', 60, 50),('julie', 90, 70),('alex', 30, 40)]\n",
    "header = ['name','math score','english score']\n",
    "df_from_list = pd.DataFrame.from_records(my_list, columns=header)\n",
    "\n",
    "print(df_from_list)\n",
    "\n",
    "\n",
    "new_row = pd.DataFrame([['leo', 70, 50]], columns=df_from_list.columns.tolist() )\n",
    "\n",
    "print('add a new row')\n",
    "# add a new row\n",
    "df = df_from_list.append(new_row, ignore_index=True)\n",
    "print(df)\n",
    "\n",
    "print('drop a row')\n",
    "# drop a row\n",
    "df = df.drop([2], axis=0)\n",
    "df = df.reset_index(drop=True)\n",
    "print(df)\n",
    "\n",
    "print('add a new column')\n",
    "# add a new column\n",
    "df['chinese score'] = pd.Series([ 50, 70, 60])\n",
    "print(df)\n",
    "\n",
    "print('drop a column')\n",
    "# drop a column\n",
    "df = df.drop(['math score'], axis=1)\n",
    "print(df)"
   ]
  },
  {
   "cell_type": "markdown",
   "metadata": {},
   "source": [
    "# Missing Value"
   ]
  },
  {
   "cell_type": "code",
   "execution_count": 1,
   "metadata": {},
   "outputs": [
    {
     "name": "stdout",
     "output_type": "stream",
     "text": [
      "origin dataframe\n",
      "   size  number_room  house_price house_type\n",
      "0  40.0          3.0          800        old\n",
      "1  29.0          5.0          700      young\n",
      "2  33.0          2.0          670      young\n",
      "3   NaN          2.0          770        old\n",
      "4   NaN          NaN          870      young\n",
      "drop row that contain any missing value\n",
      "   size  number_room  house_price house_type\n",
      "0  40.0          3.0          800        old\n",
      "1  29.0          5.0          700      young\n",
      "2  33.0          2.0          670      young\n",
      "fill missing value with mean\n",
      "   size  number_room  house_price house_type\n",
      "0  40.0          3.0          800        old\n",
      "1  29.0          5.0          700      young\n",
      "2  33.0          2.0          670      young\n",
      "3  34.0          2.0          770        old\n",
      "4  34.0          NaN          870      young\n"
     ]
    }
   ],
   "source": [
    "import pandas as pd\n",
    "\n",
    "# load csv file\n",
    "df = pd.read_csv('na_demo.csv')\n",
    "\n",
    "print('origin dataframe')\n",
    "print(df)\n",
    "\n",
    "print('drop row that contain any missing value')\n",
    "# drop row that contain any missing value\n",
    "df_no_missing = df.dropna()\n",
    "print(df_no_missing)\n",
    "\n",
    "print('fill missing value with mean')\n",
    "# fill missing value with mean \n",
    "df[\"size\"].fillna(df[\"size\"].mean(), inplace=True)\n",
    "print(df)"
   ]
  },
  {
   "cell_type": "markdown",
   "metadata": {},
   "source": [
    "# Encoding categorical features"
   ]
  },
  {
   "cell_type": "code",
   "execution_count": 3,
   "metadata": {},
   "outputs": [
    {
     "name": "stdout",
     "output_type": "stream",
     "text": [
      "origin dataframe\n",
      "   size  number_room  house_price house_type\n",
      "0  40.0          3.0          800        old\n",
      "1  29.0          5.0          700      young\n",
      "2  33.0          2.0          670      young\n",
      "3   NaN          2.0          770        old\n",
      "4   NaN          NaN          870      young\n",
      "encode category\n",
      "   size  number_room  house_price  house_type\n",
      "0  40.0          3.0          800           0\n",
      "1  29.0          5.0          700           1\n",
      "2  33.0          2.0          670           1\n",
      "3   NaN          2.0          770           0\n",
      "4   NaN          NaN          870           1\n"
     ]
    }
   ],
   "source": [
    "import pandas as pd\n",
    "\n",
    "# load csv file\n",
    "df = pd.read_csv('na_demo.csv')\n",
    "\n",
    "print('origin dataframe')\n",
    "print(df)\n",
    "\n",
    "print('encode category')\n",
    "df['house_type'] = pd.Categorical(df['house_type']).codes\n",
    "print(df)"
   ]
  },
  {
   "cell_type": "markdown",
   "metadata": {},
   "source": [
    "# Apply"
   ]
  },
  {
   "cell_type": "code",
   "execution_count": 11,
   "metadata": {},
   "outputs": [
    {
     "name": "stdout",
     "output_type": "stream",
     "text": [
      "   Season  Daynum  Wteam  Wscore  Lteam  Lscore Wloc  Numot\n",
      "0    1985      20   1228      81   1328      64    N      0\n",
      "1    1985      25   1106      77   1354      70    H      0\n",
      "2    1985      25   1112      63   1223      56    H      0\n",
      "3    1985      25   1165      70   1432      54    H      0\n",
      "4    1985      25   1192      86   1447      74    H      0\n",
      "   Season  Daynum  Wteam      Wscore  Lteam  Lscore Wloc  Numot\n",
      "0    1985      20   1228  high score   1328      64    N      0\n",
      "1    1985      25   1106  high score   1354      70    H      0\n",
      "2    1985      25   1112   low score   1223      56    H      0\n",
      "3    1985      25   1165   low score   1432      54    H      0\n",
      "4    1985      25   1192  high score   1447      74    H      0\n",
      "==================\n",
      "   Season  Daynum  Wteam  Wscore  Lteam  Lscore Wloc  Numot\n",
      "0    1985      20   1228      81   1328      64    N      0\n",
      "1    1985      25   1106      77   1354      70    H      0\n",
      "2    1985      25   1112      63   1223      56    H      0\n",
      "3    1985      25   1165      70   1432      54    H      0\n",
      "4    1985      25   1192      86   1447      74    H      0\n",
      "   Season  Daynum  Wteam       Wscore  Lteam  Lscore Wloc  Numot\n",
      "0    1985      20   1228  hight score   1328      64    N      0\n",
      "1    1985      25   1106  hight score   1354      70    H      0\n",
      "2    1985      25   1112    low score   1223      56    H      0\n",
      "3    1985      25   1165    low score   1432      54    H      0\n",
      "4    1985      25   1192  hight score   1447      74    H      0\n"
     ]
    }
   ],
   "source": [
    "import pandas as pd\n",
    "\n",
    "df = pd.read_csv('RegularSeasonCompactResults.csv')\n",
    "print(df.head())\n",
    "\n",
    "df['Wscore'] = df['Wscore'].apply(lambda x: 'high score' if x>70 else 'low score')\n",
    "print(df.head())\n",
    "\n",
    "print('==================')\n",
    "\n",
    "df = pd.read_csv('RegularSeasonCompactResults.csv')\n",
    "print(df.head())\n",
    "\n",
    "def add_one(x):\n",
    "    if x > 70:\n",
    "        return 'hight score'\n",
    "    else:\n",
    "        return 'low score'\n",
    "    \n",
    "\n",
    "df['Wscore'] = df['Wscore'].apply(add_one)\n",
    "print(df.head())"
   ]
  },
  {
   "cell_type": "markdown",
   "metadata": {},
   "source": [
    "# Merge"
   ]
  },
  {
   "cell_type": "code",
   "execution_count": 11,
   "metadata": {},
   "outputs": [
    {
     "name": "stdout",
     "output_type": "stream",
     "text": [
      "first dataframe is:\n",
      "  student name  math score\n",
      "0        isaac         100\n",
      "1        kevin          70\n",
      "2         jack          90\n",
      "3         judy          75\n",
      "second dataframe is:\n",
      "  student name  english score\n",
      "0        isaac             70\n",
      "1         jack             33\n",
      "2         judy             89\n",
      "3        kevin             64\n",
      "4         alex             99\n"
     ]
    }
   ],
   "source": [
    "import pandas as pd\n",
    "\n",
    "df1 = pd.read_csv('merge1.csv')\n",
    "df2 = pd.read_csv('merge2.csv')\n",
    "\n",
    "print('first dataframe is:')\n",
    "print(df1.head())\n",
    "\n",
    "print('second dataframe is:')\n",
    "print(df2.head())\n"
   ]
  },
  {
   "cell_type": "code",
   "execution_count": 12,
   "metadata": {},
   "outputs": [
    {
     "name": "stdout",
     "output_type": "stream",
     "text": [
      "\n",
      "inner merge\n",
      "\n",
      "  student name  math score  english score\n",
      "0        isaac         100             70\n",
      "1        kevin          70             64\n",
      "2         jack          90             33\n",
      "3         judy          75             89\n"
     ]
    }
   ],
   "source": [
    "print('\\ninner merge\\n')\n",
    "inner_merge = pd.merge(df1, df2, on='student name')\n",
    "print(inner_merge.head())"
   ]
  },
  {
   "cell_type": "code",
   "execution_count": 13,
   "metadata": {},
   "outputs": [
    {
     "name": "stdout",
     "output_type": "stream",
     "text": [
      "\n",
      "outer merge\n",
      "\n",
      "  student name  math score  english score\n",
      "0        isaac       100.0             70\n",
      "1        kevin        70.0             64\n",
      "2         jack        90.0             33\n",
      "3         judy        75.0             89\n",
      "4         alex         NaN             99\n"
     ]
    }
   ],
   "source": [
    "print('\\nouter merge\\n')\n",
    "outer_merge = pd.merge(df1, df2, on='student name', how='outer')\n",
    "print(outer_merge.head())"
   ]
  },
  {
   "cell_type": "markdown",
   "metadata": {},
   "source": [
    "# Append"
   ]
  },
  {
   "cell_type": "code",
   "execution_count": 6,
   "metadata": {},
   "outputs": [
    {
     "name": "stdout",
     "output_type": "stream",
     "text": [
      "first dataframe is:\n",
      "  student name  math score\n",
      "0        isaac         100\n",
      "1        kevin          70\n",
      "2         jack          90\n",
      "3         judy          75\n",
      "second dataframe is:\n",
      "  student name  math score\n",
      "0        salad          13\n",
      "1         lily          75\n",
      "  student name  math score\n",
      "0        isaac         100\n",
      "1        kevin          70\n",
      "2         jack          90\n",
      "3         judy          75\n",
      "0        salad          13\n",
      "1         lily          75\n",
      "  student name  math score\n",
      "0        isaac         100\n",
      "1        kevin          70\n",
      "2         jack          90\n",
      "3         judy          75\n",
      "4        salad          13\n",
      "5         lily          75\n"
     ]
    }
   ],
   "source": [
    "import pandas as pd\n",
    "\n",
    "df1 = pd.read_csv('append1.csv')\n",
    "df2 = pd.read_csv('append2.csv')\n",
    "\n",
    "\n",
    "print('first dataframe is:')\n",
    "print(df1)\n",
    "\n",
    "print('second dataframe is:')\n",
    "print(df2)\n",
    "\n",
    "df_append = df1.append(df2)\n",
    "print(df_append)\n",
    "\n",
    "df_append = df1.append(df2, ignore_index=True)\n",
    "print(df_append)\n"
   ]
  },
  {
   "cell_type": "markdown",
   "metadata": {},
   "source": [
    "# Groupby"
   ]
  },
  {
   "cell_type": "code",
   "execution_count": 39,
   "metadata": {},
   "outputs": [
    {
     "name": "stdout",
     "output_type": "stream",
     "text": [
      "   Season  Daynum  Wteam  Wscore  Lteam  Lscore Wloc  Numot\n",
      "0    1985      20   1228      81   1328      64    N      0\n",
      "1    1985      25   1106      77   1354      70    H      0\n",
      "2    1985      25   1112      63   1223      56    H      0\n",
      "3    1985      25   1165      70   1432      54    H      0\n",
      "4    1985      25   1192      86   1447      74    H      0\n",
      "         Season   Daynum      Wteam   Wscore      Lteam   Lscore  Numot\n",
      "Wloc                                                                   \n",
      "A      88529580  3491965   56885271  3307504   56745323  2889768   2455\n",
      "H     173076379  6348360  111306614  6722177  110918450  5543282   3160\n",
      "N      29200847  1088868   18754471  1099503   18722264   937656    834\n",
      "======\n",
      "           Season     Daynum        Wteam     Wscore        Lteam     Lscore  \\\n",
      "Wloc                                                                           \n",
      "A     2001.618395  78.951932  1286.153225  74.781343  1282.989057  65.336499   \n",
      "H     2001.554035  73.416059  1287.213216  77.739092  1282.724266  64.105677   \n",
      "N     2001.566043  74.636233  1285.521352  75.365207  1283.313730  64.271437   \n",
      "\n",
      "         Numot  \n",
      "Wloc            \n",
      "A     0.055507  \n",
      "H     0.036544  \n",
      "N     0.057166  \n"
     ]
    }
   ],
   "source": [
    "import pandas as pd\n",
    "\n",
    "df = pd.read_csv('RegularSeasonCompactResults.csv')\n",
    "print(df.head())\n",
    "print(df.groupby('Wloc').sum())\n",
    "print('======')\n",
    "print(df.groupby('Wloc').mean())"
   ]
  },
  {
   "cell_type": "markdown",
   "metadata": {},
   "source": [
    "# Time Series"
   ]
  },
  {
   "cell_type": "code",
   "execution_count": 21,
   "metadata": {},
   "outputs": [
    {
     "name": "stdout",
     "output_type": "stream",
     "text": [
      "2017-06-19 00:00:00\n",
      "2017-06-19 09:13:45\n",
      "2017-06-19 09:13:45\n",
      "======\n",
      "2016-12-09 00:00:00\n",
      "2016-09-12 00:00:00\n",
      "2016-12-09 00:00:00\n",
      "2016-12-09 00:00:00\n"
     ]
    }
   ],
   "source": [
    "import pandas as pd\n",
    "from datetime import datetime as dt\n",
    "p1 = pd.Timestamp(2017,6,19)\n",
    "p2 = pd.Timestamp(dt(2017,6,19,hour=9,minute=13,second=45))\n",
    "p3 = pd.Timestamp(\"2017-6-19 9:13:45\")\n",
    "\n",
    "# different format\n",
    "p4 = pd.to_datetime(\"2016-12-09\")\n",
    "p5 = pd.to_datetime(\"09/12/2016\")\n",
    "p6 = pd.to_datetime(\"09/12/2016\", dayfirst=True)\n",
    "p7 = pd.to_datetime(\"09/12/2016\", format=\"%d/%m/%Y\")\n",
    "\n",
    "print(p1)\n",
    "print(p2)\n",
    "print(p3)\n",
    "\n",
    "print('======')\n",
    "print(p4)\n",
    "print(p5)\n",
    "print(p6)\n",
    "print(p7)"
   ]
  },
  {
   "cell_type": "code",
   "execution_count": 22,
   "metadata": {},
   "outputs": [
    {
     "name": "stdout",
     "output_type": "stream",
     "text": [
      "                         date  battle_deaths\n",
      "0  2014-05-01 18:47:05.069722             34\n",
      "1  2014-05-01 18:47:05.119994             25\n",
      "2  2014-05-02 18:47:05.178768             26\n",
      "3  2014-05-02 18:47:05.230071             15\n",
      "4  2014-05-02 18:47:05.230071             15\n",
      "5  2014-05-02 18:47:05.280592             14\n",
      "6  2014-05-03 18:47:05.332662             26\n",
      "7  2014-05-03 18:47:05.385109             25\n",
      "8  2014-05-04 18:47:05.436523             62\n",
      "9  2014-05-04 18:47:05.486877             41\n",
      "                            battle_deaths\n",
      "date                                     \n",
      "2014-05-01 18:47:05.069722             34\n",
      "2014-05-01 18:47:05.119994             25\n",
      "2014-05-02 18:47:05.178768             26\n",
      "2014-05-02 18:47:05.230071             15\n",
      "2014-05-02 18:47:05.230071             15\n",
      "2014-05-02 18:47:05.280592             14\n",
      "2014-05-03 18:47:05.332662             26\n",
      "2014-05-03 18:47:05.385109             25\n",
      "2014-05-04 18:47:05.436523             62\n",
      "2014-05-04 18:47:05.486877             41\n",
      "                            battle_deaths\n",
      "date                                     \n",
      "2014-05-01 18:47:05.069722             34\n",
      "2014-05-01 18:47:05.119994             25\n",
      "2014-05-02 18:47:05.178768             26\n",
      "2014-05-02 18:47:05.230071             15\n",
      "2014-05-02 18:47:05.230071             15\n",
      "2014-05-02 18:47:05.280592             14\n",
      "2014-05-03 18:47:05.332662             26\n",
      "2014-05-03 18:47:05.385109             25\n",
      "2014-05-04 18:47:05.436523             62\n",
      "2014-05-04 18:47:05.486877             41\n"
     ]
    }
   ],
   "source": [
    "from datetime import datetime\n",
    "import pandas as pd\n",
    "\n",
    "data = {'date': ['2014-05-01 18:47:05.069722', '2014-05-01 18:47:05.119994', '2014-05-02 18:47:05.178768', '2014-05-02 18:47:05.230071', '2014-05-02 18:47:05.230071', '2014-05-02 18:47:05.280592', '2014-05-03 18:47:05.332662', '2014-05-03 18:47:05.385109', '2014-05-04 18:47:05.436523', '2014-05-04 18:47:05.486877'], \n",
    "        'battle_deaths': [34, 25, 26, 15, 15, 14, 26, 25, 62, 41]}\n",
    "df = pd.DataFrame(data, columns = ['date', 'battle_deaths'])\n",
    "print(df)\n",
    "\n",
    "# convert df['date'] from string to datetime\n",
    "df['date'] = pd.to_datetime(df['date'])\n",
    "# set pandas frame index as date\n",
    "df.index = df['date']\n",
    "df = df.drop(['date'], axis=1)\n",
    "print(df)\n",
    "\n",
    "# view all observations that occured in 2014\n",
    "print(df['2014'])\n",
    "\n",
    "# view all observations that occured in May 2014\n",
    "#print(df['2014-05'])\n",
    "\n",
    "# view observations after May 3rd, 2014\n",
    "#print(df[datetime(2014, 5, 3):])\n",
    "\n",
    "# view observations between May 3rd and May 4th\n",
    "#print(df['5/3/2014':'5/4/2014'])"
   ]
  },
  {
   "cell_type": "markdown",
   "metadata": {},
   "source": [
    "# Crawl Data via Pandas "
   ]
  },
  {
   "cell_type": "code",
   "execution_count": 8,
   "metadata": {},
   "outputs": [
    {
     "name": "stdout",
     "output_type": "stream",
     "text": [
      "                        幣別  \\\n",
      "        Unnamed: 0_level_1   \n",
      "0       美金 (USD)  美金 (USD)   \n",
      "1       港幣 (HKD)  港幣 (HKD)   \n",
      "2       英鎊 (GBP)  英鎊 (GBP)   \n",
      "3       澳幣 (AUD)  澳幣 (AUD)   \n",
      "4   加拿大幣 (CAD)  加拿大幣 (CAD)   \n",
      "5   新加坡幣 (SGD)  新加坡幣 (SGD)   \n",
      "6   瑞士法郎 (CHF)  瑞士法郎 (CHF)   \n",
      "7       日圓 (JPY)  日圓 (JPY)   \n",
      "8     南非幣 (ZAR)  南非幣 (ZAR)   \n",
      "9     瑞典幣 (SEK)  瑞典幣 (SEK)   \n",
      "10      紐元 (NZD)  紐元 (NZD)   \n",
      "11      泰幣 (THB)  泰幣 (THB)   \n",
      "12  菲國比索 (PHP)  菲國比索 (PHP)   \n",
      "13    印尼幣 (IDR)  印尼幣 (IDR)   \n",
      "14      歐元 (EUR)  歐元 (EUR)   \n",
      "15      韓元 (KRW)  韓元 (KRW)   \n",
      "16    越南盾 (VND)  越南盾 (VND)   \n",
      "17    馬來幣 (MYR)  馬來幣 (MYR)   \n",
      "18    人民幣 (CNY)  人民幣 (CNY)   \n",
      "\n",
      "                                                                                                 \\\n",
      "   \\n                    \\n                        本行買入\\n                    \\n                   \n",
      "0                                              29.525                                             \n",
      "1                                               3.661                                             \n",
      "2                                               38.85                                             \n",
      "3                                               22.31                                             \n",
      "4                                               22.56                                             \n",
      "5                                               21.84                                             \n",
      "6                                               29.56                                             \n",
      "7                                              0.2618                                             \n",
      "8                                                   -                                             \n",
      "9                                                3.07                                             \n",
      "10                                               20.6                                             \n",
      "11                                             0.8264                                             \n",
      "12                                              0.489                                             \n",
      "13                                            0.00178                                             \n",
      "14                                              34.39                                             \n",
      "15                                            0.02581                                             \n",
      "16                                            0.00094                                             \n",
      "17                                              6.385                                             \n",
      "18                                              4.569                                             \n",
      "\n",
      "                                                                                           現金匯率  \\\n",
      "   \\n                    \\n                        本行賣出\\n                    \\n                   \n",
      "0                                              30.067                                             \n",
      "1                                               3.851                                             \n",
      "2                                               40.78                                             \n",
      "3                                               22.97                                             \n",
      "4                                                23.3                                             \n",
      "5                                               22.62                                             \n",
      "6                                               30.62                                             \n",
      "7                                              0.2728                                             \n",
      "8                                                   -                                             \n",
      "9                                                3.58                                             \n",
      "10                                              21.23                                             \n",
      "11                                             0.9694                                             \n",
      "12                                              0.622                                             \n",
      "13                                            0.00248                                             \n",
      "14                                              35.54                                             \n",
      "15                                            0.02971                                             \n",
      "16                                            0.00144                                             \n",
      "17                                              8.015                                             \n",
      "18                                              4.731                                             \n",
      "\n",
      "                                                                             Unnamed: 3_level_0  \\\n",
      "   \\n                    \\n                        本行買入\\n                    \\n                   \n",
      "0                                              29.825                                             \n",
      "1                                               3.776                                             \n",
      "2                                               39.72                                             \n",
      "3                                                22.5                                             \n",
      "4                                               22.83                                             \n",
      "5                                               22.26                                             \n",
      "6                                               30.09                                             \n",
      "7                                              0.2682                                             \n",
      "8                                                2.19                                             \n",
      "9                                                3.41                                             \n",
      "10                                              20.84                                             \n",
      "11                                             0.9149                                             \n",
      "12                                                  -                                             \n",
      "13                                                  -                                             \n",
      "14                                              34.89                                             \n",
      "15                                                  -                                             \n",
      "16                                                  -                                             \n",
      "17                                                  -                                             \n",
      "18                                              4.641                                             \n",
      "\n",
      "                                                                                           即期匯率  \\\n",
      "   \\n                    \\n                        本行賣出\\n                    \\n                   \n",
      "0                                              29.925                                             \n",
      "1                                               3.836                                             \n",
      "2                                               40.14                                             \n",
      "3                                               22.73                                             \n",
      "4                                               23.05                                             \n",
      "5                                               22.44                                             \n",
      "6                                               30.38                                             \n",
      "7                                              0.2722                                             \n",
      "8                                                2.27                                             \n",
      "9                                                3.51                                             \n",
      "10                                              21.04                                             \n",
      "11                                             0.9549                                             \n",
      "12                                                  -                                             \n",
      "13                                                  -                                             \n",
      "14                                              35.29                                             \n",
      "15                                                  -                                             \n",
      "16                                                  -                                             \n",
      "17                                                  -                                             \n",
      "18                                              4.691                                             \n",
      "\n",
      "   Unnamed: 5_level_0 \\n                    遠期匯率\\n                     歷史匯率  \\\n",
      "   Unnamed: 5_level_1                                         本行買入     本行賣出   \n",
      "0                  查詢                                           查詢   29.525   \n",
      "1                  查詢                                           查詢    3.661   \n",
      "2                  查詢                                           查詢    38.85   \n",
      "3                  查詢                                           查詢    22.31   \n",
      "4                  查詢                                           查詢    22.56   \n",
      "5                  查詢                                           查詢    21.84   \n",
      "6                  查詢                                           查詢    29.56   \n",
      "7                  查詢                                           查詢   0.2618   \n",
      "8                  查詢                                           查詢        -   \n",
      "9                  查詢                                           查詢     3.07   \n",
      "10                 查詢                                           查詢     20.6   \n",
      "11                 查詢                                           查詢   0.8264   \n",
      "12                 查詢                                           查詢    0.489   \n",
      "13                 查詢                                           查詢  0.00178   \n",
      "14                 查詢                                           查詢    34.39   \n",
      "15                 查詢                                           查詢  0.02581   \n",
      "16                 查詢                                           查詢  0.00094   \n",
      "17                 查詢                                           查詢    6.385   \n",
      "18                 查詢                                           查詢    4.569   \n",
      "\n",
      "               現金匯率 Unnamed: 10_level_0                即期匯率  \\\n",
      "       本行買入    本行賣出 Unnamed: 10_level_1 Unnamed: 11_level_1   \n",
      "0    30.067  29.825              29.925                 NaN   \n",
      "1     3.851   3.776               3.836                 NaN   \n",
      "2     40.78   39.72               40.14                 NaN   \n",
      "3     22.97    22.5               22.73                 NaN   \n",
      "4      23.3   22.83               23.05                 NaN   \n",
      "5     22.62   22.26               22.44                 NaN   \n",
      "6     30.62   30.09               30.38                 NaN   \n",
      "7    0.2728  0.2682              0.2722                 NaN   \n",
      "8         -    2.19                2.27                 NaN   \n",
      "9      3.58    3.41                3.51                 NaN   \n",
      "10    21.23   20.84               21.04                 NaN   \n",
      "11   0.9694  0.9149              0.9549                 NaN   \n",
      "12    0.622       -                   -                 NaN   \n",
      "13  0.00248       -                   -                 NaN   \n",
      "14    35.54   34.89               35.29                 NaN   \n",
      "15  0.02971       -                   -                 NaN   \n",
      "16  0.00144       -                   -                 NaN   \n",
      "17    8.015       -                   -                 NaN   \n",
      "18    4.731   4.641               4.691                 NaN   \n",
      "\n",
      "   Unnamed: 12_level_0  \n",
      "   Unnamed: 12_level_1  \n",
      "0                  NaN  \n",
      "1                  NaN  \n",
      "2                  NaN  \n",
      "3                  NaN  \n",
      "4                  NaN  \n",
      "5                  NaN  \n",
      "6                  NaN  \n",
      "7                  NaN  \n",
      "8                  NaN  \n",
      "9                  NaN  \n",
      "10                 NaN  \n",
      "11                 NaN  \n",
      "12                 NaN  \n",
      "13                 NaN  \n",
      "14                 NaN  \n",
      "15                 NaN  \n",
      "16                 NaN  \n",
      "17                 NaN  \n",
      "18                 NaN  \n"
     ]
    }
   ],
   "source": [
    "import pandas as pd\n",
    "url = 'http://rate.bot.com.tw/xrt?Lang=zh-TW'\n",
    "df_list = pd.read_html(url)\n",
    "print(df_list[0])"
   ]
  },
  {
   "cell_type": "markdown",
   "metadata": {
    "collapsed": true
   },
   "source": [
    "# SQL with Pandas"
   ]
  },
  {
   "cell_type": "code",
   "execution_count": 30,
   "metadata": {},
   "outputs": [
    {
     "data": {
      "text/html": [
       "<div>\n",
       "<style>\n",
       "    .dataframe thead tr:only-child th {\n",
       "        text-align: right;\n",
       "    }\n",
       "\n",
       "    .dataframe thead th {\n",
       "        text-align: left;\n",
       "    }\n",
       "\n",
       "    .dataframe tbody tr th {\n",
       "        vertical-align: top;\n",
       "    }\n",
       "</style>\n",
       "<table border=\"1\" class=\"dataframe\">\n",
       "  <thead>\n",
       "    <tr style=\"text-align: right;\">\n",
       "      <th></th>\n",
       "      <th>Season</th>\n",
       "      <th>Daynum</th>\n",
       "      <th>Wteam</th>\n",
       "      <th>Wscore</th>\n",
       "      <th>Lteam</th>\n",
       "      <th>Lscore</th>\n",
       "      <th>Wloc</th>\n",
       "      <th>Numot</th>\n",
       "    </tr>\n",
       "  </thead>\n",
       "  <tbody>\n",
       "    <tr>\n",
       "      <th>0</th>\n",
       "      <td>1985</td>\n",
       "      <td>20</td>\n",
       "      <td>1228</td>\n",
       "      <td>81</td>\n",
       "      <td>1328</td>\n",
       "      <td>64</td>\n",
       "      <td>N</td>\n",
       "      <td>0</td>\n",
       "    </tr>\n",
       "    <tr>\n",
       "      <th>1</th>\n",
       "      <td>1985</td>\n",
       "      <td>25</td>\n",
       "      <td>1106</td>\n",
       "      <td>77</td>\n",
       "      <td>1354</td>\n",
       "      <td>70</td>\n",
       "      <td>H</td>\n",
       "      <td>0</td>\n",
       "    </tr>\n",
       "    <tr>\n",
       "      <th>2</th>\n",
       "      <td>1985</td>\n",
       "      <td>25</td>\n",
       "      <td>1112</td>\n",
       "      <td>63</td>\n",
       "      <td>1223</td>\n",
       "      <td>56</td>\n",
       "      <td>H</td>\n",
       "      <td>0</td>\n",
       "    </tr>\n",
       "    <tr>\n",
       "      <th>3</th>\n",
       "      <td>1985</td>\n",
       "      <td>25</td>\n",
       "      <td>1165</td>\n",
       "      <td>70</td>\n",
       "      <td>1432</td>\n",
       "      <td>54</td>\n",
       "      <td>H</td>\n",
       "      <td>0</td>\n",
       "    </tr>\n",
       "    <tr>\n",
       "      <th>4</th>\n",
       "      <td>1985</td>\n",
       "      <td>25</td>\n",
       "      <td>1192</td>\n",
       "      <td>86</td>\n",
       "      <td>1447</td>\n",
       "      <td>74</td>\n",
       "      <td>H</td>\n",
       "      <td>0</td>\n",
       "    </tr>\n",
       "  </tbody>\n",
       "</table>\n",
       "</div>"
      ],
      "text/plain": [
       "   Season  Daynum  Wteam  Wscore  Lteam  Lscore Wloc  Numot\n",
       "0    1985      20   1228      81   1328      64    N      0\n",
       "1    1985      25   1106      77   1354      70    H      0\n",
       "2    1985      25   1112      63   1223      56    H      0\n",
       "3    1985      25   1165      70   1432      54    H      0\n",
       "4    1985      25   1192      86   1447      74    H      0"
      ]
     },
     "execution_count": 30,
     "metadata": {},
     "output_type": "execute_result"
    }
   ],
   "source": [
    "import pandas as pd\n",
    "import sqlite3 as sql\n",
    "\n",
    "\n",
    "df = pd.read_csv('RegularSeasonCompactResults.csv')\n",
    "df.head()"
   ]
  },
  {
   "cell_type": "code",
   "execution_count": 31,
   "metadata": {
    "collapsed": true
   },
   "outputs": [],
   "source": [
    "# connect to db. if db is not exist, it will create a new one\n",
    "conn = sql.connect(\"db_example.db\")"
   ]
  },
  {
   "cell_type": "code",
   "execution_count": 32,
   "metadata": {
    "collapsed": true
   },
   "outputs": [],
   "source": [
    "# insert dataframe into table. If table exist, it would replace it\n",
    "df.to_sql(\"example_table\", conn, if_exists=\"replace\", index=False)"
   ]
  },
  {
   "cell_type": "code",
   "execution_count": 33,
   "metadata": {},
   "outputs": [
    {
     "name": "stdout",
     "output_type": "stream",
     "text": [
      "   Season  Daynum  Wteam  Wscore  Lteam  Lscore Wloc  Numot\n",
      "0    1985      20   1228      81   1328      64    N      0\n",
      "1    1985      25   1106      77   1354      70    H      0\n",
      "2    1985      25   1112      63   1223      56    H      0\n",
      "3    1985      25   1165      70   1432      54    H      0\n",
      "4    1985      25   1192      86   1447      74    H      0\n"
     ]
    }
   ],
   "source": [
    "# query from DB \n",
    "df_query = pd.read_sql_query(\"select * from example_table;\", conn)\n",
    "print(df_query.head())"
   ]
  },
  {
   "cell_type": "code",
   "execution_count": 34,
   "metadata": {},
   "outputs": [
    {
     "data": {
      "text/plain": [
       "(145289, 8)"
      ]
     },
     "execution_count": 34,
     "metadata": {},
     "output_type": "execute_result"
    }
   ],
   "source": [
    "df.shape"
   ]
  },
  {
   "cell_type": "code",
   "execution_count": 35,
   "metadata": {
    "collapsed": true
   },
   "outputs": [],
   "source": [
    "# insert dataframe into table. If table exist, it would replace it\n",
    "df.to_sql(\"example_table\", conn, if_exists=\"append\", index=False)"
   ]
  },
  {
   "cell_type": "code",
   "execution_count": 36,
   "metadata": {},
   "outputs": [
    {
     "name": "stdout",
     "output_type": "stream",
     "text": [
      "(290578, 8)\n"
     ]
    }
   ],
   "source": [
    "df_query = pd.read_sql_query(\"select * from example_table;\", conn)\n",
    "print(df_query.shape)"
   ]
  },
  {
   "cell_type": "code",
   "execution_count": null,
   "metadata": {
    "collapsed": true
   },
   "outputs": [],
   "source": []
  }
 ],
 "metadata": {
  "kernelspec": {
   "display_name": "Python 3",
   "language": "python",
   "name": "python3"
  },
  "language_info": {
   "codemirror_mode": {
    "name": "ipython",
    "version": 3
   },
   "file_extension": ".py",
   "mimetype": "text/x-python",
   "name": "python",
   "nbconvert_exporter": "python",
   "pygments_lexer": "ipython3",
   "version": "3.6.3"
  }
 },
 "nbformat": 4,
 "nbformat_minor": 2
}
