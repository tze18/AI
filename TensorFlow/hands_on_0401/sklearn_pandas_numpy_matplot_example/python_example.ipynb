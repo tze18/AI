{
 "cells": [
  {
   "cell_type": "markdown",
   "metadata": {},
   "source": [
    "# Python Hello World "
   ]
  },
  {
   "cell_type": "code",
   "execution_count": 1,
   "metadata": {},
   "outputs": [
    {
     "name": "stdout",
     "output_type": "stream",
     "text": [
      "Hello World!\n"
     ]
    }
   ],
   "source": [
    "# -*- coding: UTF-8 -*-\n",
    "\n",
    "# this is single line comment\n",
    "'''\n",
    "this is multiple line comment\n",
    "'''\n",
    "\n",
    "print('Hello World!')"
   ]
  },
  {
   "cell_type": "markdown",
   "metadata": {},
   "source": [
    "# Print Format  \n",
    "ref: https://pyformat.info/"
   ]
  },
  {
   "cell_type": "code",
   "execution_count": 12,
   "metadata": {},
   "outputs": [
    {
     "name": "stdout",
     "output_type": "stream",
     "text": [
      "a = 3, b = 5\n",
      "a = 3, b = 5\n",
      "The value of pi is approximately 3.142\n",
      "isaac      ==>       1234\n"
     ]
    }
   ],
   "source": [
    "a = 3 \n",
    "b = 5\n",
    "pi = 3.1415926\n",
    "name = 'isaac'\n",
    "phone = 1234\n",
    "print('a = {}, b = {}'.format(a,b))\n",
    "print('a = {1}, b = {0}'.format(b,a))\n",
    "print('The value of pi is approximately {0:.3f}'.format(pi))\n",
    "print('{0:10} ==> {1:10d}'.format(name, phone))"
   ]
  },
  {
   "cell_type": "markdown",
   "metadata": {},
   "source": [
    "# Common Type"
   ]
  },
  {
   "cell_type": "code",
   "execution_count": 2,
   "metadata": {},
   "outputs": [
    {
     "name": "stdout",
     "output_type": "stream",
     "text": [
      "<class 'int'>\n",
      "<class 'float'>\n",
      "<class 'complex'>\n",
      "<class 'str'>\n",
      "<class 'list'>\n",
      "<class 'dict'>\n"
     ]
    }
   ],
   "source": [
    "a = 13\n",
    "b = 9.0\n",
    "c = 1+2j\n",
    "d = 'hello python'\n",
    "e = [1 ,2 ,3]\n",
    "f = {1: 'apple', 2: 'banana'}\n",
    "\n",
    "print(type(a))\n",
    "print(type(b))\n",
    "print(type(c))\n",
    "print(type(d))\n",
    "print(type(e))\n",
    "print(type(f))"
   ]
  },
  {
   "cell_type": "markdown",
   "metadata": {},
   "source": [
    "# Numeric Type: int/float/complex"
   ]
  },
  {
   "cell_type": "code",
   "execution_count": 4,
   "metadata": {},
   "outputs": [
    {
     "name": "stdout",
     "output_type": "stream",
     "text": [
      "int: a= 3, b=-2\n",
      "float: a= 3.0, b=-2.3\n",
      "complex: a= (1+2j), b=(3-4j)\n"
     ]
    }
   ],
   "source": [
    "# integer\n",
    "a = 3\n",
    "b = -2\n",
    "print('int: a= {}, b={}'.format(a,b))\n",
    "# float\n",
    "a = 3.0\n",
    "b = -2.3\n",
    "print('float: a= {}, b={}'.format(a,b))\n",
    "\n",
    "# complex\n",
    "a = 1+2j\n",
    "b = 3-4j\n",
    "print('complex: a= {}, b={}'.format(a,b))"
   ]
  },
  {
   "cell_type": "markdown",
   "metadata": {},
   "source": [
    "# Arithmetic Operators"
   ]
  },
  {
   "cell_type": "code",
   "execution_count": 5,
   "metadata": {},
   "outputs": [
    {
     "name": "stdout",
     "output_type": "stream",
     "text": [
      "x+y=8\n",
      "x-y=2\n",
      "x*y=15\n",
      "x/y=1.6666666666666667\n",
      "x//y=1\n",
      "x%y=2\n",
      "x**y=125\n"
     ]
    }
   ],
   "source": [
    "x = 5\n",
    "y = 3\n",
    "\n",
    "add_result = x + y \n",
    "sub_result = x - y \n",
    "mul_result = x * y \n",
    "div_result = x / y \n",
    "int_div_result = x //y\n",
    "mod_result = x %y\n",
    "exp_result = x**y\n",
    "\n",
    "print('x+y={}'.format(add_result))\n",
    "print('x-y={}'.format(sub_result))\n",
    "print('x*y={}'.format(mul_result))\n",
    "print('x/y={}'.format(div_result))\n",
    "print('x//y={}'.format(int_div_result))\n",
    "print('x%y={}'.format(mod_result))\n",
    "print('x**y={}'.format(exp_result))"
   ]
  },
  {
   "cell_type": "markdown",
   "metadata": {},
   "source": [
    "# Relational Operators"
   ]
  },
  {
   "cell_type": "code",
   "execution_count": 7,
   "metadata": {},
   "outputs": [
    {
     "name": "stdout",
     "output_type": "stream",
     "text": [
      "False\n",
      "True\n",
      "True\n",
      "True\n"
     ]
    }
   ],
   "source": [
    "x = 3\n",
    "y = 7\n",
    "z = 3.0\n",
    "\n",
    "print(x>y)\n",
    "print(x<y)\n",
    "print(x!=y)\n",
    "print(x==z)"
   ]
  },
  {
   "cell_type": "markdown",
   "metadata": {},
   "source": [
    "# Boolean Operators"
   ]
  },
  {
   "cell_type": "code",
   "execution_count": 10,
   "metadata": {},
   "outputs": [
    {
     "name": "stdout",
     "output_type": "stream",
     "text": [
      "False\n",
      "True\n",
      "False\n",
      "False\n",
      "True\n",
      "False\n",
      "False\n"
     ]
    }
   ],
   "source": [
    "x = True\n",
    "y = False\n",
    "z = False\n",
    "\n",
    "print(x and y)\n",
    "print(x or y or z)\n",
    "print(not x)\n",
    "print((not x) and y)\n",
    "print(True or False)\n",
    "print(True and False)\n",
    "print(not True)"
   ]
  },
  {
   "cell_type": "markdown",
   "metadata": {},
   "source": [
    "# Compound Type: List"
   ]
  },
  {
   "cell_type": "code",
   "execution_count": 31,
   "metadata": {},
   "outputs": [
    {
     "name": "stdout",
     "output_type": "stream",
     "text": [
      "my_list[0]=1, my_list[1]=9, my_list[-1]=-6\n",
      "len(my_list)=5\n",
      "max(my_list)=10, min(my_list)=-6\n",
      "[1, 9, 10, 3, -6, 4, -2, 7, -9, 10]\n",
      "[1, 9, 10, 3, -6, 4, -2, 1, 9, 10, 3, -6, 4, -2]\n",
      "[10, 3, -6]\n",
      "[1, 3, 5, [2, 4, 6]]\n",
      "[1, 3, 5, 2, 4, 6]\n",
      "[1, 3]\n",
      "[3, 5]\n",
      "[2, 1, 3, 5]\n",
      "[1, 3, 5, 5]\n",
      "[5, 5, 5, 3, 1]\n",
      "[1, 2, 4, 5, 6, 8, 9]\n"
     ]
    }
   ],
   "source": [
    "my_list1 = [1, 9, 10, 3, -6, 4 , -2]\n",
    "my_list2 = [7, -9, 10]\n",
    "\n",
    "print('my_list[0]={}, my_list[1]={}, my_list[-1]={}'.format(my_list[0], my_list[1], my_list[-1]))\n",
    "#my_list[7] #example of exceed range of list\n",
    "\n",
    "print('len(my_list)={}'.format(len(my_list)))\n",
    "print('max(my_list)={}, min(my_list)={}'.format(max(my_list), min(my_list)))\n",
    "\n",
    "my_list3 = my_list1+ my_list2\n",
    "print(my_list3)\n",
    "\n",
    "my_list3 = my_list1*2 # list repetition\n",
    "print(my_list3)\n",
    "\n",
    "my_list3 = my_list1[2:5] # index 2, ....4\n",
    "print(my_list3)\n",
    "\n",
    "#my_list3 = del my_list1[1:3] # delete the value on index 0~3 of list a1\n",
    "#print(my_list3)\n",
    "\n",
    "# common function in list\n",
    "a1 = [1, 3, 5]\n",
    "a2 = [2, 4, 6]\n",
    "a1.append(a2) #Append\n",
    "print(a1)\n",
    "\n",
    "a1 = [1, 3, 5]\n",
    "a2 = [2, 4, 6]\n",
    "a1.extend(a2) # Extend\n",
    "print(a1)\n",
    "\n",
    "a3 = [1, 3, 5]\n",
    "a3.pop() # pop the last index value\n",
    "print(a3)\n",
    "\n",
    "a3 = [1, 3, 5]\n",
    "a3.pop(0) # pop the first index value\n",
    "print(a3)\n",
    "\n",
    "a3 = [1, 3, 5]\n",
    "a3.insert(0, 2) # insert 2 to the first index value\n",
    "print(a3)\n",
    "\n",
    "a3 = [1, 3, 5, 5, 5]\n",
    "a3.index(5) # Return the first index of the input value\n",
    "\n",
    "a3 = [1, 3, 5, 5, 5]\n",
    "a3.count(5) # Return the total number of the input value in the list\n",
    "\n",
    "\n",
    "\n",
    "a3 = [1, 3, 5, 5, 5]\n",
    "a3.remove(5) # Remove one of the 5\n",
    "print(a3)\n",
    "\n",
    "a3 = [1, 3, 5, 5, 5]\n",
    "a3.reverse()\n",
    "print(a3)\n",
    "\n",
    "a3 = [8, 5, 2, 4, 1, 6, 9]\n",
    "a3.sort() # sort the list\n",
    "print(a3)"
   ]
  },
  {
   "cell_type": "markdown",
   "metadata": {},
   "source": [
    "# Compound Type: Tuple"
   ]
  },
  {
   "cell_type": "code",
   "execution_count": 4,
   "metadata": {},
   "outputs": [
    {
     "name": "stdout",
     "output_type": "stream",
     "text": [
      "my_tuple: (1, 3, -2, 7, -10)\n",
      "my_tuple[0] = 1, my_tuple[-1] = -10\n"
     ]
    },
    {
     "ename": "AttributeError",
     "evalue": "'tuple' object has no attribute 'insert'",
     "output_type": "error",
     "traceback": [
      "\u001b[0;31m---------------------------------------------------------------------------\u001b[0m",
      "\u001b[0;31mAttributeError\u001b[0m                            Traceback (most recent call last)",
      "\u001b[0;32m<ipython-input-4-8225d2bebe8f>\u001b[0m in \u001b[0;36m<module>\u001b[0;34m()\u001b[0m\n\u001b[1;32m      5\u001b[0m \u001b[0mprint\u001b[0m\u001b[0;34m(\u001b[0m\u001b[0;34m\"my_tuple[0] = {}, my_tuple[-1] = {}\"\u001b[0m\u001b[0;34m.\u001b[0m\u001b[0mformat\u001b[0m\u001b[0;34m(\u001b[0m\u001b[0mmy_tuple\u001b[0m\u001b[0;34m[\u001b[0m\u001b[0;36m0\u001b[0m\u001b[0;34m]\u001b[0m\u001b[0;34m,\u001b[0m \u001b[0mmy_tuple\u001b[0m\u001b[0;34m[\u001b[0m\u001b[0;34m-\u001b[0m\u001b[0;36m1\u001b[0m\u001b[0;34m]\u001b[0m\u001b[0;34m)\u001b[0m\u001b[0;34m)\u001b[0m\u001b[0;34m\u001b[0m\u001b[0m\n\u001b[1;32m      6\u001b[0m \u001b[0;34m\u001b[0m\u001b[0m\n\u001b[0;32m----> 7\u001b[0;31m \u001b[0mmy_tuple\u001b[0m\u001b[0;34m.\u001b[0m\u001b[0minsert\u001b[0m\u001b[0;34m(\u001b[0m\u001b[0;36m5\u001b[0m\u001b[0;34m)\u001b[0m\u001b[0;34m\u001b[0m\u001b[0m\n\u001b[0m\u001b[1;32m      8\u001b[0m \u001b[0mprint\u001b[0m\u001b[0;34m(\u001b[0m\u001b[0;34m\"my_tuple: {}\"\u001b[0m\u001b[0;34m.\u001b[0m\u001b[0mformat\u001b[0m\u001b[0;34m(\u001b[0m\u001b[0mmy_tuple\u001b[0m\u001b[0;34m)\u001b[0m\u001b[0;34m)\u001b[0m\u001b[0;34m\u001b[0m\u001b[0m\n\u001b[1;32m      9\u001b[0m \u001b[0;34m\u001b[0m\u001b[0m\n",
      "\u001b[0;31mAttributeError\u001b[0m: 'tuple' object has no attribute 'insert'"
     ]
    }
   ],
   "source": [
    "my_list = [1, 3, -2, 7, -10]\n",
    "my_tuple = tuple(my_list)\n",
    "print(\"my_tuple: {}\".format(my_tuple))\n",
    "\n",
    "print(\"my_tuple[0] = {}, my_tuple[-1] = {}\".format(my_tuple[0], my_tuple[-1]))\n",
    "\n",
    "#my_tuple.insert(5)\n",
    "#my_tuple.sort()\n"
   ]
  },
  {
   "cell_type": "markdown",
   "metadata": {},
   "source": [
    "# Compound Type: Dict"
   ]
  },
  {
   "cell_type": "code",
   "execution_count": 9,
   "metadata": {},
   "outputs": [
    {
     "name": "stdout",
     "output_type": "stream",
     "text": [
      "{'Isaac': 98, 'Kevin': 87, 'Cindy': 78}\n",
      "{'Isaac': 98, 'Kevin': 87, 'Cindy': 78}\n",
      "{}\n",
      "98\n",
      "dict_items([('Isaac', 98), ('Kevin', 87), ('Cindy', 78)])\n",
      "dict_keys(['Isaac', 'Kevin', 'Cindy'])\n",
      "dict_values([98, 87, 78])\n"
     ]
    }
   ],
   "source": [
    "my_dict = {} # grade = dict()\n",
    "\n",
    "my_dict['Isaac'] = 98\n",
    "my_dict['Kevin'] = 87\n",
    "my_dict['Cindy'] = 78\n",
    "\n",
    "print(my_dict)\n",
    "\n",
    "my_dict2 = my_dict.copy()\n",
    "print(my_dict2)\n",
    "\n",
    "my_dict.clear()\n",
    "print(my_dict)\n",
    "\n",
    "# get key's value\n",
    "print(my_dict2.get('Isaac'))\n",
    "\n",
    "print(my_dict2.items()) # return all dict contents as a list of (key, value)\n",
    "\n",
    "print(my_dict2.keys()) # return keys as list\n",
    "print(my_dict2.values()) # return values as list"
   ]
  },
  {
   "cell_type": "markdown",
   "metadata": {},
   "source": [
    "# Compound Type: Set"
   ]
  },
  {
   "cell_type": "code",
   "execution_count": 10,
   "metadata": {},
   "outputs": [
    {
     "name": "stdout",
     "output_type": "stream",
     "text": [
      "{2}\n",
      "{1, 2, 3, 4, 6}\n",
      "{1, 3, 4, 6}\n"
     ]
    }
   ],
   "source": [
    "my_set1 = {2, 4, 6}\n",
    "my_set2 = {1, 2, 3}\n",
    "\n",
    "my_set3 = my_set1 & my_set2 # AND\n",
    "print(my_set3)\n",
    "\n",
    "my_set3 = my_set1 | my_set2 # AND\n",
    "print(my_set3)\n",
    "\n",
    "my_set3 = my_set1 ^ my_set2 # AND\n",
    "print(my_set3)\n"
   ]
  },
  {
   "cell_type": "markdown",
   "metadata": {},
   "source": [
    "# Compound Type: String"
   ]
  },
  {
   "cell_type": "code",
   "execution_count": 20,
   "metadata": {},
   "outputs": [
    {
     "name": "stdout",
     "output_type": "stream",
     "text": [
      "my_string[0] = h, my_string[-1] = !\n",
      "len(my_string) = 18\n",
      "hello, I am Andy!\n",
      "['hello,', 'I', 'am', 'Isaac!']\n",
      "hello, i am isaac!\n",
      "HELLO, I AM ISAAC!\n",
      "a-b-c\n",
      "Hello, World!\n"
     ]
    }
   ],
   "source": [
    "my_string = 'hello, I am Isaac!'\n",
    "print('my_string[0] = {}, my_string[-1] = {}'.format(my_string[0], my_string[-1]))\n",
    "\n",
    "print('len(my_string) = {}'.format(len(my_string)))\n",
    "\n",
    "replace_string = my_string.replace('Isaac', 'Andy')\n",
    "print(replace_string)\n",
    "\n",
    "split_string = my_string.split(' ')\n",
    "print(split_string)\n",
    "\n",
    "lower_string = my_string.lower()\n",
    "print(lower_string)\n",
    "\n",
    "upper_string = my_string.upper()\n",
    "print(upper_string)\n",
    "\n",
    "s = '-'\n",
    "my_list = [\"a\", \"b\", \"c\"] # This is sequence of strings.\n",
    "print(s.join(my_list))\n",
    "\n",
    "s = \" Hello, World!\\n\"\n",
    "print(s.strip()) # returns \"Hello, World!\" "
   ]
  },
  {
   "cell_type": "markdown",
   "metadata": {},
   "source": [
    "# Convertion between Different Type"
   ]
  },
  {
   "cell_type": "code",
   "execution_count": 8,
   "metadata": {},
   "outputs": [
    {
     "name": "stdout",
     "output_type": "stream",
     "text": [
      "<class 'str'>\n",
      "<class 'float'>\n",
      "<class 'list'>\n",
      "30\n",
      "30.0\n",
      "['3', '0']\n"
     ]
    }
   ],
   "source": [
    "a_int = '30'\n",
    "\n",
    "a_string = str(a_int)\n",
    "a_float = float(a_int)\n",
    "a_list = list(a_int)\n",
    "\n",
    "print(type(a_string))\n",
    "print(type(a_float))\n",
    "print(type(a_list))\n",
    "\n",
    "print(a_string)\n",
    "print(a_float)\n",
    "print(a_list)"
   ]
  },
  {
   "cell_type": "markdown",
   "metadata": {},
   "source": [
    "# Conditional Statement"
   ]
  },
  {
   "cell_type": "code",
   "execution_count": 3,
   "metadata": {},
   "outputs": [
    {
     "name": "stdout",
     "output_type": "stream",
     "text": [
      "a<b\n",
      "x % 3 ==2\n",
      "this if condition would always be executed!\n"
     ]
    }
   ],
   "source": [
    "a = 5\n",
    "b = 10\n",
    "\n",
    "if a >= b:\n",
    "    print('a>=b')\n",
    "else:\n",
    "    print('a<b')\n",
    "    \n",
    "\n",
    "x = 11\n",
    "\n",
    "if x % 3 ==0:\n",
    "    print('x % 3 ==0')    \n",
    "elif x % 3 ==1:\n",
    "    print('x % 3 ==1')\n",
    "elif x % 3 ==2:\n",
    "    print('x % 3 ==2')\n",
    "\n",
    "if True:\n",
    "    print('this if condition would always be executed!')\n"
   ]
  },
  {
   "cell_type": "markdown",
   "metadata": {},
   "source": [
    "# For Loop"
   ]
  },
  {
   "cell_type": "code",
   "execution_count": 16,
   "metadata": {},
   "outputs": [
    {
     "name": "stdout",
     "output_type": "stream",
     "text": [
      "0 1 2 3 4 5 6 7 8 9 \n",
      "1 2 3 4 5 6 7 8 9 \n",
      "0 5 10 15 20 25 \n",
      "apple banana pineapple \n",
      "0 apple 1 banana 2 pineapple "
     ]
    }
   ],
   "source": [
    "for i in range(0,10):\n",
    "    print('{} '.format(i), end='')\n",
    "\n",
    "print('')\n",
    "for i in range(1,10):\n",
    "    print('{} '.format(i), end='')\n",
    "\n",
    "print('')\n",
    "for i in range(0,30,5):\n",
    "    print('{} '.format(i), end='')\n",
    "\n",
    "print('')\n",
    "\n",
    "my_list = ['apple', 'banana', 'pineapple']\n",
    "for i in my_list:\n",
    "    print('{} '.format(i), end='')\n",
    "print('')\n",
    "for i, j in enumerate(my_list):\n",
    "    print('{} {} '.format(i, j), end='')\n",
    "\n",
    "## while loop\n"
   ]
  },
  {
   "cell_type": "markdown",
   "metadata": {},
   "source": [
    "# While Loop"
   ]
  },
  {
   "cell_type": "code",
   "execution_count": 9,
   "metadata": {},
   "outputs": [
    {
     "name": "stdout",
     "output_type": "stream",
     "text": [
      "5050\n",
      "1 2 3 4 5 6 7 8 9 10 11 12 13 14 15 16 17 18 19 20 21 22 23 24 25 26 27 28 29 30 31 32 33 34 35 36 37 38 39 40 41 42 43 44 45 46 47 48 49 50 51 "
     ]
    }
   ],
   "source": [
    "s = 0\n",
    "i = 0\n",
    "while i < 101:\n",
    "    s = s + i\n",
    "    i = i + 1\n",
    "print(s)\n",
    "\n",
    "i = 0\n",
    "while True:\n",
    "    if i > 50:\n",
    "        break\n",
    "    i = i + 1\n",
    "    print('{} '.format(i), end='')"
   ]
  },
  {
   "cell_type": "markdown",
   "metadata": {},
   "source": [
    "# Continue and Break"
   ]
  },
  {
   "cell_type": "code",
   "execution_count": 15,
   "metadata": {},
   "outputs": [
    {
     "name": "stdout",
     "output_type": "stream",
     "text": [
      "012345\n",
      "012346789"
     ]
    }
   ],
   "source": [
    "for i in range(10):\n",
    "    if i > 5:\n",
    "        break\n",
    "    print(i, end='')\n",
    "\n",
    "\n",
    "print('')\n",
    "\n",
    "for i in range(10):\n",
    "    if i == 5:\n",
    "        continue\n",
    "    print(i, end='')\n",
    "\n"
   ]
  },
  {
   "cell_type": "markdown",
   "metadata": {},
   "source": [
    "# Try/Except"
   ]
  },
  {
   "cell_type": "code",
   "execution_count": 10,
   "metadata": {},
   "outputs": [
    {
     "name": "stdout",
     "output_type": "stream",
     "text": [
      "exception\n"
     ]
    }
   ],
   "source": [
    "a = 22\n",
    "b = 0\n",
    " \n",
    "try:\n",
    "    c = a/b\n",
    "except:\n",
    "    print(\"exception\")\n",
    " "
   ]
  },
  {
   "cell_type": "markdown",
   "metadata": {},
   "source": [
    "# Function"
   ]
  },
  {
   "cell_type": "code",
   "execution_count": 1,
   "metadata": {},
   "outputs": [
    {
     "name": "stdout",
     "output_type": "stream",
     "text": [
      "********\n",
      "=====\n",
      "average of the list is -1.75\n"
     ]
    }
   ],
   "source": [
    "def print_star():\n",
    "    print('********')\n",
    "\n",
    "    return\n",
    "\n",
    "print_star()\n",
    "\n",
    "print('=====')\n",
    "\n",
    "def list_average(my_list):\n",
    "    s = 0\n",
    "    for i in my_list:\n",
    "        s = s + i\n",
    "    return s/len(my_list)\n",
    "\n",
    "my_list = [1,3, -2, -9]\n",
    "\n",
    "result =list_average(my_list)\n",
    "\n",
    "print('average of the list is {}'.format(result))"
   ]
  },
  {
   "cell_type": "markdown",
   "metadata": {},
   "source": [
    "# I/O Manipulation"
   ]
  },
  {
   "cell_type": "code",
   "execution_count": 20,
   "metadata": {},
   "outputs": [
    {
     "name": "stdout",
     "output_type": "stream",
     "text": [
      "file name: sample.txt \n",
      "========\n",
      "Python is an interpr\n",
      "========\n",
      "eted high-level programming language for general-purpose programming. Created by Guido van Rossum and first released in 1991, Python has a design philosophy that emphasizes code readability, notably using significant whitespace. It provides constructs that enable clear programming on both small and large scales.\n",
      "Python features a dynamic type system and automatic memory management. It supports multiple programming paradigms, including object-oriented, imperative, functional and procedural, and has a large and comprehensive standard library.\n",
      "Python interpreters are available for many operating systems. CPython, the reference implementation of Python, is open source software[28] and has a community-based development model, as do nearly all of its variant implementations. CPython is managed by the non-profit Python Software Foundation.\n",
      "\n",
      "\n",
      "\n",
      "Python is an interpreted high-level programming language for general-purpose programming. Created by Guido van Rossum and first released in 1991, Python has a design philosophy that emphasizes code readability, notably using significant whitespace. It provides constructs that enable clear programming on both small and large scales.\n",
      "\n",
      "Python features a dynamic type system and automatic memory management. It supports multiple programming paradigms, including object-oriented, imperative, functional and procedural, and has a large and comprehensive standard library.\n",
      "\n",
      "Python interpreters are available for many operating systems. CPython, the reference implementation of Python, is open source software[28] and has a community-based development model, as do nearly all of its variant implementations. CPython is managed by the non-profit Python Software Foundation.\n",
      "\n",
      "\n",
      "\n",
      "\n",
      "\n"
     ]
    }
   ],
   "source": [
    "f = open(\"sample.txt\", \"r\")\n",
    "\n",
    "print(\"file name: {} \".format(f.name))\n",
    "print('========')\n",
    "text = f.read(20)\n",
    "print(text)\n",
    "print('========')\n",
    "text = f.read()\n",
    "print(text)\n",
    "\n",
    "f.close()\n",
    "\n",
    "f = open(\"sample.txt\", \"r\")\n",
    "for line in open('sample.txt'):  \n",
    "    line = f.readline()  \n",
    "    print(line)  "
   ]
  },
  {
   "cell_type": "code",
   "execution_count": 3,
   "metadata": {
    "collapsed": true
   },
   "outputs": [],
   "source": [
    "f = open(\"write.txt\", \"w\")\n",
    "\n",
    "text = 'I love python!\\n'\n",
    "f.write(text)\n",
    "\n",
    "f.close()"
   ]
  },
  {
   "cell_type": "code",
   "execution_count": 4,
   "metadata": {
    "collapsed": true
   },
   "outputs": [],
   "source": [
    "f = open(\"write.txt\", \"a\")\n",
    "\n",
    "text = 'this is append line\\n'\n",
    "f.write(text)\n",
    "\n",
    "f.close()"
   ]
  },
  {
   "cell_type": "code",
   "execution_count": null,
   "metadata": {
    "collapsed": true
   },
   "outputs": [],
   "source": []
  }
 ],
 "metadata": {
  "kernelspec": {
   "display_name": "Python 3",
   "language": "python",
   "name": "python3"
  },
  "language_info": {
   "codemirror_mode": {
    "name": "ipython",
    "version": 3
   },
   "file_extension": ".py",
   "mimetype": "text/x-python",
   "name": "python",
   "nbconvert_exporter": "python",
   "pygments_lexer": "ipython3",
   "version": "3.6.3"
  }
 },
 "nbformat": 4,
 "nbformat_minor": 2
}
