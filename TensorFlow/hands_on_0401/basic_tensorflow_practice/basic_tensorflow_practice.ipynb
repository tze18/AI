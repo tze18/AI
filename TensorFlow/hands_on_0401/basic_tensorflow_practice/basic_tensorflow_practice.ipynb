{
 "cells": [
  {
   "cell_type": "markdown",
   "metadata": {},
   "source": [
    "# Calculate two matrix multiplication"
   ]
  },
  {
   "cell_type": "code",
   "execution_count": 2,
   "metadata": {},
   "outputs": [
    {
     "name": "stdout",
     "output_type": "stream",
     "text": [
      "matrix multiplication: [[-29.699999  14.599999]\n",
      " [ 36.       -20.      ]]\n",
      "\n"
     ]
    }
   ],
   "source": [
    "import tensorflow as tf\n",
    "\n",
    "# create two 2*2 constand matrix and do matrix multiplication\n",
    "#[[-1, 2.1]]\n",
    "#[[1,-3]]\n",
    "\n",
    "#[[15, -2]]\n",
    "#[[-7, 6]]\n"
   ]
  },
  {
   "cell_type": "markdown",
   "metadata": {},
   "source": [
    "# Calculate two matrix element-wise multiplication"
   ]
  },
  {
   "cell_type": "code",
   "execution_count": 4,
   "metadata": {},
   "outputs": [
    {
     "name": "stdout",
     "output_type": "stream",
     "text": [
      "matrix element-wise multiplication: [[-15.   -4.2]\n",
      " [ -7.  -18. ]]\n",
      "\n"
     ]
    }
   ],
   "source": [
    "import tensorflow as tf\n",
    "\n",
    "# create two 2*2 constand matrix and do matrix multiplication\n",
    "#[[-1, 2.1]]\n",
    "#[[1,-3]]\n",
    "\n",
    "#[[15, -2]]\n",
    "#[[-7, 6]]\n"
   ]
  },
  {
   "cell_type": "markdown",
   "metadata": {},
   "source": [
    "# Write a program that use placeholder to feed (x, y) and rotate 45 degree coordinates "
   ]
  },
  {
   "cell_type": "code",
   "execution_count": 26,
   "metadata": {},
   "outputs": [
    {
     "name": "stdout",
     "output_type": "stream",
     "text": [
      "[[0.707]\n",
      " [0.707]]\n"
     ]
    }
   ],
   "source": [
    "import tensorflow as tf\n",
    "\n",
    "\n",
    "with tf.Session() as sess:\n",
    "    x = 1\n",
    "    y = 0\n",
    "    print(sess.run(result_coordinates, feed_dict={origin_coordinates:[[x],[y]]}))\n"
   ]
  },
  {
   "cell_type": "markdown",
   "metadata": {},
   "source": [
    "# Create two random tensor and both have shape (3,3). Calculate root square of a difference element-wise on these two matrix \n",
    "## hint: use tf.pow and tf.sqrt"
   ]
  },
  {
   "cell_type": "code",
   "execution_count": 11,
   "metadata": {},
   "outputs": [
    {
     "name": "stdout",
     "output_type": "stream",
     "text": [
      "[[0.18729803 0.23631772 0.00465428]\n",
      " [0.26278216 0.08099772 0.13290967]\n",
      " [0.02926729 0.38658166 0.06597317]]\n"
     ]
    }
   ],
   "source": [
    "import tensorflow as tf\n",
    "tensor1 = tf.random_normal([3,3], stddev=0.1, seed=1)\n",
    "tensor2 = tf.random_normal([3,3], stddev=0.1, seed=3)\n",
    "\n",
    "with tf.Session() as sess:\n",
    "\n",
    "    print(sess.run(distance))"
   ]
  },
  {
   "cell_type": "markdown",
   "metadata": {},
   "source": [
    "# Create two random vector and both have shape (2,1). Calculate manhattan distance between these two vector  \n",
    "## hint: use tf.abs"
   ]
  },
  {
   "cell_type": "code",
   "execution_count": 12,
   "metadata": {},
   "outputs": [
    {
     "name": "stdout",
     "output_type": "stream",
     "text": [
      "0.42361575\n"
     ]
    }
   ],
   "source": [
    "import tensorflow as tf\n",
    "\n",
    "vector1 = tf.random_normal([2,1], stddev=0.1, seed=1)\n",
    "vector2 = tf.random_normal([2,1], stddev=0.1, seed=3)\n",
    "\n"
   ]
  },
  {
   "cell_type": "markdown",
   "metadata": {},
   "source": [
    "# Given two vector, determine if each element in two vector is the same. If yes, return True, else return False\n",
    "\n",
    "## hint: tf.equal "
   ]
  },
  {
   "cell_type": "code",
   "execution_count": 20,
   "metadata": {},
   "outputs": [
    {
     "name": "stdout",
     "output_type": "stream",
     "text": [
      "[[False False False  True]]\n"
     ]
    }
   ],
   "source": [
    "import tensorflow as tf\n",
    "pred = tf.constant([[0.1, 0.1, 0.2, 0.6]], dtype=tf.float32)\n",
    "label = tf.constant([[0, 0, 0, 0.6]], dtype=tf.float32) \n",
    "\n"
   ]
  },
  {
   "cell_type": "markdown",
   "metadata": {},
   "source": [
    "# Implement Leaky relu\n",
    "## ref: https://www.tensorflow.org/api_docs/python/tf/nn/leaky_relu\n",
    "\n",
    "![alt text](./images/leaky_relu.png \"Logo Title Text 1\")"
   ]
  },
  {
   "cell_type": "code",
   "execution_count": 24,
   "metadata": {},
   "outputs": [
    {
     "name": "stdout",
     "output_type": "stream",
     "text": [
      "[ 0.1  -0.1  -0.04  0.6 ]\n"
     ]
    }
   ],
   "source": [
    "import tensorflow as tf\n",
    "\n",
    "def my_leaky_relu(x, alpha=0.2):\n",
    "    # write your code\n",
    "    return\n",
    "v1 = tf.constant([0.1, -0.5, -0.2, 0.6])\n",
    "\n",
    "result = my_leaky_relu(v1, alpha=0.2)\n",
    "\n",
    "with tf.Session() as sess:\n",
    "    sess.run(tf.global_variables_initializer())\n",
    "    print(sess.run(result))                \n",
    "                 "
   ]
  },
  {
   "cell_type": "markdown",
   "metadata": {},
   "source": [
    "# minimize function f(x) = (x1-2)^4+(x1-2*x2)^2 (assum initial x1=0, x2=3)"
   ]
  },
  {
   "cell_type": "code",
   "execution_count": 3,
   "metadata": {},
   "outputs": [
    {
     "name": "stdout",
     "output_type": "stream",
     "text": [
      "when x1 = 1.836273431777954, x2 = 0.9172961711883545,  f have min value 0.0007214085198938847\n"
     ]
    }
   ],
   "source": [
    "import tensorflow as tf\n",
    "\n",
    "learning_rate = 0.01\n",
    "  \n",
    "    \n",
    "    \n",
    "    print('when x1 = {}, x2 = {},  f have min value {}'.format(x1_, x2_, f_))"
   ]
  },
  {
   "cell_type": "markdown",
   "metadata": {},
   "source": [
    "# Linear regression to  House Price Dataset\n",
    "ref: https://www.kaggle.com/c/boston-housing"
   ]
  },
  {
   "cell_type": "code",
   "execution_count": 128,
   "metadata": {},
   "outputs": [],
   "source": [
    "# Import Dependencies\n",
    "import numpy as np\n",
    "import pandas as pd\n",
    "from sklearn.datasets import load_boston\n",
    "import tensorflow as tf\n",
    "import matplotlib.pyplot as plt\n",
    "%matplotlib inline\n",
    "\n",
    "# Load Data\n",
    "# Load Dataset\n",
    "boston = load_boston()"
   ]
  },
  {
   "cell_type": "code",
   "execution_count": 129,
   "metadata": {},
   "outputs": [
    {
     "data": {
      "text/html": [
       "<div>\n",
       "<style scoped>\n",
       "    .dataframe tbody tr th:only-of-type {\n",
       "        vertical-align: middle;\n",
       "    }\n",
       "\n",
       "    .dataframe tbody tr th {\n",
       "        vertical-align: top;\n",
       "    }\n",
       "\n",
       "    .dataframe thead tr th {\n",
       "        text-align: left;\n",
       "    }\n",
       "</style>\n",
       "<table border=\"1\" class=\"dataframe\">\n",
       "  <thead>\n",
       "    <tr>\n",
       "      <th></th>\n",
       "      <th>CRIM</th>\n",
       "      <th>ZN</th>\n",
       "      <th>INDUS</th>\n",
       "      <th>CHAS</th>\n",
       "      <th>NOX</th>\n",
       "      <th>RM</th>\n",
       "      <th>AGE</th>\n",
       "      <th>DIS</th>\n",
       "      <th>RAD</th>\n",
       "      <th>TAX</th>\n",
       "      <th>PTRATIO</th>\n",
       "      <th>B</th>\n",
       "      <th>LSTAT</th>\n",
       "    </tr>\n",
       "  </thead>\n",
       "  <tbody>\n",
       "    <tr>\n",
       "      <th>0</th>\n",
       "      <td>0.00632</td>\n",
       "      <td>18.0</td>\n",
       "      <td>2.31</td>\n",
       "      <td>0.0</td>\n",
       "      <td>0.538</td>\n",
       "      <td>6.575</td>\n",
       "      <td>65.2</td>\n",
       "      <td>4.0900</td>\n",
       "      <td>1.0</td>\n",
       "      <td>296.0</td>\n",
       "      <td>15.3</td>\n",
       "      <td>396.90</td>\n",
       "      <td>4.98</td>\n",
       "    </tr>\n",
       "    <tr>\n",
       "      <th>1</th>\n",
       "      <td>0.02731</td>\n",
       "      <td>0.0</td>\n",
       "      <td>7.07</td>\n",
       "      <td>0.0</td>\n",
       "      <td>0.469</td>\n",
       "      <td>6.421</td>\n",
       "      <td>78.9</td>\n",
       "      <td>4.9671</td>\n",
       "      <td>2.0</td>\n",
       "      <td>242.0</td>\n",
       "      <td>17.8</td>\n",
       "      <td>396.90</td>\n",
       "      <td>9.14</td>\n",
       "    </tr>\n",
       "    <tr>\n",
       "      <th>2</th>\n",
       "      <td>0.02729</td>\n",
       "      <td>0.0</td>\n",
       "      <td>7.07</td>\n",
       "      <td>0.0</td>\n",
       "      <td>0.469</td>\n",
       "      <td>7.185</td>\n",
       "      <td>61.1</td>\n",
       "      <td>4.9671</td>\n",
       "      <td>2.0</td>\n",
       "      <td>242.0</td>\n",
       "      <td>17.8</td>\n",
       "      <td>392.83</td>\n",
       "      <td>4.03</td>\n",
       "    </tr>\n",
       "    <tr>\n",
       "      <th>3</th>\n",
       "      <td>0.03237</td>\n",
       "      <td>0.0</td>\n",
       "      <td>2.18</td>\n",
       "      <td>0.0</td>\n",
       "      <td>0.458</td>\n",
       "      <td>6.998</td>\n",
       "      <td>45.8</td>\n",
       "      <td>6.0622</td>\n",
       "      <td>3.0</td>\n",
       "      <td>222.0</td>\n",
       "      <td>18.7</td>\n",
       "      <td>394.63</td>\n",
       "      <td>2.94</td>\n",
       "    </tr>\n",
       "    <tr>\n",
       "      <th>4</th>\n",
       "      <td>0.06905</td>\n",
       "      <td>0.0</td>\n",
       "      <td>2.18</td>\n",
       "      <td>0.0</td>\n",
       "      <td>0.458</td>\n",
       "      <td>7.147</td>\n",
       "      <td>54.2</td>\n",
       "      <td>6.0622</td>\n",
       "      <td>3.0</td>\n",
       "      <td>222.0</td>\n",
       "      <td>18.7</td>\n",
       "      <td>396.90</td>\n",
       "      <td>5.33</td>\n",
       "    </tr>\n",
       "  </tbody>\n",
       "</table>\n",
       "</div>"
      ],
      "text/plain": [
       "      CRIM    ZN INDUS CHAS    NOX     RM   AGE     DIS  RAD    TAX PTRATIO  \\\n",
       "0  0.00632  18.0  2.31  0.0  0.538  6.575  65.2  4.0900  1.0  296.0    15.3   \n",
       "1  0.02731   0.0  7.07  0.0  0.469  6.421  78.9  4.9671  2.0  242.0    17.8   \n",
       "2  0.02729   0.0  7.07  0.0  0.469  7.185  61.1  4.9671  2.0  242.0    17.8   \n",
       "3  0.03237   0.0  2.18  0.0  0.458  6.998  45.8  6.0622  3.0  222.0    18.7   \n",
       "4  0.06905   0.0  2.18  0.0  0.458  7.147  54.2  6.0622  3.0  222.0    18.7   \n",
       "\n",
       "        B LSTAT  \n",
       "0  396.90  4.98  \n",
       "1  396.90  9.14  \n",
       "2  392.83  4.03  \n",
       "3  394.63  2.94  \n",
       "4  396.90  5.33  "
      ]
     },
     "execution_count": 129,
     "metadata": {},
     "output_type": "execute_result"
    }
   ],
   "source": [
    "# Seperate Data into Features and Labels and load them as a Pandas Dataframe\n",
    "# Features\n",
    "features_df = pd.DataFrame(np.array(boston.data), columns=[boston.feature_names])\n",
    "\n",
    "features_df.head()"
   ]
  },
  {
   "cell_type": "code",
   "execution_count": 130,
   "metadata": {},
   "outputs": [
    {
     "data": {
      "text/html": [
       "<div>\n",
       "<style scoped>\n",
       "    .dataframe tbody tr th:only-of-type {\n",
       "        vertical-align: middle;\n",
       "    }\n",
       "\n",
       "    .dataframe tbody tr th {\n",
       "        vertical-align: top;\n",
       "    }\n",
       "\n",
       "    .dataframe thead th {\n",
       "        text-align: right;\n",
       "    }\n",
       "</style>\n",
       "<table border=\"1\" class=\"dataframe\">\n",
       "  <thead>\n",
       "    <tr style=\"text-align: right;\">\n",
       "      <th></th>\n",
       "      <th>labels</th>\n",
       "    </tr>\n",
       "  </thead>\n",
       "  <tbody>\n",
       "    <tr>\n",
       "      <th>0</th>\n",
       "      <td>24.0</td>\n",
       "    </tr>\n",
       "    <tr>\n",
       "      <th>1</th>\n",
       "      <td>21.6</td>\n",
       "    </tr>\n",
       "    <tr>\n",
       "      <th>2</th>\n",
       "      <td>34.7</td>\n",
       "    </tr>\n",
       "    <tr>\n",
       "      <th>3</th>\n",
       "      <td>33.4</td>\n",
       "    </tr>\n",
       "    <tr>\n",
       "      <th>4</th>\n",
       "      <td>36.2</td>\n",
       "    </tr>\n",
       "  </tbody>\n",
       "</table>\n",
       "</div>"
      ],
      "text/plain": [
       "   labels\n",
       "0    24.0\n",
       "1    21.6\n",
       "2    34.7\n",
       "3    33.4\n",
       "4    36.2"
      ]
     },
     "execution_count": 130,
     "metadata": {},
     "output_type": "execute_result"
    }
   ],
   "source": [
    "# Labels\n",
    "labels_df = pd.DataFrame(np.array(boston.target), columns=['labels'])\n",
    "labels_df.head()"
   ]
  },
  {
   "cell_type": "code",
   "execution_count": 131,
   "metadata": {},
   "outputs": [],
   "source": [
    "# Train Test Split\n",
    "from sklearn.model_selection import train_test_split\n",
    "# Train Test Split\n",
    "# Training Data = 80% of Dataset\n",
    "# Test Data = 20% of Dataset\n",
    "X_train, X_test, y_train, y_test = train_test_split(features_df, labels_df, test_size=0.2, random_state=101)\n"
   ]
  },
  {
   "cell_type": "code",
   "execution_count": 132,
   "metadata": {},
   "outputs": [],
   "source": [
    "# Normalize Data\n",
    "from sklearn.preprocessing import StandardScaler\n",
    "# Define the Preprocessing Method and Fit Training Data to it\n",
    "scaler = StandardScaler()\n",
    "scaler.fit(X_train)\n",
    "# Make X_train to be the Scaled Version of Data\n",
    "# This process scales all the values in all 6 columns and replaces them with the new values\n",
    "X_train = pd.DataFrame(data=scaler.transform(X_train), columns=X_train.columns, index=X_train.index)\n",
    "# Converting from Pandas Dataframe to Numpy Arrays\n",
    "X_train = np.array(X_train)\n",
    "y_train = np.array(y_train)"
   ]
  },
  {
   "cell_type": "code",
   "execution_count": 133,
   "metadata": {},
   "outputs": [],
   "source": [
    "# Apply same Normalization for Test Features\n",
    "scal = StandardScaler()\n",
    "scal.fit(X_test)\n",
    "\n",
    "\n",
    "# Make X_test to be the Scaled Version of Data\n",
    "# This process scales all the values in all columns and replaces them with the new values\n",
    "X_test = pd.DataFrame(data=scal.transform(X_test), columns=X_test.columns, index=X_test.index)\n",
    "\n",
    "\n",
    "# Convert test features and Labels to Numpy Arrays\n",
    "X_test = np.array(X_test)\n",
    "y_test = np.array(y_test)"
   ]
  },
  {
   "cell_type": "code",
   "execution_count": 134,
   "metadata": {},
   "outputs": [
    {
     "name": "stdout",
     "output_type": "stream",
     "text": [
      "Epoch: 0, Error: 585.472412109375\n",
      "Epoch: 100, Error: 39.73207473754883\n",
      "Epoch: 200, Error: 20.127155303955078\n",
      "Epoch: 300, Error: 19.24439239501953\n",
      "Epoch: 400, Error: 19.204633712768555\n",
      "Epoch: 500, Error: 19.202842712402344\n",
      "Epoch: 600, Error: 19.202762603759766\n",
      "Epoch: 700, Error: 19.202756881713867\n",
      "Epoch: 800, Error: 19.202756881713867\n",
      "Epoch: 900, Error: 19.202756881713867\n",
      "Epoch: 1000, Error: 19.202756881713867\n"
     ]
    }
   ],
   "source": [
    "# Define TensorFlow Model\n",
    "\n",
    "# write your code here"
   ]
  },
  {
   "cell_type": "code",
   "execution_count": 135,
   "metadata": {},
   "outputs": [
    {
     "name": "stdout",
     "output_type": "stream",
     "text": [
      "Trained Weights: \n",
      " [[-0.7803232 ]\n",
      " [ 0.95225394]\n",
      " [ 0.11739694]\n",
      " [ 0.7653042 ]\n",
      " [-1.7784487 ]\n",
      " [ 2.6996262 ]\n",
      " [-0.02095268]\n",
      " [-3.0123353 ]\n",
      " [ 2.3134327 ]\n",
      " [-1.7682384 ]\n",
      " [-1.9098078 ]\n",
      " [ 0.7654348 ]\n",
      " [-3.7617311 ]]\n",
      "Trained Bias: \n",
      " [22.33682 22.33682 22.33682 22.33682 22.33682 22.33682 22.33682 22.33682\n",
      " 22.33682 22.33682 22.33682 22.33682 22.33682]\n"
     ]
    }
   ],
   "source": [
    "# New Value of Weights \n",
    "print('Trained Weights: \\n', new_W)\n",
    "# New Value of Biases\n",
    "print('Trained Bias: \\n', new_b)"
   ]
  },
  {
   "cell_type": "code",
   "execution_count": 136,
   "metadata": {},
   "outputs": [
    {
     "name": "stdout",
     "output_type": "stream",
     "text": [
      "Predicted Values: \n",
      " [[37.8146   37.8146   37.8146   ... 37.8146   37.8146   37.8146  ]\n",
      " [26.755474 26.755474 26.755474 ... 26.755474 26.755474 26.755474]\n",
      " [16.889269 16.889269 16.889269 ... 16.889269 16.889269 16.889269]\n",
      " ...\n",
      " [20.348286 20.348286 20.348286 ... 20.348286 20.348286 20.348286]\n",
      " [31.685427 31.685427 31.685427 ... 31.685427 31.685427 31.685427]\n",
      " [21.353415 21.353415 21.353415 ... 21.353415 21.353415 21.353415]]\n"
     ]
    }
   ],
   "source": [
    "# Predicted Values\n",
    "print('Predicted Values: \\n',y_pred)"
   ]
  },
  {
   "cell_type": "code",
   "execution_count": 137,
   "metadata": {},
   "outputs": [
    {
     "name": "stdout",
     "output_type": "stream",
     "text": [
      "Mean Squared Error [TF Session]:  34.86722843859739\n"
     ]
    }
   ],
   "source": [
    "# Mean Squared Error\n",
    "print('Mean Squared Error [TF Session]: ',mse)"
   ]
  },
  {
   "cell_type": "code",
   "execution_count": 138,
   "metadata": {},
   "outputs": [
    {
     "data": {
      "image/png": "[encoded data removed]",
      "text/plain": [
       "<Figure size 432x288 with 1 Axes>"
      ]
     },
     "metadata": {},
     "output_type": "display_data"
    }
   ],
   "source": [
    "plt.plot(range(len(cost_history)),cost_history)\n",
    "plt.axis([0,epochs,0,np.max(cost_history)])\n",
    "plt.xlabel('Epochs')\n",
    "plt.ylabel('Cost')\n",
    "plt.title('Cost vs Epochs', fontsize=25)\n",
    "plt.show()"
   ]
  },
  {
   "cell_type": "code",
   "execution_count": null,
   "metadata": {},
   "outputs": [],
   "source": []
  }
 ],
 "metadata": {
  "kernelspec": {
   "display_name": "Python 3",
   "language": "python",
   "name": "python3"
  },
  "language_info": {
   "codemirror_mode": {
    "name": "ipython",
    "version": 3
   },
   "file_extension": ".py",
   "mimetype": "text/x-python",
   "name": "python",
   "nbconvert_exporter": "python",
   "pygments_lexer": "ipython3",
   "version": "3.6.5"
  }
 },
 "nbformat": 4,
 "nbformat_minor": 2
}
